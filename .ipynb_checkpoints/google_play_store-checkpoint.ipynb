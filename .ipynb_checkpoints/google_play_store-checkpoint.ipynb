{
 "cells": [
  {
   "cell_type": "code",
   "execution_count": 1,
   "metadata": {},
   "outputs": [],
   "source": [
    "# Business understanding\n",
    "# Data understanding\n",
    "# Data preparation\n",
    "# Modeling\n",
    "# Evaluation\n",
    "# /49864_274957_bundle_archive/googleplaystore.csv"
   ]
  },
  {
   "cell_type": "code",
   "execution_count": 528,
   "metadata": {},
   "outputs": [],
   "source": [
    "import pandas as pd\n",
    "import numpy as np\n",
    "# import matplotlib as plt\n",
    "import matplotlib.pyplot as plt\n",
    "import seaborn as sns\n",
    "from datetime import datetime as dt\n",
    "\n",
    "%matplotlib inline\n",
    "sns.set(rc={'figure.figsize':(11.7,8.27)})"
   ]
  },
  {
   "cell_type": "code",
   "execution_count": 529,
   "metadata": {},
   "outputs": [],
   "source": [
    "df = pd.read_csv('49864_274957_bundle_archive/googleplaystore.csv')"
   ]
  },
  {
   "cell_type": "markdown",
   "metadata": {},
   "source": [
    "# Inspection 👀"
   ]
  },
  {
   "cell_type": "code",
   "execution_count": 530,
   "metadata": {},
   "outputs": [
    {
     "data": {
      "text/html": [
       "<div>\n",
       "<style scoped>\n",
       "    .dataframe tbody tr th:only-of-type {\n",
       "        vertical-align: middle;\n",
       "    }\n",
       "\n",
       "    .dataframe tbody tr th {\n",
       "        vertical-align: top;\n",
       "    }\n",
       "\n",
       "    .dataframe thead th {\n",
       "        text-align: right;\n",
       "    }\n",
       "</style>\n",
       "<table border=\"1\" class=\"dataframe\">\n",
       "  <thead>\n",
       "    <tr style=\"text-align: right;\">\n",
       "      <th></th>\n",
       "      <th>App</th>\n",
       "      <th>Category</th>\n",
       "      <th>Rating</th>\n",
       "      <th>Reviews</th>\n",
       "      <th>Size</th>\n",
       "      <th>Installs</th>\n",
       "      <th>Type</th>\n",
       "      <th>Price</th>\n",
       "      <th>Content Rating</th>\n",
       "      <th>Genres</th>\n",
       "      <th>Last Updated</th>\n",
       "      <th>Current Ver</th>\n",
       "      <th>Android Ver</th>\n",
       "    </tr>\n",
       "  </thead>\n",
       "  <tbody>\n",
       "    <tr>\n",
       "      <th>0</th>\n",
       "      <td>Photo Editor &amp; Candy Camera &amp; Grid &amp; ScrapBook</td>\n",
       "      <td>ART_AND_DESIGN</td>\n",
       "      <td>4.1</td>\n",
       "      <td>159</td>\n",
       "      <td>19M</td>\n",
       "      <td>10,000+</td>\n",
       "      <td>Free</td>\n",
       "      <td>0</td>\n",
       "      <td>Everyone</td>\n",
       "      <td>Art &amp; Design</td>\n",
       "      <td>January 7, 2018</td>\n",
       "      <td>1.0.0</td>\n",
       "      <td>4.0.3 and up</td>\n",
       "    </tr>\n",
       "    <tr>\n",
       "      <th>1</th>\n",
       "      <td>Coloring book moana</td>\n",
       "      <td>ART_AND_DESIGN</td>\n",
       "      <td>3.9</td>\n",
       "      <td>967</td>\n",
       "      <td>14M</td>\n",
       "      <td>500,000+</td>\n",
       "      <td>Free</td>\n",
       "      <td>0</td>\n",
       "      <td>Everyone</td>\n",
       "      <td>Art &amp; Design;Pretend Play</td>\n",
       "      <td>January 15, 2018</td>\n",
       "      <td>2.0.0</td>\n",
       "      <td>4.0.3 and up</td>\n",
       "    </tr>\n",
       "    <tr>\n",
       "      <th>2</th>\n",
       "      <td>U Launcher Lite – FREE Live Cool Themes, Hide ...</td>\n",
       "      <td>ART_AND_DESIGN</td>\n",
       "      <td>4.7</td>\n",
       "      <td>87510</td>\n",
       "      <td>8.7M</td>\n",
       "      <td>5,000,000+</td>\n",
       "      <td>Free</td>\n",
       "      <td>0</td>\n",
       "      <td>Everyone</td>\n",
       "      <td>Art &amp; Design</td>\n",
       "      <td>August 1, 2018</td>\n",
       "      <td>1.2.4</td>\n",
       "      <td>4.0.3 and up</td>\n",
       "    </tr>\n",
       "    <tr>\n",
       "      <th>3</th>\n",
       "      <td>Sketch - Draw &amp; Paint</td>\n",
       "      <td>ART_AND_DESIGN</td>\n",
       "      <td>4.5</td>\n",
       "      <td>215644</td>\n",
       "      <td>25M</td>\n",
       "      <td>50,000,000+</td>\n",
       "      <td>Free</td>\n",
       "      <td>0</td>\n",
       "      <td>Teen</td>\n",
       "      <td>Art &amp; Design</td>\n",
       "      <td>June 8, 2018</td>\n",
       "      <td>Varies with device</td>\n",
       "      <td>4.2 and up</td>\n",
       "    </tr>\n",
       "    <tr>\n",
       "      <th>4</th>\n",
       "      <td>Pixel Draw - Number Art Coloring Book</td>\n",
       "      <td>ART_AND_DESIGN</td>\n",
       "      <td>4.3</td>\n",
       "      <td>967</td>\n",
       "      <td>2.8M</td>\n",
       "      <td>100,000+</td>\n",
       "      <td>Free</td>\n",
       "      <td>0</td>\n",
       "      <td>Everyone</td>\n",
       "      <td>Art &amp; Design;Creativity</td>\n",
       "      <td>June 20, 2018</td>\n",
       "      <td>1.1</td>\n",
       "      <td>4.4 and up</td>\n",
       "    </tr>\n",
       "  </tbody>\n",
       "</table>\n",
       "</div>"
      ],
      "text/plain": [
       "                                                 App        Category  Rating  \\\n",
       "0     Photo Editor & Candy Camera & Grid & ScrapBook  ART_AND_DESIGN     4.1   \n",
       "1                                Coloring book moana  ART_AND_DESIGN     3.9   \n",
       "2  U Launcher Lite – FREE Live Cool Themes, Hide ...  ART_AND_DESIGN     4.7   \n",
       "3                              Sketch - Draw & Paint  ART_AND_DESIGN     4.5   \n",
       "4              Pixel Draw - Number Art Coloring Book  ART_AND_DESIGN     4.3   \n",
       "\n",
       "  Reviews  Size     Installs  Type Price Content Rating  \\\n",
       "0     159   19M      10,000+  Free     0       Everyone   \n",
       "1     967   14M     500,000+  Free     0       Everyone   \n",
       "2   87510  8.7M   5,000,000+  Free     0       Everyone   \n",
       "3  215644   25M  50,000,000+  Free     0           Teen   \n",
       "4     967  2.8M     100,000+  Free     0       Everyone   \n",
       "\n",
       "                      Genres      Last Updated         Current Ver  \\\n",
       "0               Art & Design   January 7, 2018               1.0.0   \n",
       "1  Art & Design;Pretend Play  January 15, 2018               2.0.0   \n",
       "2               Art & Design    August 1, 2018               1.2.4   \n",
       "3               Art & Design      June 8, 2018  Varies with device   \n",
       "4    Art & Design;Creativity     June 20, 2018                 1.1   \n",
       "\n",
       "    Android Ver  \n",
       "0  4.0.3 and up  \n",
       "1  4.0.3 and up  \n",
       "2  4.0.3 and up  \n",
       "3    4.2 and up  \n",
       "4    4.4 and up  "
      ]
     },
     "execution_count": 530,
     "metadata": {},
     "output_type": "execute_result"
    }
   ],
   "source": [
    "df.head()"
   ]
  },
  {
   "cell_type": "code",
   "execution_count": 531,
   "metadata": {},
   "outputs": [
    {
     "name": "stdout",
     "output_type": "stream",
     "text": [
      "<class 'pandas.core.frame.DataFrame'>\n",
      "RangeIndex: 10841 entries, 0 to 10840\n",
      "Data columns (total 13 columns):\n",
      " #   Column          Non-Null Count  Dtype  \n",
      "---  ------          --------------  -----  \n",
      " 0   App             10841 non-null  object \n",
      " 1   Category        10841 non-null  object \n",
      " 2   Rating          9367 non-null   float64\n",
      " 3   Reviews         10841 non-null  object \n",
      " 4   Size            10841 non-null  object \n",
      " 5   Installs        10841 non-null  object \n",
      " 6   Type            10840 non-null  object \n",
      " 7   Price           10841 non-null  object \n",
      " 8   Content Rating  10840 non-null  object \n",
      " 9   Genres          10841 non-null  object \n",
      " 10  Last Updated    10841 non-null  object \n",
      " 11  Current Ver     10833 non-null  object \n",
      " 12  Android Ver     10838 non-null  object \n",
      "dtypes: float64(1), object(12)\n",
      "memory usage: 1.1+ MB\n"
     ]
    }
   ],
   "source": [
    "df.info()"
   ]
  },
  {
   "cell_type": "code",
   "execution_count": 532,
   "metadata": {},
   "outputs": [
    {
     "data": {
      "image/png": "[encoded data removed]",
      "text/plain": [
       "<Figure size 842.4x595.44 with 1 Axes>"
      ]
     },
     "metadata": {},
     "output_type": "display_data"
    }
   ],
   "source": [
    "df.isna().sum().plot.bar();"
   ]
  },
  {
   "cell_type": "code",
   "execution_count": 533,
   "metadata": {},
   "outputs": [
    {
     "data": {
      "text/html": [
       "<div>\n",
       "<style scoped>\n",
       "    .dataframe tbody tr th:only-of-type {\n",
       "        vertical-align: middle;\n",
       "    }\n",
       "\n",
       "    .dataframe tbody tr th {\n",
       "        vertical-align: top;\n",
       "    }\n",
       "\n",
       "    .dataframe thead th {\n",
       "        text-align: right;\n",
       "    }\n",
       "</style>\n",
       "<table border=\"1\" class=\"dataframe\">\n",
       "  <thead>\n",
       "    <tr style=\"text-align: right;\">\n",
       "      <th></th>\n",
       "      <th>App</th>\n",
       "      <th>Category</th>\n",
       "      <th>Rating</th>\n",
       "      <th>Reviews</th>\n",
       "      <th>Size</th>\n",
       "      <th>Installs</th>\n",
       "      <th>Type</th>\n",
       "      <th>Price</th>\n",
       "      <th>Content Rating</th>\n",
       "      <th>Genres</th>\n",
       "      <th>Last Updated</th>\n",
       "      <th>Current Ver</th>\n",
       "      <th>Android Ver</th>\n",
       "    </tr>\n",
       "  </thead>\n",
       "  <tbody>\n",
       "    <tr>\n",
       "      <th>37</th>\n",
       "      <td>Floor Plan Creator</td>\n",
       "      <td>ART_AND_DESIGN</td>\n",
       "      <td>4.1</td>\n",
       "      <td>36639</td>\n",
       "      <td>Varies with device</td>\n",
       "      <td>5,000,000+</td>\n",
       "      <td>Free</td>\n",
       "      <td>0</td>\n",
       "      <td>Everyone</td>\n",
       "      <td>Art &amp; Design</td>\n",
       "      <td>July 14, 2018</td>\n",
       "      <td>Varies with device</td>\n",
       "      <td>2.3.3 and up</td>\n",
       "    </tr>\n",
       "    <tr>\n",
       "      <th>42</th>\n",
       "      <td>Textgram - write on photos</td>\n",
       "      <td>ART_AND_DESIGN</td>\n",
       "      <td>4.4</td>\n",
       "      <td>295221</td>\n",
       "      <td>Varies with device</td>\n",
       "      <td>10,000,000+</td>\n",
       "      <td>Free</td>\n",
       "      <td>0</td>\n",
       "      <td>Everyone</td>\n",
       "      <td>Art &amp; Design</td>\n",
       "      <td>July 30, 2018</td>\n",
       "      <td>Varies with device</td>\n",
       "      <td>Varies with device</td>\n",
       "    </tr>\n",
       "    <tr>\n",
       "      <th>52</th>\n",
       "      <td>Used Cars and Trucks for Sale</td>\n",
       "      <td>AUTO_AND_VEHICLES</td>\n",
       "      <td>4.6</td>\n",
       "      <td>17057</td>\n",
       "      <td>Varies with device</td>\n",
       "      <td>1,000,000+</td>\n",
       "      <td>Free</td>\n",
       "      <td>0</td>\n",
       "      <td>Everyone</td>\n",
       "      <td>Auto &amp; Vehicles</td>\n",
       "      <td>July 30, 2018</td>\n",
       "      <td>Varies with device</td>\n",
       "      <td>Varies with device</td>\n",
       "    </tr>\n",
       "    <tr>\n",
       "      <th>67</th>\n",
       "      <td>Ulysse Speedometer</td>\n",
       "      <td>AUTO_AND_VEHICLES</td>\n",
       "      <td>4.3</td>\n",
       "      <td>40211</td>\n",
       "      <td>Varies with device</td>\n",
       "      <td>5,000,000+</td>\n",
       "      <td>Free</td>\n",
       "      <td>0</td>\n",
       "      <td>Everyone</td>\n",
       "      <td>Auto &amp; Vehicles</td>\n",
       "      <td>July 30, 2018</td>\n",
       "      <td>Varies with device</td>\n",
       "      <td>Varies with device</td>\n",
       "    </tr>\n",
       "    <tr>\n",
       "      <th>68</th>\n",
       "      <td>REPUVE</td>\n",
       "      <td>AUTO_AND_VEHICLES</td>\n",
       "      <td>3.9</td>\n",
       "      <td>356</td>\n",
       "      <td>Varies with device</td>\n",
       "      <td>100,000+</td>\n",
       "      <td>Free</td>\n",
       "      <td>0</td>\n",
       "      <td>Everyone</td>\n",
       "      <td>Auto &amp; Vehicles</td>\n",
       "      <td>May 25, 2018</td>\n",
       "      <td>Varies with device</td>\n",
       "      <td>Varies with device</td>\n",
       "    </tr>\n",
       "  </tbody>\n",
       "</table>\n",
       "</div>"
      ],
      "text/plain": [
       "                              App           Category  Rating Reviews  \\\n",
       "37             Floor Plan Creator     ART_AND_DESIGN     4.1   36639   \n",
       "42     Textgram - write on photos     ART_AND_DESIGN     4.4  295221   \n",
       "52  Used Cars and Trucks for Sale  AUTO_AND_VEHICLES     4.6   17057   \n",
       "67             Ulysse Speedometer  AUTO_AND_VEHICLES     4.3   40211   \n",
       "68                         REPUVE  AUTO_AND_VEHICLES     3.9     356   \n",
       "\n",
       "                  Size     Installs  Type Price Content Rating  \\\n",
       "37  Varies with device   5,000,000+  Free     0       Everyone   \n",
       "42  Varies with device  10,000,000+  Free     0       Everyone   \n",
       "52  Varies with device   1,000,000+  Free     0       Everyone   \n",
       "67  Varies with device   5,000,000+  Free     0       Everyone   \n",
       "68  Varies with device     100,000+  Free     0       Everyone   \n",
       "\n",
       "             Genres   Last Updated         Current Ver         Android Ver  \n",
       "37     Art & Design  July 14, 2018  Varies with device        2.3.3 and up  \n",
       "42     Art & Design  July 30, 2018  Varies with device  Varies with device  \n",
       "52  Auto & Vehicles  July 30, 2018  Varies with device  Varies with device  \n",
       "67  Auto & Vehicles  July 30, 2018  Varies with device  Varies with device  \n",
       "68  Auto & Vehicles   May 25, 2018  Varies with device  Varies with device  "
      ]
     },
     "execution_count": 533,
     "metadata": {},
     "output_type": "execute_result"
    }
   ],
   "source": [
    "df[df['Size'] == 'Varies with device'].head()"
   ]
  },
  {
   "cell_type": "code",
   "execution_count": 534,
   "metadata": {},
   "outputs": [
    {
     "data": {
      "text/plain": [
       "0.15635089013928605"
      ]
     },
     "execution_count": 534,
     "metadata": {},
     "output_type": "execute_result"
    }
   ],
   "source": [
    "len(df[df['Size'] == 'Varies with device']) / len(df)"
   ]
  },
  {
   "cell_type": "markdown",
   "metadata": {},
   "source": [
    "# Springcleaning 🧹"
   ]
  },
  {
   "cell_type": "code",
   "execution_count": 535,
   "metadata": {},
   "outputs": [],
   "source": [
    "def clean_size(string):\n",
    "    \n",
    "    '''\n",
    "    func standarises storage units and excludes 'Varies with device'\n",
    "    INPUT: string - storage units include M, k and 'Varies with device'\n",
    "    OUTPUT: float\n",
    "    \n",
    "    '''\n",
    "    \n",
    "    if string == 'Varies with device':\n",
    "        num = np.nan\n",
    "    elif string[-1] == 'M':\n",
    "        num = float(string.split('M')[0])\n",
    "    elif string[-1] == 'k':\n",
    "        num = float(string.split('k')[0]) * 0.001\n",
    "    else:\n",
    "        num = np.nan\n",
    "    return num"
   ]
  },
  {
   "cell_type": "code",
   "execution_count": 536,
   "metadata": {},
   "outputs": [],
   "source": [
    "def clean_installs(string):\n",
    "    \n",
    "    '''\n",
    "    func removes '+' symbol from string objects\n",
    "    \n",
    "    '''\n",
    "    \n",
    "    if len(string) > 0:\n",
    "        string = string[:-1].replace(',', '')\n",
    "        return (string)\n",
    "    else:\n",
    "        pass"
   ]
  },
  {
   "cell_type": "code",
   "execution_count": 537,
   "metadata": {},
   "outputs": [],
   "source": [
    "def clean_price(string):\n",
    "    \n",
    "    '''\n",
    "    func removes '$' symbol from string objects\n",
    "\n",
    "    '''\n",
    "    try:\n",
    "        return float(string.replace('$', ''))\n",
    "    except ValueError:\n",
    "        return np.nan"
   ]
  },
  {
   "cell_type": "code",
   "execution_count": 538,
   "metadata": {},
   "outputs": [],
   "source": [
    "def clean_date(string):\n",
    "    \n",
    "    '''\n",
    "    func converts string object to date\n",
    "    INPUT: string with strptime format '%B %d %Y'\n",
    "    OUTPUT: datetime object\n",
    "    \n",
    "    '''\n",
    "    try:\n",
    "        string = string.replace(',','')\n",
    "        date_time_str = string\n",
    "        date_time_obj = dt.strptime(date_time_str, '%B %d %Y')\n",
    "        return date_time_obj\n",
    "    except ValueError:\n",
    "        return np.nan"
   ]
  },
  {
   "cell_type": "code",
   "execution_count": 539,
   "metadata": {},
   "outputs": [
    {
     "name": "stdout",
     "output_type": "stream",
     "text": [
      "<class 'pandas.core.frame.DataFrame'>\n",
      "RangeIndex: 10841 entries, 0 to 10840\n",
      "Data columns (total 13 columns):\n",
      " #   Column          Non-Null Count  Dtype  \n",
      "---  ------          --------------  -----  \n",
      " 0   App             10841 non-null  object \n",
      " 1   Category        10841 non-null  object \n",
      " 2   Rating          9367 non-null   float64\n",
      " 3   Reviews         10841 non-null  object \n",
      " 4   Size            10841 non-null  object \n",
      " 5   Installs        10841 non-null  object \n",
      " 6   Type            10840 non-null  object \n",
      " 7   Price           10841 non-null  object \n",
      " 8   Content Rating  10840 non-null  object \n",
      " 9   Genres          10841 non-null  object \n",
      " 10  Last Updated    10841 non-null  object \n",
      " 11  Current Ver     10833 non-null  object \n",
      " 12  Android Ver     10838 non-null  object \n",
      "dtypes: float64(1), object(12)\n",
      "memory usage: 1.1+ MB\n"
     ]
    }
   ],
   "source": [
    "df.info()"
   ]
  },
  {
   "cell_type": "code",
   "execution_count": 540,
   "metadata": {},
   "outputs": [],
   "source": [
    "df['Reviews'] = pd.to_numeric(df['Reviews'], errors='coerce')"
   ]
  },
  {
   "cell_type": "code",
   "execution_count": 541,
   "metadata": {},
   "outputs": [],
   "source": [
    "df['Size'] = df['Size'].apply(clean_size)"
   ]
  },
  {
   "cell_type": "code",
   "execution_count": 542,
   "metadata": {},
   "outputs": [],
   "source": [
    "df['Installs'] = df['Installs'].apply(clean_installs)"
   ]
  },
  {
   "cell_type": "code",
   "execution_count": 543,
   "metadata": {},
   "outputs": [],
   "source": [
    "df['Installs'] = pd.to_numeric(df['Installs'], errors='coerce')"
   ]
  },
  {
   "cell_type": "code",
   "execution_count": 544,
   "metadata": {},
   "outputs": [],
   "source": [
    "df['Price'] = df['Price'].apply(clean_price)"
   ]
  },
  {
   "cell_type": "code",
   "execution_count": 545,
   "metadata": {},
   "outputs": [],
   "source": [
    "df['Last Updated'] = df['Last Updated'].apply(clean_date)"
   ]
  },
  {
   "cell_type": "code",
   "execution_count": 546,
   "metadata": {},
   "outputs": [],
   "source": [
    "df['Last Updated'] = pd.to_datetime(df['Last Updated'], errors='coerce')"
   ]
  },
  {
   "cell_type": "code",
   "execution_count": 547,
   "metadata": {},
   "outputs": [],
   "source": [
    "df['Rating'] = pd.to_numeric(df['Rating'])"
   ]
  },
  {
   "cell_type": "code",
   "execution_count": 548,
   "metadata": {},
   "outputs": [
    {
     "data": {
      "image/png": "[encoded data removed]",
      "text/plain": [
       "<Figure size 842.4x595.44 with 1 Axes>"
      ]
     },
     "metadata": {},
     "output_type": "display_data"
    }
   ],
   "source": [
    "df.isna().sum().plot.bar();"
   ]
  },
  {
   "cell_type": "code",
   "execution_count": 549,
   "metadata": {},
   "outputs": [],
   "source": [
    "df['Size'].fillna(df.groupby('Category')['Size'].transform('mean'),inplace = True)"
   ]
  },
  {
   "cell_type": "code",
   "execution_count": 550,
   "metadata": {},
   "outputs": [],
   "source": [
    "df.dropna(axis=0, inplace=True)"
   ]
  },
  {
   "cell_type": "code",
   "execution_count": 551,
   "metadata": {},
   "outputs": [],
   "source": [
    "df.reset_index(inplace=True, drop=True)"
   ]
  },
  {
   "cell_type": "code",
   "execution_count": 552,
   "metadata": {},
   "outputs": [
    {
     "data": {
      "text/plain": [
       "(9360, 13)"
      ]
     },
     "execution_count": 552,
     "metadata": {},
     "output_type": "execute_result"
    }
   ],
   "source": [
    "df.shape"
   ]
  },
  {
   "cell_type": "markdown",
   "metadata": {},
   "source": [
    "# Explore 🧭"
   ]
  },
  {
   "cell_type": "code",
   "execution_count": 553,
   "metadata": {},
   "outputs": [
    {
     "data": {
      "text/html": [
       "<div>\n",
       "<style scoped>\n",
       "    .dataframe tbody tr th:only-of-type {\n",
       "        vertical-align: middle;\n",
       "    }\n",
       "\n",
       "    .dataframe tbody tr th {\n",
       "        vertical-align: top;\n",
       "    }\n",
       "\n",
       "    .dataframe thead th {\n",
       "        text-align: right;\n",
       "    }\n",
       "</style>\n",
       "<table border=\"1\" class=\"dataframe\">\n",
       "  <thead>\n",
       "    <tr style=\"text-align: right;\">\n",
       "      <th></th>\n",
       "      <th>App</th>\n",
       "      <th>Category</th>\n",
       "      <th>Rating</th>\n",
       "      <th>Reviews</th>\n",
       "      <th>Size</th>\n",
       "      <th>Installs</th>\n",
       "      <th>Type</th>\n",
       "      <th>Price</th>\n",
       "      <th>Content Rating</th>\n",
       "      <th>Genres</th>\n",
       "      <th>Last Updated</th>\n",
       "      <th>Current Ver</th>\n",
       "      <th>Android Ver</th>\n",
       "    </tr>\n",
       "  </thead>\n",
       "  <tbody>\n",
       "    <tr>\n",
       "      <th>0</th>\n",
       "      <td>Photo Editor &amp; Candy Camera &amp; Grid &amp; ScrapBook</td>\n",
       "      <td>ART_AND_DESIGN</td>\n",
       "      <td>4.1</td>\n",
       "      <td>159.0</td>\n",
       "      <td>19.0</td>\n",
       "      <td>10000.0</td>\n",
       "      <td>Free</td>\n",
       "      <td>0.0</td>\n",
       "      <td>Everyone</td>\n",
       "      <td>Art &amp; Design</td>\n",
       "      <td>2018-01-07</td>\n",
       "      <td>1.0.0</td>\n",
       "      <td>4.0.3 and up</td>\n",
       "    </tr>\n",
       "    <tr>\n",
       "      <th>1</th>\n",
       "      <td>Coloring book moana</td>\n",
       "      <td>ART_AND_DESIGN</td>\n",
       "      <td>3.9</td>\n",
       "      <td>967.0</td>\n",
       "      <td>14.0</td>\n",
       "      <td>500000.0</td>\n",
       "      <td>Free</td>\n",
       "      <td>0.0</td>\n",
       "      <td>Everyone</td>\n",
       "      <td>Art &amp; Design;Pretend Play</td>\n",
       "      <td>2018-01-15</td>\n",
       "      <td>2.0.0</td>\n",
       "      <td>4.0.3 and up</td>\n",
       "    </tr>\n",
       "    <tr>\n",
       "      <th>2</th>\n",
       "      <td>U Launcher Lite – FREE Live Cool Themes, Hide ...</td>\n",
       "      <td>ART_AND_DESIGN</td>\n",
       "      <td>4.7</td>\n",
       "      <td>87510.0</td>\n",
       "      <td>8.7</td>\n",
       "      <td>5000000.0</td>\n",
       "      <td>Free</td>\n",
       "      <td>0.0</td>\n",
       "      <td>Everyone</td>\n",
       "      <td>Art &amp; Design</td>\n",
       "      <td>2018-08-01</td>\n",
       "      <td>1.2.4</td>\n",
       "      <td>4.0.3 and up</td>\n",
       "    </tr>\n",
       "    <tr>\n",
       "      <th>3</th>\n",
       "      <td>Sketch - Draw &amp; Paint</td>\n",
       "      <td>ART_AND_DESIGN</td>\n",
       "      <td>4.5</td>\n",
       "      <td>215644.0</td>\n",
       "      <td>25.0</td>\n",
       "      <td>50000000.0</td>\n",
       "      <td>Free</td>\n",
       "      <td>0.0</td>\n",
       "      <td>Teen</td>\n",
       "      <td>Art &amp; Design</td>\n",
       "      <td>2018-06-08</td>\n",
       "      <td>Varies with device</td>\n",
       "      <td>4.2 and up</td>\n",
       "    </tr>\n",
       "    <tr>\n",
       "      <th>4</th>\n",
       "      <td>Pixel Draw - Number Art Coloring Book</td>\n",
       "      <td>ART_AND_DESIGN</td>\n",
       "      <td>4.3</td>\n",
       "      <td>967.0</td>\n",
       "      <td>2.8</td>\n",
       "      <td>100000.0</td>\n",
       "      <td>Free</td>\n",
       "      <td>0.0</td>\n",
       "      <td>Everyone</td>\n",
       "      <td>Art &amp; Design;Creativity</td>\n",
       "      <td>2018-06-20</td>\n",
       "      <td>1.1</td>\n",
       "      <td>4.4 and up</td>\n",
       "    </tr>\n",
       "  </tbody>\n",
       "</table>\n",
       "</div>"
      ],
      "text/plain": [
       "                                                 App        Category  Rating  \\\n",
       "0     Photo Editor & Candy Camera & Grid & ScrapBook  ART_AND_DESIGN     4.1   \n",
       "1                                Coloring book moana  ART_AND_DESIGN     3.9   \n",
       "2  U Launcher Lite – FREE Live Cool Themes, Hide ...  ART_AND_DESIGN     4.7   \n",
       "3                              Sketch - Draw & Paint  ART_AND_DESIGN     4.5   \n",
       "4              Pixel Draw - Number Art Coloring Book  ART_AND_DESIGN     4.3   \n",
       "\n",
       "    Reviews  Size    Installs  Type  Price Content Rating  \\\n",
       "0     159.0  19.0     10000.0  Free    0.0       Everyone   \n",
       "1     967.0  14.0    500000.0  Free    0.0       Everyone   \n",
       "2   87510.0   8.7   5000000.0  Free    0.0       Everyone   \n",
       "3  215644.0  25.0  50000000.0  Free    0.0           Teen   \n",
       "4     967.0   2.8    100000.0  Free    0.0       Everyone   \n",
       "\n",
       "                      Genres Last Updated         Current Ver   Android Ver  \n",
       "0               Art & Design   2018-01-07               1.0.0  4.0.3 and up  \n",
       "1  Art & Design;Pretend Play   2018-01-15               2.0.0  4.0.3 and up  \n",
       "2               Art & Design   2018-08-01               1.2.4  4.0.3 and up  \n",
       "3               Art & Design   2018-06-08  Varies with device    4.2 and up  \n",
       "4    Art & Design;Creativity   2018-06-20                 1.1    4.4 and up  "
      ]
     },
     "execution_count": 553,
     "metadata": {},
     "output_type": "execute_result"
    }
   ],
   "source": [
    "df.head()"
   ]
  },
  {
   "cell_type": "code",
   "execution_count": 554,
   "metadata": {},
   "outputs": [
    {
     "data": {
      "text/plain": [
       "6681   2010-05-21\n",
       "6641   2011-01-30\n",
       "8973   2011-03-16\n",
       "7451   2011-04-11\n",
       "7192   2011-04-16\n",
       "Name: Last Updated, dtype: datetime64[ns]"
      ]
     },
     "execution_count": 554,
     "metadata": {},
     "output_type": "execute_result"
    }
   ],
   "source": [
    "df['Last Updated'].sort_values(ascending=True).head()"
   ]
  },
  {
   "cell_type": "code",
   "execution_count": 555,
   "metadata": {},
   "outputs": [
    {
     "data": {
      "text/plain": [
       "9266   2018-08-08\n",
       "9060   2018-08-08\n",
       "8905   2018-08-08\n",
       "9305   2018-08-08\n",
       "9272   2018-08-08\n",
       "Name: Last Updated, dtype: datetime64[ns]"
      ]
     },
     "execution_count": 555,
     "metadata": {},
     "output_type": "execute_result"
    }
   ],
   "source": [
    "df['Last Updated'].sort_values(ascending=True).tail()"
   ]
  },
  {
   "cell_type": "code",
   "execution_count": 556,
   "metadata": {},
   "outputs": [
    {
     "data": {
      "image/png": "[encoded data removed]",
      "text/plain": [
       "<Figure size 842.4x595.44 with 1 Axes>"
      ]
     },
     "metadata": {},
     "output_type": "display_data"
    }
   ],
   "source": [
    "df['Last Updated'].groupby(df['Last Updated']).count().plot();"
   ]
  },
  {
   "cell_type": "code",
   "execution_count": 557,
   "metadata": {},
   "outputs": [],
   "source": [
    "df['Last Updated Year'] = df['Last Updated'].dt.year"
   ]
  },
  {
   "cell_type": "code",
   "execution_count": 558,
   "metadata": {},
   "outputs": [
    {
     "data": {
      "text/plain": [
       "2018    6504\n",
       "2017    1497\n",
       "2016     651\n",
       "2015     388\n",
       "2014     190\n",
       "2013      93\n",
       "2012      21\n",
       "2011      15\n",
       "2010       1\n",
       "Name: Last Updated Year, dtype: int64"
      ]
     },
     "execution_count": 558,
     "metadata": {},
     "output_type": "execute_result"
    }
   ],
   "source": [
    "df['Last Updated Year'].value_counts()"
   ]
  },
  {
   "cell_type": "code",
   "execution_count": 559,
   "metadata": {},
   "outputs": [],
   "source": [
    "month_count = df['Last Updated'].dt.month.value_counts().reset_index().sort_values('index')"
   ]
  },
  {
   "cell_type": "code",
   "execution_count": 560,
   "metadata": {},
   "outputs": [],
   "source": [
    "month_count.columns = ['month_index', 'Last Updated']"
   ]
  },
  {
   "cell_type": "code",
   "execution_count": 561,
   "metadata": {},
   "outputs": [],
   "source": [
    "month_count = month_count.reset_index()"
   ]
  },
  {
   "cell_type": "code",
   "execution_count": 562,
   "metadata": {},
   "outputs": [
    {
     "data": {
      "image/png": "[encoded data removed]",
      "text/plain": [
       "<Figure size 842.4x595.44 with 1 Axes>"
      ]
     },
     "metadata": {},
     "output_type": "display_data"
    }
   ],
   "source": [
    "month_count['Last Updated'].plot.bar();"
   ]
  },
  {
   "cell_type": "code",
   "execution_count": 563,
   "metadata": {},
   "outputs": [
    {
     "data": {
      "image/png": "[encoded data removed]",
      "text/plain": [
       "<Figure size 842.4x595.44 with 1 Axes>"
      ]
     },
     "metadata": {},
     "output_type": "display_data"
    }
   ],
   "source": [
    "df[df['Last Updated Year'] == 2017]['Last Updated']\\\n",
    ".dt.month.value_counts().reset_index().sort_values('index').reset_index()['Last Updated'].plot.bar();"
   ]
  },
  {
   "cell_type": "code",
   "execution_count": 564,
   "metadata": {},
   "outputs": [],
   "source": [
    "# Most app last updates occured in July followed by August and June.\n",
    "# Although there's seems to be a strong bias perhaps from when the dataset was scraped\n",
    "# If we consider the year 2017 the monthly distribution is skewed towards the left with most updates\n",
    "# having occured within the last three months of the year"
   ]
  },
  {
   "cell_type": "code",
   "execution_count": 565,
   "metadata": {},
   "outputs": [
    {
     "data": {
      "image/png": "[encoded data removed]",
      "text/plain": [
       "<Figure size 1008x648 with 6 Axes>"
      ]
     },
     "metadata": {},
     "output_type": "display_data"
    }
   ],
   "source": [
    "df.hist(bins=20);\n",
    "\n",
    "fig = plt.gcf()\n",
    "fig.set_size_inches(14, 9)"
   ]
  },
  {
   "cell_type": "code",
   "execution_count": 566,
   "metadata": {},
   "outputs": [],
   "source": [
    "# When looking at our data distribution of our non-categorical columns, most columns are right skewed\n",
    "# with a long tail extending towards the right. In particular, Installs, Price and Reviews seem to have a couple\n",
    "# extreme outliers"
   ]
  },
  {
   "cell_type": "code",
   "execution_count": 567,
   "metadata": {},
   "outputs": [],
   "source": [
    "# Inspecting the price of Google Playstore apps, most - as expected - are free."
   ]
  },
  {
   "cell_type": "code",
   "execution_count": 568,
   "metadata": {},
   "outputs": [],
   "source": [
    "# The most expensive apps are variations of the \"I Am Rich\" app which is priced at the store's maximum"
   ]
  },
  {
   "cell_type": "code",
   "execution_count": 569,
   "metadata": {},
   "outputs": [
    {
     "data": {
      "text/html": [
       "<div>\n",
       "<style scoped>\n",
       "    .dataframe tbody tr th:only-of-type {\n",
       "        vertical-align: middle;\n",
       "    }\n",
       "\n",
       "    .dataframe tbody tr th {\n",
       "        vertical-align: top;\n",
       "    }\n",
       "\n",
       "    .dataframe thead th {\n",
       "        text-align: right;\n",
       "    }\n",
       "</style>\n",
       "<table border=\"1\" class=\"dataframe\">\n",
       "  <thead>\n",
       "    <tr style=\"text-align: right;\">\n",
       "      <th></th>\n",
       "      <th>App</th>\n",
       "      <th>Category</th>\n",
       "      <th>Rating</th>\n",
       "      <th>Reviews</th>\n",
       "      <th>Size</th>\n",
       "      <th>Installs</th>\n",
       "      <th>Type</th>\n",
       "      <th>Price</th>\n",
       "      <th>Content Rating</th>\n",
       "      <th>Genres</th>\n",
       "      <th>Last Updated</th>\n",
       "      <th>Current Ver</th>\n",
       "      <th>Android Ver</th>\n",
       "      <th>Last Updated Year</th>\n",
       "    </tr>\n",
       "  </thead>\n",
       "  <tbody>\n",
       "    <tr>\n",
       "      <th>4194</th>\n",
       "      <td>I'm Rich - Trump Edition</td>\n",
       "      <td>LIFESTYLE</td>\n",
       "      <td>3.6</td>\n",
       "      <td>275.0</td>\n",
       "      <td>7.300</td>\n",
       "      <td>10000.0</td>\n",
       "      <td>Paid</td>\n",
       "      <td>400.00</td>\n",
       "      <td>Everyone</td>\n",
       "      <td>Lifestyle</td>\n",
       "      <td>2018-05-03</td>\n",
       "      <td>1.0.1</td>\n",
       "      <td>4.1 and up</td>\n",
       "      <td>2018</td>\n",
       "    </tr>\n",
       "    <tr>\n",
       "      <th>5060</th>\n",
       "      <td>I am Rich</td>\n",
       "      <td>FINANCE</td>\n",
       "      <td>4.3</td>\n",
       "      <td>180.0</td>\n",
       "      <td>3.800</td>\n",
       "      <td>5000.0</td>\n",
       "      <td>Paid</td>\n",
       "      <td>399.99</td>\n",
       "      <td>Everyone</td>\n",
       "      <td>Finance</td>\n",
       "      <td>2018-03-22</td>\n",
       "      <td>1.0</td>\n",
       "      <td>4.2 and up</td>\n",
       "      <td>2018</td>\n",
       "    </tr>\n",
       "    <tr>\n",
       "      <th>4036</th>\n",
       "      <td>most expensive app (H)</td>\n",
       "      <td>FAMILY</td>\n",
       "      <td>4.3</td>\n",
       "      <td>6.0</td>\n",
       "      <td>1.500</td>\n",
       "      <td>100.0</td>\n",
       "      <td>Paid</td>\n",
       "      <td>399.99</td>\n",
       "      <td>Everyone</td>\n",
       "      <td>Entertainment</td>\n",
       "      <td>2018-07-16</td>\n",
       "      <td>1.0</td>\n",
       "      <td>7.0 and up</td>\n",
       "      <td>2018</td>\n",
       "    </tr>\n",
       "    <tr>\n",
       "      <th>5055</th>\n",
       "      <td>I am rich (Most expensive app)</td>\n",
       "      <td>FINANCE</td>\n",
       "      <td>4.1</td>\n",
       "      <td>129.0</td>\n",
       "      <td>2.700</td>\n",
       "      <td>1000.0</td>\n",
       "      <td>Paid</td>\n",
       "      <td>399.99</td>\n",
       "      <td>Teen</td>\n",
       "      <td>Finance</td>\n",
       "      <td>2017-12-06</td>\n",
       "      <td>2</td>\n",
       "      <td>4.0.3 and up</td>\n",
       "      <td>2017</td>\n",
       "    </tr>\n",
       "    <tr>\n",
       "      <th>5064</th>\n",
       "      <td>I AM RICH PRO PLUS</td>\n",
       "      <td>FINANCE</td>\n",
       "      <td>4.0</td>\n",
       "      <td>36.0</td>\n",
       "      <td>41.000</td>\n",
       "      <td>1000.0</td>\n",
       "      <td>Paid</td>\n",
       "      <td>399.99</td>\n",
       "      <td>Everyone</td>\n",
       "      <td>Finance</td>\n",
       "      <td>2018-06-25</td>\n",
       "      <td>1.0.2</td>\n",
       "      <td>4.1 and up</td>\n",
       "      <td>2018</td>\n",
       "    </tr>\n",
       "    <tr>\n",
       "      <th>5053</th>\n",
       "      <td>I Am Rich Pro</td>\n",
       "      <td>FAMILY</td>\n",
       "      <td>4.4</td>\n",
       "      <td>201.0</td>\n",
       "      <td>2.700</td>\n",
       "      <td>5000.0</td>\n",
       "      <td>Paid</td>\n",
       "      <td>399.99</td>\n",
       "      <td>Everyone</td>\n",
       "      <td>Entertainment</td>\n",
       "      <td>2017-05-30</td>\n",
       "      <td>1.54</td>\n",
       "      <td>1.6 and up</td>\n",
       "      <td>2017</td>\n",
       "    </tr>\n",
       "    <tr>\n",
       "      <th>5050</th>\n",
       "      <td>I am rich(premium)</td>\n",
       "      <td>FINANCE</td>\n",
       "      <td>3.5</td>\n",
       "      <td>472.0</td>\n",
       "      <td>0.965</td>\n",
       "      <td>5000.0</td>\n",
       "      <td>Paid</td>\n",
       "      <td>399.99</td>\n",
       "      <td>Everyone</td>\n",
       "      <td>Finance</td>\n",
       "      <td>2017-05-01</td>\n",
       "      <td>3.4</td>\n",
       "      <td>4.4 and up</td>\n",
       "      <td>2017</td>\n",
       "    </tr>\n",
       "    <tr>\n",
       "      <th>4189</th>\n",
       "      <td>💎 I'm rich</td>\n",
       "      <td>LIFESTYLE</td>\n",
       "      <td>3.8</td>\n",
       "      <td>718.0</td>\n",
       "      <td>26.000</td>\n",
       "      <td>10000.0</td>\n",
       "      <td>Paid</td>\n",
       "      <td>399.99</td>\n",
       "      <td>Everyone</td>\n",
       "      <td>Lifestyle</td>\n",
       "      <td>2018-03-11</td>\n",
       "      <td>1.0.0</td>\n",
       "      <td>4.4 and up</td>\n",
       "      <td>2018</td>\n",
       "    </tr>\n",
       "    <tr>\n",
       "      <th>5049</th>\n",
       "      <td>I am Rich!</td>\n",
       "      <td>FINANCE</td>\n",
       "      <td>3.8</td>\n",
       "      <td>93.0</td>\n",
       "      <td>22.000</td>\n",
       "      <td>1000.0</td>\n",
       "      <td>Paid</td>\n",
       "      <td>399.99</td>\n",
       "      <td>Everyone</td>\n",
       "      <td>Finance</td>\n",
       "      <td>2017-12-11</td>\n",
       "      <td>1.0</td>\n",
       "      <td>4.1 and up</td>\n",
       "      <td>2017</td>\n",
       "    </tr>\n",
       "    <tr>\n",
       "      <th>5047</th>\n",
       "      <td>I Am Rich Premium</td>\n",
       "      <td>FINANCE</td>\n",
       "      <td>4.1</td>\n",
       "      <td>1867.0</td>\n",
       "      <td>4.700</td>\n",
       "      <td>50000.0</td>\n",
       "      <td>Paid</td>\n",
       "      <td>399.99</td>\n",
       "      <td>Everyone</td>\n",
       "      <td>Finance</td>\n",
       "      <td>2017-11-12</td>\n",
       "      <td>1.6</td>\n",
       "      <td>4.0 and up</td>\n",
       "      <td>2017</td>\n",
       "    </tr>\n",
       "  </tbody>\n",
       "</table>\n",
       "</div>"
      ],
      "text/plain": [
       "                                 App   Category  Rating  Reviews    Size  \\\n",
       "4194        I'm Rich - Trump Edition  LIFESTYLE     3.6    275.0   7.300   \n",
       "5060                       I am Rich    FINANCE     4.3    180.0   3.800   \n",
       "4036          most expensive app (H)     FAMILY     4.3      6.0   1.500   \n",
       "5055  I am rich (Most expensive app)    FINANCE     4.1    129.0   2.700   \n",
       "5064              I AM RICH PRO PLUS    FINANCE     4.0     36.0  41.000   \n",
       "5053                   I Am Rich Pro     FAMILY     4.4    201.0   2.700   \n",
       "5050              I am rich(premium)    FINANCE     3.5    472.0   0.965   \n",
       "4189                      💎 I'm rich  LIFESTYLE     3.8    718.0  26.000   \n",
       "5049                      I am Rich!    FINANCE     3.8     93.0  22.000   \n",
       "5047               I Am Rich Premium    FINANCE     4.1   1867.0   4.700   \n",
       "\n",
       "      Installs  Type   Price Content Rating         Genres Last Updated  \\\n",
       "4194   10000.0  Paid  400.00       Everyone      Lifestyle   2018-05-03   \n",
       "5060    5000.0  Paid  399.99       Everyone        Finance   2018-03-22   \n",
       "4036     100.0  Paid  399.99       Everyone  Entertainment   2018-07-16   \n",
       "5055    1000.0  Paid  399.99           Teen        Finance   2017-12-06   \n",
       "5064    1000.0  Paid  399.99       Everyone        Finance   2018-06-25   \n",
       "5053    5000.0  Paid  399.99       Everyone  Entertainment   2017-05-30   \n",
       "5050    5000.0  Paid  399.99       Everyone        Finance   2017-05-01   \n",
       "4189   10000.0  Paid  399.99       Everyone      Lifestyle   2018-03-11   \n",
       "5049    1000.0  Paid  399.99       Everyone        Finance   2017-12-11   \n",
       "5047   50000.0  Paid  399.99       Everyone        Finance   2017-11-12   \n",
       "\n",
       "     Current Ver   Android Ver  Last Updated Year  \n",
       "4194       1.0.1    4.1 and up               2018  \n",
       "5060         1.0    4.2 and up               2018  \n",
       "4036         1.0    7.0 and up               2018  \n",
       "5055           2  4.0.3 and up               2017  \n",
       "5064       1.0.2    4.1 and up               2018  \n",
       "5053        1.54    1.6 and up               2017  \n",
       "5050         3.4    4.4 and up               2017  \n",
       "4189       1.0.0    4.4 and up               2018  \n",
       "5049         1.0    4.1 and up               2017  \n",
       "5047         1.6    4.0 and up               2017  "
      ]
     },
     "execution_count": 569,
     "metadata": {},
     "output_type": "execute_result"
    }
   ],
   "source": [
    "df.sort_values('Price', ascending=False).head(10)"
   ]
  },
  {
   "cell_type": "code",
   "execution_count": 570,
   "metadata": {},
   "outputs": [],
   "source": [
    "# How many apps actually contain the word rich"
   ]
  },
  {
   "cell_type": "code",
   "execution_count": 571,
   "metadata": {},
   "outputs": [],
   "source": [
    "rich_df = df[(df['App'].str.contains('Rich', case=False)) & (df['Type'] == 'Paid')]"
   ]
  },
  {
   "cell_type": "code",
   "execution_count": 572,
   "metadata": {},
   "outputs": [
    {
     "name": "stdout",
     "output_type": "stream",
     "text": [
      "<class 'pandas.core.frame.DataFrame'>\n",
      "Int64Index: 18 entries, 2089 to 5064\n",
      "Data columns (total 14 columns):\n",
      " #   Column             Non-Null Count  Dtype         \n",
      "---  ------             --------------  -----         \n",
      " 0   App                18 non-null     object        \n",
      " 1   Category           18 non-null     object        \n",
      " 2   Rating             18 non-null     float64       \n",
      " 3   Reviews            18 non-null     float64       \n",
      " 4   Size               18 non-null     float64       \n",
      " 5   Installs           18 non-null     float64       \n",
      " 6   Type               18 non-null     object        \n",
      " 7   Price              18 non-null     float64       \n",
      " 8   Content Rating     18 non-null     object        \n",
      " 9   Genres             18 non-null     object        \n",
      " 10  Last Updated       18 non-null     datetime64[ns]\n",
      " 11  Current Ver        18 non-null     object        \n",
      " 12  Android Ver        18 non-null     object        \n",
      " 13  Last Updated Year  18 non-null     int64         \n",
      "dtypes: datetime64[ns](1), float64(5), int64(1), object(7)\n",
      "memory usage: 2.1+ KB\n"
     ]
    }
   ],
   "source": [
    "rich_df.info()"
   ]
  },
  {
   "cell_type": "code",
   "execution_count": 573,
   "metadata": {},
   "outputs": [
    {
     "data": {
      "text/html": [
       "<div>\n",
       "<style scoped>\n",
       "    .dataframe tbody tr th:only-of-type {\n",
       "        vertical-align: middle;\n",
       "    }\n",
       "\n",
       "    .dataframe tbody tr th {\n",
       "        vertical-align: top;\n",
       "    }\n",
       "\n",
       "    .dataframe thead th {\n",
       "        text-align: right;\n",
       "    }\n",
       "</style>\n",
       "<table border=\"1\" class=\"dataframe\">\n",
       "  <thead>\n",
       "    <tr style=\"text-align: right;\">\n",
       "      <th></th>\n",
       "      <th>App</th>\n",
       "      <th>Category</th>\n",
       "      <th>Rating</th>\n",
       "      <th>Reviews</th>\n",
       "      <th>Size</th>\n",
       "      <th>Installs</th>\n",
       "      <th>Type</th>\n",
       "      <th>Price</th>\n",
       "      <th>Content Rating</th>\n",
       "      <th>Genres</th>\n",
       "      <th>Last Updated</th>\n",
       "      <th>Current Ver</th>\n",
       "      <th>Android Ver</th>\n",
       "      <th>Last Updated Year</th>\n",
       "    </tr>\n",
       "  </thead>\n",
       "  <tbody>\n",
       "    <tr>\n",
       "      <th>5042</th>\n",
       "      <td>I am rich</td>\n",
       "      <td>LIFESTYLE</td>\n",
       "      <td>3.8</td>\n",
       "      <td>3547.0</td>\n",
       "      <td>1.8</td>\n",
       "      <td>100000.0</td>\n",
       "      <td>Paid</td>\n",
       "      <td>399.99</td>\n",
       "      <td>Everyone</td>\n",
       "      <td>Lifestyle</td>\n",
       "      <td>2018-01-12</td>\n",
       "      <td>2.0</td>\n",
       "      <td>4.0.3 and up</td>\n",
       "      <td>2018</td>\n",
       "    </tr>\n",
       "    <tr>\n",
       "      <th>5047</th>\n",
       "      <td>I Am Rich Premium</td>\n",
       "      <td>FINANCE</td>\n",
       "      <td>4.1</td>\n",
       "      <td>1867.0</td>\n",
       "      <td>4.7</td>\n",
       "      <td>50000.0</td>\n",
       "      <td>Paid</td>\n",
       "      <td>399.99</td>\n",
       "      <td>Everyone</td>\n",
       "      <td>Finance</td>\n",
       "      <td>2017-11-12</td>\n",
       "      <td>1.6</td>\n",
       "      <td>4.0 and up</td>\n",
       "      <td>2017</td>\n",
       "    </tr>\n",
       "    <tr>\n",
       "      <th>4194</th>\n",
       "      <td>I'm Rich - Trump Edition</td>\n",
       "      <td>LIFESTYLE</td>\n",
       "      <td>3.6</td>\n",
       "      <td>275.0</td>\n",
       "      <td>7.3</td>\n",
       "      <td>10000.0</td>\n",
       "      <td>Paid</td>\n",
       "      <td>400.00</td>\n",
       "      <td>Everyone</td>\n",
       "      <td>Lifestyle</td>\n",
       "      <td>2018-05-03</td>\n",
       "      <td>1.0.1</td>\n",
       "      <td>4.1 and up</td>\n",
       "      <td>2018</td>\n",
       "    </tr>\n",
       "    <tr>\n",
       "      <th>5045</th>\n",
       "      <td>I am Rich Plus</td>\n",
       "      <td>FAMILY</td>\n",
       "      <td>4.0</td>\n",
       "      <td>856.0</td>\n",
       "      <td>8.7</td>\n",
       "      <td>10000.0</td>\n",
       "      <td>Paid</td>\n",
       "      <td>399.99</td>\n",
       "      <td>Everyone</td>\n",
       "      <td>Entertainment</td>\n",
       "      <td>2018-05-19</td>\n",
       "      <td>3.0</td>\n",
       "      <td>4.4 and up</td>\n",
       "      <td>2018</td>\n",
       "    </tr>\n",
       "    <tr>\n",
       "      <th>5046</th>\n",
       "      <td>I am rich VIP</td>\n",
       "      <td>LIFESTYLE</td>\n",
       "      <td>3.8</td>\n",
       "      <td>411.0</td>\n",
       "      <td>2.6</td>\n",
       "      <td>10000.0</td>\n",
       "      <td>Paid</td>\n",
       "      <td>299.99</td>\n",
       "      <td>Everyone</td>\n",
       "      <td>Lifestyle</td>\n",
       "      <td>2018-07-21</td>\n",
       "      <td>1.1.1</td>\n",
       "      <td>4.3 and up</td>\n",
       "      <td>2018</td>\n",
       "    </tr>\n",
       "  </tbody>\n",
       "</table>\n",
       "</div>"
      ],
      "text/plain": [
       "                           App   Category  Rating  Reviews  Size  Installs  \\\n",
       "5042                 I am rich  LIFESTYLE     3.8   3547.0   1.8  100000.0   \n",
       "5047         I Am Rich Premium    FINANCE     4.1   1867.0   4.7   50000.0   \n",
       "4194  I'm Rich - Trump Edition  LIFESTYLE     3.6    275.0   7.3   10000.0   \n",
       "5045            I am Rich Plus     FAMILY     4.0    856.0   8.7   10000.0   \n",
       "5046             I am rich VIP  LIFESTYLE     3.8    411.0   2.6   10000.0   \n",
       "\n",
       "      Type   Price Content Rating         Genres Last Updated Current Ver  \\\n",
       "5042  Paid  399.99       Everyone      Lifestyle   2018-01-12         2.0   \n",
       "5047  Paid  399.99       Everyone        Finance   2017-11-12         1.6   \n",
       "4194  Paid  400.00       Everyone      Lifestyle   2018-05-03       1.0.1   \n",
       "5045  Paid  399.99       Everyone  Entertainment   2018-05-19         3.0   \n",
       "5046  Paid  299.99       Everyone      Lifestyle   2018-07-21       1.1.1   \n",
       "\n",
       "       Android Ver  Last Updated Year  \n",
       "5042  4.0.3 and up               2018  \n",
       "5047    4.0 and up               2017  \n",
       "4194    4.1 and up               2018  \n",
       "5045    4.4 and up               2018  \n",
       "5046    4.3 and up               2018  "
      ]
     },
     "execution_count": 573,
     "metadata": {},
     "output_type": "execute_result"
    }
   ],
   "source": [
    "rich_df.sort_values('Installs', ascending=False).head()"
   ]
  },
  {
   "cell_type": "code",
   "execution_count": 574,
   "metadata": {},
   "outputs": [],
   "source": [
    "# The app with the most installs is \"I am rich\". With over 100,000 people who have paid 399 USD, the developer\n",
    "# made at least 39,900,000 USD"
   ]
  },
  {
   "cell_type": "code",
   "execution_count": 575,
   "metadata": {},
   "outputs": [],
   "source": [
    "# Interestingly, the app has a Rating of 3.8, which is only slightly below the average Rating.\n",
    "# It's also the smallest app of the 'I am rich' app category"
   ]
  },
  {
   "cell_type": "code",
   "execution_count": 576,
   "metadata": {},
   "outputs": [],
   "source": [
    "# The Rating column is the only column left skewed"
   ]
  },
  {
   "cell_type": "code",
   "execution_count": 577,
   "metadata": {},
   "outputs": [
    {
     "data": {
      "text/plain": [
       "0    4.4\n",
       "dtype: float64"
      ]
     },
     "execution_count": 577,
     "metadata": {},
     "output_type": "execute_result"
    }
   ],
   "source": [
    "df['Rating'].mode()"
   ]
  },
  {
   "cell_type": "code",
   "execution_count": 578,
   "metadata": {},
   "outputs": [
    {
     "data": {
      "text/plain": [
       "4.191837606837606"
      ]
     },
     "execution_count": 578,
     "metadata": {},
     "output_type": "execute_result"
    }
   ],
   "source": [
    "df['Rating'].mean()"
   ]
  },
  {
   "cell_type": "code",
   "execution_count": 579,
   "metadata": {},
   "outputs": [
    {
     "data": {
      "text/html": [
       "<div>\n",
       "<style scoped>\n",
       "    .dataframe tbody tr th:only-of-type {\n",
       "        vertical-align: middle;\n",
       "    }\n",
       "\n",
       "    .dataframe tbody tr th {\n",
       "        vertical-align: top;\n",
       "    }\n",
       "\n",
       "    .dataframe thead th {\n",
       "        text-align: right;\n",
       "    }\n",
       "</style>\n",
       "<table border=\"1\" class=\"dataframe\">\n",
       "  <thead>\n",
       "    <tr style=\"text-align: right;\">\n",
       "      <th></th>\n",
       "      <th>App</th>\n",
       "      <th>Category</th>\n",
       "      <th>Rating</th>\n",
       "      <th>Reviews</th>\n",
       "      <th>Size</th>\n",
       "      <th>Installs</th>\n",
       "      <th>Type</th>\n",
       "      <th>Price</th>\n",
       "      <th>Content Rating</th>\n",
       "      <th>Genres</th>\n",
       "      <th>Last Updated</th>\n",
       "      <th>Current Ver</th>\n",
       "      <th>Android Ver</th>\n",
       "      <th>Last Updated Year</th>\n",
       "    </tr>\n",
       "  </thead>\n",
       "  <tbody>\n",
       "    <tr>\n",
       "      <th>602</th>\n",
       "      <td>House party - live chat</td>\n",
       "      <td>DATING</td>\n",
       "      <td>1.0</td>\n",
       "      <td>1.0</td>\n",
       "      <td>9.2</td>\n",
       "      <td>10.0</td>\n",
       "      <td>Free</td>\n",
       "      <td>0.00</td>\n",
       "      <td>Mature 17+</td>\n",
       "      <td>Dating</td>\n",
       "      <td>2018-07-31</td>\n",
       "      <td>3.52</td>\n",
       "      <td>4.0.3 and up</td>\n",
       "      <td>2018</td>\n",
       "    </tr>\n",
       "    <tr>\n",
       "      <th>3971</th>\n",
       "      <td>Speech Therapy: F</td>\n",
       "      <td>FAMILY</td>\n",
       "      <td>1.0</td>\n",
       "      <td>1.0</td>\n",
       "      <td>16.0</td>\n",
       "      <td>10.0</td>\n",
       "      <td>Paid</td>\n",
       "      <td>2.99</td>\n",
       "      <td>Everyone</td>\n",
       "      <td>Education</td>\n",
       "      <td>2016-10-07</td>\n",
       "      <td>1.0</td>\n",
       "      <td>2.3.3 and up</td>\n",
       "      <td>2016</td>\n",
       "    </tr>\n",
       "    <tr>\n",
       "      <th>4898</th>\n",
       "      <td>Clarksburg AH</td>\n",
       "      <td>MEDICAL</td>\n",
       "      <td>1.0</td>\n",
       "      <td>1.0</td>\n",
       "      <td>28.0</td>\n",
       "      <td>50.0</td>\n",
       "      <td>Free</td>\n",
       "      <td>0.00</td>\n",
       "      <td>Everyone</td>\n",
       "      <td>Medical</td>\n",
       "      <td>2017-05-01</td>\n",
       "      <td>300000.0.81</td>\n",
       "      <td>4.0.3 and up</td>\n",
       "      <td>2017</td>\n",
       "    </tr>\n",
       "    <tr>\n",
       "      <th>5583</th>\n",
       "      <td>Truck Driving Test Class 3 BC</td>\n",
       "      <td>FAMILY</td>\n",
       "      <td>1.0</td>\n",
       "      <td>1.0</td>\n",
       "      <td>2.0</td>\n",
       "      <td>50.0</td>\n",
       "      <td>Paid</td>\n",
       "      <td>1.49</td>\n",
       "      <td>Everyone</td>\n",
       "      <td>Education</td>\n",
       "      <td>2012-04-09</td>\n",
       "      <td>1.0</td>\n",
       "      <td>2.1 and up</td>\n",
       "      <td>2012</td>\n",
       "    </tr>\n",
       "    <tr>\n",
       "      <th>5860</th>\n",
       "      <td>BJ Bridge Standard American 2018</td>\n",
       "      <td>GAME</td>\n",
       "      <td>1.0</td>\n",
       "      <td>1.0</td>\n",
       "      <td>4.9</td>\n",
       "      <td>1000.0</td>\n",
       "      <td>Free</td>\n",
       "      <td>0.00</td>\n",
       "      <td>Everyone</td>\n",
       "      <td>Card</td>\n",
       "      <td>2018-05-21</td>\n",
       "      <td>6.2-sayc</td>\n",
       "      <td>4.0 and up</td>\n",
       "      <td>2018</td>\n",
       "    </tr>\n",
       "    <tr>\n",
       "      <th>5983</th>\n",
       "      <td>MbH BM</td>\n",
       "      <td>MEDICAL</td>\n",
       "      <td>1.0</td>\n",
       "      <td>1.0</td>\n",
       "      <td>2.3</td>\n",
       "      <td>100.0</td>\n",
       "      <td>Free</td>\n",
       "      <td>0.00</td>\n",
       "      <td>Everyone</td>\n",
       "      <td>Medical</td>\n",
       "      <td>2016-12-14</td>\n",
       "      <td>1.1.3</td>\n",
       "      <td>4.3 and up</td>\n",
       "      <td>2016</td>\n",
       "    </tr>\n",
       "    <tr>\n",
       "      <th>6609</th>\n",
       "      <td>Thistletown CI</td>\n",
       "      <td>PRODUCTIVITY</td>\n",
       "      <td>1.0</td>\n",
       "      <td>1.0</td>\n",
       "      <td>6.6</td>\n",
       "      <td>100.0</td>\n",
       "      <td>Free</td>\n",
       "      <td>0.00</td>\n",
       "      <td>Everyone</td>\n",
       "      <td>Productivity</td>\n",
       "      <td>2018-03-15</td>\n",
       "      <td>41.9</td>\n",
       "      <td>4.1 and up</td>\n",
       "      <td>2018</td>\n",
       "    </tr>\n",
       "    <tr>\n",
       "      <th>6954</th>\n",
       "      <td>CR Magazine</td>\n",
       "      <td>BUSINESS</td>\n",
       "      <td>1.0</td>\n",
       "      <td>1.0</td>\n",
       "      <td>7.8</td>\n",
       "      <td>100.0</td>\n",
       "      <td>Free</td>\n",
       "      <td>0.00</td>\n",
       "      <td>Everyone</td>\n",
       "      <td>Business</td>\n",
       "      <td>2014-07-23</td>\n",
       "      <td>2.4.2</td>\n",
       "      <td>2.3.3 and up</td>\n",
       "      <td>2014</td>\n",
       "    </tr>\n",
       "    <tr>\n",
       "      <th>7843</th>\n",
       "      <td>DT future1 cam</td>\n",
       "      <td>TOOLS</td>\n",
       "      <td>1.0</td>\n",
       "      <td>1.0</td>\n",
       "      <td>24.0</td>\n",
       "      <td>50.0</td>\n",
       "      <td>Free</td>\n",
       "      <td>0.00</td>\n",
       "      <td>Everyone</td>\n",
       "      <td>Tools</td>\n",
       "      <td>2018-03-27</td>\n",
       "      <td>3.1</td>\n",
       "      <td>2.2 and up</td>\n",
       "      <td>2018</td>\n",
       "    </tr>\n",
       "    <tr>\n",
       "      <th>7058</th>\n",
       "      <td>Tech CU Card Manager</td>\n",
       "      <td>FINANCE</td>\n",
       "      <td>1.0</td>\n",
       "      <td>2.0</td>\n",
       "      <td>7.2</td>\n",
       "      <td>1000.0</td>\n",
       "      <td>Free</td>\n",
       "      <td>0.00</td>\n",
       "      <td>Everyone</td>\n",
       "      <td>Finance</td>\n",
       "      <td>2017-07-25</td>\n",
       "      <td>1.0.1</td>\n",
       "      <td>4.0 and up</td>\n",
       "      <td>2017</td>\n",
       "    </tr>\n",
       "    <tr>\n",
       "      <th>7804</th>\n",
       "      <td>DS Creator 2.0</td>\n",
       "      <td>TOOLS</td>\n",
       "      <td>1.0</td>\n",
       "      <td>2.0</td>\n",
       "      <td>4.4</td>\n",
       "      <td>500.0</td>\n",
       "      <td>Free</td>\n",
       "      <td>0.00</td>\n",
       "      <td>Everyone</td>\n",
       "      <td>Tools</td>\n",
       "      <td>2018-03-23</td>\n",
       "      <td>2.0.180226.1</td>\n",
       "      <td>4.0 and up</td>\n",
       "      <td>2018</td>\n",
       "    </tr>\n",
       "    <tr>\n",
       "      <th>9012</th>\n",
       "      <td>FE Mechanical Engineering Prep</td>\n",
       "      <td>FAMILY</td>\n",
       "      <td>1.0</td>\n",
       "      <td>2.0</td>\n",
       "      <td>21.0</td>\n",
       "      <td>1000.0</td>\n",
       "      <td>Free</td>\n",
       "      <td>0.00</td>\n",
       "      <td>Everyone</td>\n",
       "      <td>Education</td>\n",
       "      <td>2018-07-27</td>\n",
       "      <td>5.33.3669</td>\n",
       "      <td>5.0 and up</td>\n",
       "      <td>2018</td>\n",
       "    </tr>\n",
       "    <tr>\n",
       "      <th>9056</th>\n",
       "      <td>Familial Hypercholesterolaemia Handbook</td>\n",
       "      <td>MEDICAL</td>\n",
       "      <td>1.0</td>\n",
       "      <td>2.0</td>\n",
       "      <td>33.0</td>\n",
       "      <td>100.0</td>\n",
       "      <td>Free</td>\n",
       "      <td>0.00</td>\n",
       "      <td>Everyone</td>\n",
       "      <td>Medical</td>\n",
       "      <td>2018-07-02</td>\n",
       "      <td>2.0.1</td>\n",
       "      <td>4.1 and up</td>\n",
       "      <td>2018</td>\n",
       "    </tr>\n",
       "    <tr>\n",
       "      <th>6464</th>\n",
       "      <td>CB Mobile Biz</td>\n",
       "      <td>FINANCE</td>\n",
       "      <td>1.0</td>\n",
       "      <td>3.0</td>\n",
       "      <td>8.4</td>\n",
       "      <td>500.0</td>\n",
       "      <td>Free</td>\n",
       "      <td>0.00</td>\n",
       "      <td>Everyone</td>\n",
       "      <td>Finance</td>\n",
       "      <td>2016-02-22</td>\n",
       "      <td>4.4.1255</td>\n",
       "      <td>4.0 and up</td>\n",
       "      <td>2016</td>\n",
       "    </tr>\n",
       "    <tr>\n",
       "      <th>9185</th>\n",
       "      <td>Lottery Ticket Checker - Florida Results &amp; Lotto</td>\n",
       "      <td>TOOLS</td>\n",
       "      <td>1.0</td>\n",
       "      <td>3.0</td>\n",
       "      <td>41.0</td>\n",
       "      <td>500.0</td>\n",
       "      <td>Free</td>\n",
       "      <td>0.00</td>\n",
       "      <td>Everyone</td>\n",
       "      <td>Tools</td>\n",
       "      <td>2017-12-12</td>\n",
       "      <td>1.0</td>\n",
       "      <td>4.2 and up</td>\n",
       "      <td>2017</td>\n",
       "    </tr>\n",
       "    <tr>\n",
       "      <th>6638</th>\n",
       "      <td>CJ DVD Rentals</td>\n",
       "      <td>COMMUNICATION</td>\n",
       "      <td>1.0</td>\n",
       "      <td>5.0</td>\n",
       "      <td>13.0</td>\n",
       "      <td>100.0</td>\n",
       "      <td>Free</td>\n",
       "      <td>0.00</td>\n",
       "      <td>Everyone</td>\n",
       "      <td>Communication</td>\n",
       "      <td>2017-10-06</td>\n",
       "      <td>1.0</td>\n",
       "      <td>4.1 and up</td>\n",
       "      <td>2017</td>\n",
       "    </tr>\n",
       "  </tbody>\n",
       "</table>\n",
       "</div>"
      ],
      "text/plain": [
       "                                                   App       Category  Rating  \\\n",
       "602                            House party - live chat         DATING     1.0   \n",
       "3971                                 Speech Therapy: F         FAMILY     1.0   \n",
       "4898                                     Clarksburg AH        MEDICAL     1.0   \n",
       "5583                     Truck Driving Test Class 3 BC         FAMILY     1.0   \n",
       "5860                  BJ Bridge Standard American 2018           GAME     1.0   \n",
       "5983                                            MbH BM        MEDICAL     1.0   \n",
       "6609                                    Thistletown CI   PRODUCTIVITY     1.0   \n",
       "6954                                       CR Magazine       BUSINESS     1.0   \n",
       "7843                                    DT future1 cam          TOOLS     1.0   \n",
       "7058                              Tech CU Card Manager        FINANCE     1.0   \n",
       "7804                                    DS Creator 2.0          TOOLS     1.0   \n",
       "9012                    FE Mechanical Engineering Prep         FAMILY     1.0   \n",
       "9056           Familial Hypercholesterolaemia Handbook        MEDICAL     1.0   \n",
       "6464                                     CB Mobile Biz        FINANCE     1.0   \n",
       "9185  Lottery Ticket Checker - Florida Results & Lotto          TOOLS     1.0   \n",
       "6638                                    CJ DVD Rentals  COMMUNICATION     1.0   \n",
       "\n",
       "      Reviews  Size  Installs  Type  Price Content Rating         Genres  \\\n",
       "602       1.0   9.2      10.0  Free   0.00     Mature 17+         Dating   \n",
       "3971      1.0  16.0      10.0  Paid   2.99       Everyone      Education   \n",
       "4898      1.0  28.0      50.0  Free   0.00       Everyone        Medical   \n",
       "5583      1.0   2.0      50.0  Paid   1.49       Everyone      Education   \n",
       "5860      1.0   4.9    1000.0  Free   0.00       Everyone           Card   \n",
       "5983      1.0   2.3     100.0  Free   0.00       Everyone        Medical   \n",
       "6609      1.0   6.6     100.0  Free   0.00       Everyone   Productivity   \n",
       "6954      1.0   7.8     100.0  Free   0.00       Everyone       Business   \n",
       "7843      1.0  24.0      50.0  Free   0.00       Everyone          Tools   \n",
       "7058      2.0   7.2    1000.0  Free   0.00       Everyone        Finance   \n",
       "7804      2.0   4.4     500.0  Free   0.00       Everyone          Tools   \n",
       "9012      2.0  21.0    1000.0  Free   0.00       Everyone      Education   \n",
       "9056      2.0  33.0     100.0  Free   0.00       Everyone        Medical   \n",
       "6464      3.0   8.4     500.0  Free   0.00       Everyone        Finance   \n",
       "9185      3.0  41.0     500.0  Free   0.00       Everyone          Tools   \n",
       "6638      5.0  13.0     100.0  Free   0.00       Everyone  Communication   \n",
       "\n",
       "     Last Updated   Current Ver   Android Ver  Last Updated Year  \n",
       "602    2018-07-31          3.52  4.0.3 and up               2018  \n",
       "3971   2016-10-07           1.0  2.3.3 and up               2016  \n",
       "4898   2017-05-01   300000.0.81  4.0.3 and up               2017  \n",
       "5583   2012-04-09           1.0    2.1 and up               2012  \n",
       "5860   2018-05-21      6.2-sayc    4.0 and up               2018  \n",
       "5983   2016-12-14         1.1.3    4.3 and up               2016  \n",
       "6609   2018-03-15          41.9    4.1 and up               2018  \n",
       "6954   2014-07-23         2.4.2  2.3.3 and up               2014  \n",
       "7843   2018-03-27           3.1    2.2 and up               2018  \n",
       "7058   2017-07-25         1.0.1    4.0 and up               2017  \n",
       "7804   2018-03-23  2.0.180226.1    4.0 and up               2018  \n",
       "9012   2018-07-27     5.33.3669    5.0 and up               2018  \n",
       "9056   2018-07-02         2.0.1    4.1 and up               2018  \n",
       "6464   2016-02-22      4.4.1255    4.0 and up               2016  \n",
       "9185   2017-12-12           1.0    4.2 and up               2017  \n",
       "6638   2017-10-06           1.0    4.1 and up               2017  "
      ]
     },
     "execution_count": 579,
     "metadata": {},
     "output_type": "execute_result"
    }
   ],
   "source": [
    "df[df['Rating'] == 1.0].sort_values('Reviews')"
   ]
  },
  {
   "cell_type": "code",
   "execution_count": 580,
   "metadata": {},
   "outputs": [
    {
     "data": {
      "text/html": [
       "<div>\n",
       "<style scoped>\n",
       "    .dataframe tbody tr th:only-of-type {\n",
       "        vertical-align: middle;\n",
       "    }\n",
       "\n",
       "    .dataframe tbody tr th {\n",
       "        vertical-align: top;\n",
       "    }\n",
       "\n",
       "    .dataframe thead th {\n",
       "        text-align: right;\n",
       "    }\n",
       "</style>\n",
       "<table border=\"1\" class=\"dataframe\">\n",
       "  <thead>\n",
       "    <tr style=\"text-align: right;\">\n",
       "      <th></th>\n",
       "      <th>App</th>\n",
       "      <th>Category</th>\n",
       "      <th>Rating</th>\n",
       "      <th>Reviews</th>\n",
       "      <th>Size</th>\n",
       "      <th>Installs</th>\n",
       "      <th>Type</th>\n",
       "      <th>Price</th>\n",
       "      <th>Content Rating</th>\n",
       "      <th>Genres</th>\n",
       "      <th>Last Updated</th>\n",
       "      <th>Current Ver</th>\n",
       "      <th>Android Ver</th>\n",
       "      <th>Last Updated Year</th>\n",
       "    </tr>\n",
       "  </thead>\n",
       "  <tbody>\n",
       "    <tr>\n",
       "      <th>6122</th>\n",
       "      <td>Pick-a-Paint</td>\n",
       "      <td>LIFESTYLE</td>\n",
       "      <td>1.6</td>\n",
       "      <td>242.0</td>\n",
       "      <td>36.0</td>\n",
       "      <td>50000.0</td>\n",
       "      <td>Free</td>\n",
       "      <td>0.0</td>\n",
       "      <td>Everyone</td>\n",
       "      <td>Lifestyle</td>\n",
       "      <td>2018-05-14</td>\n",
       "      <td>1.2.1</td>\n",
       "      <td>3.0 and up</td>\n",
       "      <td>2018</td>\n",
       "    </tr>\n",
       "    <tr>\n",
       "      <th>4698</th>\n",
       "      <td>AC REMOTE UNIVERSAL-PRO</td>\n",
       "      <td>FAMILY</td>\n",
       "      <td>1.6</td>\n",
       "      <td>402.0</td>\n",
       "      <td>1.7</td>\n",
       "      <td>100000.0</td>\n",
       "      <td>Free</td>\n",
       "      <td>0.0</td>\n",
       "      <td>Everyone</td>\n",
       "      <td>Entertainment</td>\n",
       "      <td>2015-12-11</td>\n",
       "      <td>1.0</td>\n",
       "      <td>2.2 and up</td>\n",
       "      <td>2015</td>\n",
       "    </tr>\n",
       "    <tr>\n",
       "      <th>8086</th>\n",
       "      <td>EB Mobile</td>\n",
       "      <td>FAMILY</td>\n",
       "      <td>1.7</td>\n",
       "      <td>1172.0</td>\n",
       "      <td>5.6</td>\n",
       "      <td>10000.0</td>\n",
       "      <td>Free</td>\n",
       "      <td>0.0</td>\n",
       "      <td>Everyone</td>\n",
       "      <td>Education</td>\n",
       "      <td>2017-10-09</td>\n",
       "      <td>1.1.2</td>\n",
       "      <td>4.1 and up</td>\n",
       "      <td>2017</td>\n",
       "    </tr>\n",
       "    <tr>\n",
       "      <th>7121</th>\n",
       "      <td>CW TV</td>\n",
       "      <td>NEWS_AND_MAGAZINES</td>\n",
       "      <td>1.7</td>\n",
       "      <td>367.0</td>\n",
       "      <td>6.1</td>\n",
       "      <td>50000.0</td>\n",
       "      <td>Free</td>\n",
       "      <td>0.0</td>\n",
       "      <td>Everyone</td>\n",
       "      <td>News &amp; Magazines</td>\n",
       "      <td>2018-03-02</td>\n",
       "      <td>1.7</td>\n",
       "      <td>4.0 and up</td>\n",
       "      <td>2018</td>\n",
       "    </tr>\n",
       "    <tr>\n",
       "      <th>3850</th>\n",
       "      <td>C by GE</td>\n",
       "      <td>LIFESTYLE</td>\n",
       "      <td>1.7</td>\n",
       "      <td>686.0</td>\n",
       "      <td>6.6</td>\n",
       "      <td>10000.0</td>\n",
       "      <td>Free</td>\n",
       "      <td>0.0</td>\n",
       "      <td>Everyone</td>\n",
       "      <td>Lifestyle</td>\n",
       "      <td>2018-07-11</td>\n",
       "      <td>4.1.07</td>\n",
       "      <td>4.3 and up</td>\n",
       "      <td>2018</td>\n",
       "    </tr>\n",
       "  </tbody>\n",
       "</table>\n",
       "</div>"
      ],
      "text/plain": [
       "                          App            Category  Rating  Reviews  Size  \\\n",
       "6122             Pick-a-Paint           LIFESTYLE     1.6    242.0  36.0   \n",
       "4698  AC REMOTE UNIVERSAL-PRO              FAMILY     1.6    402.0   1.7   \n",
       "8086                EB Mobile              FAMILY     1.7   1172.0   5.6   \n",
       "7121                    CW TV  NEWS_AND_MAGAZINES     1.7    367.0   6.1   \n",
       "3850                  C by GE           LIFESTYLE     1.7    686.0   6.6   \n",
       "\n",
       "      Installs  Type  Price Content Rating            Genres Last Updated  \\\n",
       "6122   50000.0  Free    0.0       Everyone         Lifestyle   2018-05-14   \n",
       "4698  100000.0  Free    0.0       Everyone     Entertainment   2015-12-11   \n",
       "8086   10000.0  Free    0.0       Everyone         Education   2017-10-09   \n",
       "7121   50000.0  Free    0.0       Everyone  News & Magazines   2018-03-02   \n",
       "3850   10000.0  Free    0.0       Everyone         Lifestyle   2018-07-11   \n",
       "\n",
       "     Current Ver Android Ver  Last Updated Year  \n",
       "6122       1.2.1  3.0 and up               2018  \n",
       "4698         1.0  2.2 and up               2015  \n",
       "8086       1.1.2  4.1 and up               2017  \n",
       "7121         1.7  4.0 and up               2018  \n",
       "3850      4.1.07  4.3 and up               2018  "
      ]
     },
     "execution_count": 580,
     "metadata": {},
     "output_type": "execute_result"
    }
   ],
   "source": [
    "df[df['Reviews'] > 100].sort_values('Rating').head()"
   ]
  },
  {
   "cell_type": "code",
   "execution_count": 581,
   "metadata": {},
   "outputs": [
    {
     "data": {
      "text/html": [
       "<style  type=\"text/css\" >\n",
       "    #T_57894b66_ba35_11ea_a104_38f9d3537bcbrow0_col0 {\n",
       "            background-color:  #b40426;\n",
       "            color:  #f1f1f1;\n",
       "        }    #T_57894b66_ba35_11ea_a104_38f9d3537bcbrow0_col1 {\n",
       "            background-color:  #516ddb;\n",
       "            color:  #000000;\n",
       "        }    #T_57894b66_ba35_11ea_a104_38f9d3537bcbrow0_col2 {\n",
       "            background-color:  #5977e3;\n",
       "            color:  #000000;\n",
       "        }    #T_57894b66_ba35_11ea_a104_38f9d3537bcbrow0_col3 {\n",
       "            background-color:  #4c66d6;\n",
       "            color:  #000000;\n",
       "        }    #T_57894b66_ba35_11ea_a104_38f9d3537bcbrow0_col4 {\n",
       "            background-color:  #3b4cc0;\n",
       "            color:  #f1f1f1;\n",
       "        }    #T_57894b66_ba35_11ea_a104_38f9d3537bcbrow0_col5 {\n",
       "            background-color:  #6788ee;\n",
       "            color:  #000000;\n",
       "        }    #T_57894b66_ba35_11ea_a104_38f9d3537bcbrow1_col0 {\n",
       "            background-color:  #6c8ff1;\n",
       "            color:  #000000;\n",
       "        }    #T_57894b66_ba35_11ea_a104_38f9d3537bcbrow1_col1 {\n",
       "            background-color:  #5572df;\n",
       "            color:  #000000;\n",
       "        }    #T_57894b66_ba35_11ea_a104_38f9d3537bcbrow1_col2 {\n",
       "            background-color:  #81a4fb;\n",
       "            color:  #000000;\n",
       "        }    #T_57894b66_ba35_11ea_a104_38f9d3537bcbrow1_col3 {\n",
       "            background-color:  #5a78e4;\n",
       "            color:  #000000;\n",
       "        }    #T_57894b66_ba35_11ea_a104_38f9d3537bcbrow1_col4 {\n",
       "            background-color:  #4055c8;\n",
       "            color:  #f1f1f1;\n",
       "        }    #T_57894b66_ba35_11ea_a104_38f9d3537bcbrow1_col5 {\n",
       "            background-color:  #b40426;\n",
       "            color:  #f1f1f1;\n",
       "        }    #T_57894b66_ba35_11ea_a104_38f9d3537bcbrow2_col0 {\n",
       "            background-color:  #5977e3;\n",
       "            color:  #000000;\n",
       "        }    #T_57894b66_ba35_11ea_a104_38f9d3537bcbrow2_col1 {\n",
       "            background-color:  #6180e9;\n",
       "            color:  #000000;\n",
       "        }    #T_57894b66_ba35_11ea_a104_38f9d3537bcbrow2_col2 {\n",
       "            background-color:  #b40426;\n",
       "            color:  #f1f1f1;\n",
       "        }    #T_57894b66_ba35_11ea_a104_38f9d3537bcbrow2_col3 {\n",
       "            background-color:  #4c66d6;\n",
       "            color:  #000000;\n",
       "        }    #T_57894b66_ba35_11ea_a104_38f9d3537bcbrow2_col4 {\n",
       "            background-color:  #3b4cc0;\n",
       "            color:  #f1f1f1;\n",
       "        }    #T_57894b66_ba35_11ea_a104_38f9d3537bcbrow2_col5 {\n",
       "            background-color:  #7b9ff9;\n",
       "            color:  #000000;\n",
       "        }    #T_57894b66_ba35_11ea_a104_38f9d3537bcbrow3_col0 {\n",
       "            background-color:  #5572df;\n",
       "            color:  #000000;\n",
       "        }    #T_57894b66_ba35_11ea_a104_38f9d3537bcbrow3_col1 {\n",
       "            background-color:  #b40426;\n",
       "            color:  #f1f1f1;\n",
       "        }    #T_57894b66_ba35_11ea_a104_38f9d3537bcbrow3_col2 {\n",
       "            background-color:  #6485ec;\n",
       "            color:  #000000;\n",
       "        }    #T_57894b66_ba35_11ea_a104_38f9d3537bcbrow3_col3 {\n",
       "            background-color:  #f6bea4;\n",
       "            color:  #000000;\n",
       "        }    #T_57894b66_ba35_11ea_a104_38f9d3537bcbrow3_col4 {\n",
       "            background-color:  #3e51c5;\n",
       "            color:  #f1f1f1;\n",
       "        }    #T_57894b66_ba35_11ea_a104_38f9d3537bcbrow3_col5 {\n",
       "            background-color:  #536edd;\n",
       "            color:  #000000;\n",
       "        }    #T_57894b66_ba35_11ea_a104_38f9d3537bcbrow4_col0 {\n",
       "            background-color:  #506bda;\n",
       "            color:  #000000;\n",
       "        }    #T_57894b66_ba35_11ea_a104_38f9d3537bcbrow4_col1 {\n",
       "            background-color:  #f6bea4;\n",
       "            color:  #000000;\n",
       "        }    #T_57894b66_ba35_11ea_a104_38f9d3537bcbrow4_col2 {\n",
       "            background-color:  #506bda;\n",
       "            color:  #000000;\n",
       "        }    #T_57894b66_ba35_11ea_a104_38f9d3537bcbrow4_col3 {\n",
       "            background-color:  #b40426;\n",
       "            color:  #f1f1f1;\n",
       "        }    #T_57894b66_ba35_11ea_a104_38f9d3537bcbrow4_col4 {\n",
       "            background-color:  #3e51c5;\n",
       "            color:  #f1f1f1;\n",
       "        }    #T_57894b66_ba35_11ea_a104_38f9d3537bcbrow4_col5 {\n",
       "            background-color:  #5875e1;\n",
       "            color:  #000000;\n",
       "        }    #T_57894b66_ba35_11ea_a104_38f9d3537bcbrow5_col0 {\n",
       "            background-color:  #3b4cc0;\n",
       "            color:  #f1f1f1;\n",
       "        }    #T_57894b66_ba35_11ea_a104_38f9d3537bcbrow5_col1 {\n",
       "            background-color:  #3b4cc0;\n",
       "            color:  #f1f1f1;\n",
       "        }    #T_57894b66_ba35_11ea_a104_38f9d3537bcbrow5_col2 {\n",
       "            background-color:  #3b4cc0;\n",
       "            color:  #f1f1f1;\n",
       "        }    #T_57894b66_ba35_11ea_a104_38f9d3537bcbrow5_col3 {\n",
       "            background-color:  #3b4cc0;\n",
       "            color:  #f1f1f1;\n",
       "        }    #T_57894b66_ba35_11ea_a104_38f9d3537bcbrow5_col4 {\n",
       "            background-color:  #b40426;\n",
       "            color:  #f1f1f1;\n",
       "        }    #T_57894b66_ba35_11ea_a104_38f9d3537bcbrow5_col5 {\n",
       "            background-color:  #3b4cc0;\n",
       "            color:  #f1f1f1;\n",
       "        }</style><table id=\"T_57894b66_ba35_11ea_a104_38f9d3537bcb\" ><thead>    <tr>        <th class=\"blank level0\" ></th>        <th class=\"col_heading level0 col0\" >Rating</th>        <th class=\"col_heading level0 col1\" >Reviews</th>        <th class=\"col_heading level0 col2\" >Size</th>        <th class=\"col_heading level0 col3\" >Installs</th>        <th class=\"col_heading level0 col4\" >Price</th>        <th class=\"col_heading level0 col5\" >Last Updated Year</th>    </tr></thead><tbody>\n",
       "                <tr>\n",
       "                        <th id=\"T_57894b66_ba35_11ea_a104_38f9d3537bcblevel0_row0\" class=\"row_heading level0 row0\" >Rating</th>\n",
       "                        <td id=\"T_57894b66_ba35_11ea_a104_38f9d3537bcbrow0_col0\" class=\"data row0 col0\" >1.000000</td>\n",
       "                        <td id=\"T_57894b66_ba35_11ea_a104_38f9d3537bcbrow0_col1\" class=\"data row0 col1\" >0.068133</td>\n",
       "                        <td id=\"T_57894b66_ba35_11ea_a104_38f9d3537bcbrow0_col2\" class=\"data row0 col2\" >0.078849</td>\n",
       "                        <td id=\"T_57894b66_ba35_11ea_a104_38f9d3537bcbrow0_col3\" class=\"data row0 col3\" >0.051337</td>\n",
       "                        <td id=\"T_57894b66_ba35_11ea_a104_38f9d3537bcbrow0_col4\" class=\"data row0 col4\" >-0.021919</td>\n",
       "                        <td id=\"T_57894b66_ba35_11ea_a104_38f9d3537bcbrow0_col5\" class=\"data row0 col5\" >0.137871</td>\n",
       "            </tr>\n",
       "            <tr>\n",
       "                        <th id=\"T_57894b66_ba35_11ea_a104_38f9d3537bcblevel0_row1\" class=\"row_heading level0 row1\" >Last Updated Year</th>\n",
       "                        <td id=\"T_57894b66_ba35_11ea_a104_38f9d3537bcbrow1_col0\" class=\"data row1 col0\" >0.137871</td>\n",
       "                        <td id=\"T_57894b66_ba35_11ea_a104_38f9d3537bcbrow1_col1\" class=\"data row1 col1\" >0.078321</td>\n",
       "                        <td id=\"T_57894b66_ba35_11ea_a104_38f9d3537bcbrow1_col2\" class=\"data row1 col2\" >0.199098</td>\n",
       "                        <td id=\"T_57894b66_ba35_11ea_a104_38f9d3537bcbrow1_col3\" class=\"data row1 col3\" >0.092689</td>\n",
       "                        <td id=\"T_57894b66_ba35_11ea_a104_38f9d3537bcbrow1_col4\" class=\"data row1 col4\" >-0.003406</td>\n",
       "                        <td id=\"T_57894b66_ba35_11ea_a104_38f9d3537bcbrow1_col5\" class=\"data row1 col5\" >1.000000</td>\n",
       "            </tr>\n",
       "            <tr>\n",
       "                        <th id=\"T_57894b66_ba35_11ea_a104_38f9d3537bcblevel0_row2\" class=\"row_heading level0 row2\" >Size</th>\n",
       "                        <td id=\"T_57894b66_ba35_11ea_a104_38f9d3537bcbrow2_col0\" class=\"data row2 col0\" >0.078849</td>\n",
       "                        <td id=\"T_57894b66_ba35_11ea_a104_38f9d3537bcbrow2_col1\" class=\"data row2 col1\" >0.113105</td>\n",
       "                        <td id=\"T_57894b66_ba35_11ea_a104_38f9d3537bcbrow2_col2\" class=\"data row2 col2\" >1.000000</td>\n",
       "                        <td id=\"T_57894b66_ba35_11ea_a104_38f9d3537bcbrow2_col3\" class=\"data row2 col3\" >0.050721</td>\n",
       "                        <td id=\"T_57894b66_ba35_11ea_a104_38f9d3537bcbrow2_col4\" class=\"data row2 col4\" >-0.024456</td>\n",
       "                        <td id=\"T_57894b66_ba35_11ea_a104_38f9d3537bcbrow2_col5\" class=\"data row2 col5\" >0.199098</td>\n",
       "            </tr>\n",
       "            <tr>\n",
       "                        <th id=\"T_57894b66_ba35_11ea_a104_38f9d3537bcblevel0_row3\" class=\"row_heading level0 row3\" >Reviews</th>\n",
       "                        <td id=\"T_57894b66_ba35_11ea_a104_38f9d3537bcbrow3_col0\" class=\"data row3 col0\" >0.068133</td>\n",
       "                        <td id=\"T_57894b66_ba35_11ea_a104_38f9d3537bcbrow3_col1\" class=\"data row3 col1\" >1.000000</td>\n",
       "                        <td id=\"T_57894b66_ba35_11ea_a104_38f9d3537bcbrow3_col2\" class=\"data row3 col2\" >0.113105</td>\n",
       "                        <td id=\"T_57894b66_ba35_11ea_a104_38f9d3537bcbrow3_col3\" class=\"data row3 col3\" >0.641605</td>\n",
       "                        <td id=\"T_57894b66_ba35_11ea_a104_38f9d3537bcbrow3_col4\" class=\"data row3 col4\" >-0.009824</td>\n",
       "                        <td id=\"T_57894b66_ba35_11ea_a104_38f9d3537bcbrow3_col5\" class=\"data row3 col5\" >0.078321</td>\n",
       "            </tr>\n",
       "            <tr>\n",
       "                        <th id=\"T_57894b66_ba35_11ea_a104_38f9d3537bcblevel0_row4\" class=\"row_heading level0 row4\" >Installs</th>\n",
       "                        <td id=\"T_57894b66_ba35_11ea_a104_38f9d3537bcbrow4_col0\" class=\"data row4 col0\" >0.051337</td>\n",
       "                        <td id=\"T_57894b66_ba35_11ea_a104_38f9d3537bcbrow4_col1\" class=\"data row4 col1\" >0.641605</td>\n",
       "                        <td id=\"T_57894b66_ba35_11ea_a104_38f9d3537bcbrow4_col2\" class=\"data row4 col2\" >0.050721</td>\n",
       "                        <td id=\"T_57894b66_ba35_11ea_a104_38f9d3537bcbrow4_col3\" class=\"data row4 col3\" >1.000000</td>\n",
       "                        <td id=\"T_57894b66_ba35_11ea_a104_38f9d3537bcbrow4_col4\" class=\"data row4 col4\" >-0.011895</td>\n",
       "                        <td id=\"T_57894b66_ba35_11ea_a104_38f9d3537bcbrow4_col5\" class=\"data row4 col5\" >0.092689</td>\n",
       "            </tr>\n",
       "            <tr>\n",
       "                        <th id=\"T_57894b66_ba35_11ea_a104_38f9d3537bcblevel0_row5\" class=\"row_heading level0 row5\" >Price</th>\n",
       "                        <td id=\"T_57894b66_ba35_11ea_a104_38f9d3537bcbrow5_col0\" class=\"data row5 col0\" >-0.021919</td>\n",
       "                        <td id=\"T_57894b66_ba35_11ea_a104_38f9d3537bcbrow5_col1\" class=\"data row5 col1\" >-0.009824</td>\n",
       "                        <td id=\"T_57894b66_ba35_11ea_a104_38f9d3537bcbrow5_col2\" class=\"data row5 col2\" >-0.024456</td>\n",
       "                        <td id=\"T_57894b66_ba35_11ea_a104_38f9d3537bcbrow5_col3\" class=\"data row5 col3\" >-0.011895</td>\n",
       "                        <td id=\"T_57894b66_ba35_11ea_a104_38f9d3537bcbrow5_col4\" class=\"data row5 col4\" >1.000000</td>\n",
       "                        <td id=\"T_57894b66_ba35_11ea_a104_38f9d3537bcbrow5_col5\" class=\"data row5 col5\" >-0.003406</td>\n",
       "            </tr>\n",
       "    </tbody></table>"
      ],
      "text/plain": [
       "<pandas.io.formats.style.Styler at 0x7f8d4e07d150>"
      ]
     },
     "execution_count": 581,
     "metadata": {},
     "output_type": "execute_result"
    }
   ],
   "source": [
    "corr = df.corr().sort_values('Rating', ascending=False)\n",
    "corr.style.background_gradient(cmap='coolwarm')"
   ]
  },
  {
   "cell_type": "code",
   "execution_count": 582,
   "metadata": {},
   "outputs": [],
   "source": [
    "# Size has the biggest correlation with our Rating column\n",
    "# We can see the correlation in our data distribution as well\n",
    "# with both columns sharing similar distribution shapes"
   ]
  },
  {
   "cell_type": "code",
   "execution_count": 583,
   "metadata": {},
   "outputs": [
    {
     "name": "stderr",
     "output_type": "stream",
     "text": [
      "/Users/jacques/opt/anaconda3/envs/data-sci/lib/python3.7/site-packages/statsmodels/nonparametric/kde.py:487: RuntimeWarning:\n",
      "\n",
      "invalid value encountered in true_divide\n",
      "\n",
      "/Users/jacques/opt/anaconda3/envs/data-sci/lib/python3.7/site-packages/statsmodels/nonparametric/kdetools.py:34: RuntimeWarning:\n",
      "\n",
      "invalid value encountered in double_scalars\n",
      "\n"
     ]
    },
    {
     "data": {
      "text/plain": [
       "<seaborn.axisgrid.PairGrid at 0x7f8d4bec8dd0>"
      ]
     },
     "execution_count": 583,
     "metadata": {},
     "output_type": "execute_result"
    },
    {
     "data": {
      "image/png": "[encoded data removed]",
      "text/plain": [
       "<Figure size 1142.22x1080 with 42 Axes>"
      ]
     },
     "metadata": {},
     "output_type": "display_data"
    }
   ],
   "source": [
    "sns.pairplot(df, hue=\"Type\")"
   ]
  },
  {
   "cell_type": "code",
   "execution_count": 584,
   "metadata": {},
   "outputs": [
    {
     "data": {
      "image/png": "[encoded data removed]",
      "text/plain": [
       "<Figure size 842.4x595.44 with 1 Axes>"
      ]
     },
     "metadata": {},
     "output_type": "display_data"
    }
   ],
   "source": [
    "df['Size'].plot.hist(alpha=0.3, color='orange', bins=20);"
   ]
  },
  {
   "cell_type": "code",
   "execution_count": 585,
   "metadata": {},
   "outputs": [
    {
     "data": {
      "image/png": "[encoded data removed]",
      "text/plain": [
       "<Figure size 842.4x595.44 with 1 Axes>"
      ]
     },
     "metadata": {},
     "output_type": "display_data"
    }
   ],
   "source": [
    "df['Rating'].plot.hist(alpha=0.3, color='green', bins=20);"
   ]
  },
  {
   "cell_type": "code",
   "execution_count": 586,
   "metadata": {},
   "outputs": [
    {
     "data": {
      "text/plain": [
       "<Figure size 720x720 with 0 Axes>"
      ]
     },
     "metadata": {},
     "output_type": "display_data"
    },
    {
     "data": {
      "image/png": "[encoded data removed]",
      "text/plain": [
       "<Figure size 576x576 with 3 Axes>"
      ]
     },
     "metadata": {},
     "output_type": "display_data"
    }
   ],
   "source": [
    "plt.figure(figsize = (10,10))\n",
    "sns.jointplot(x=\"Rating\", y=\"Size\",color = 'green', data=df, height = 8);"
   ]
  },
  {
   "cell_type": "code",
   "execution_count": 721,
   "metadata": {},
   "outputs": [
    {
     "data": {
      "image/png": "[encoded data removed]",
      "text/plain": [
       "<Figure size 842.4x595.44 with 1 Axes>"
      ]
     },
     "metadata": {},
     "output_type": "display_data"
    }
   ],
   "source": [
    "plot = sns.countplot(x=\"Category\",data=df, palette=\"Set2\")\n",
    "plot.set_xticklabels(g.get_xticklabels(), rotation=90);"
   ]
  },
  {
   "cell_type": "code",
   "execution_count": 589,
   "metadata": {},
   "outputs": [
    {
     "data": {
      "text/html": [
       "<style  type=\"text/css\" >\n",
       "    #T_69e8db8c_ba35_11ea_a104_38f9d3537bcbrow0_col0 {\n",
       "            width:  10em;\n",
       "             height:  80%;\n",
       "            background:  linear-gradient(90deg, transparent 50.0%, #FFA07A 50.0%, #FFA07A 51.7%, transparent 51.7%);\n",
       "        }    #T_69e8db8c_ba35_11ea_a104_38f9d3537bcbrow1_col0 {\n",
       "            width:  10em;\n",
       "             height:  80%;\n",
       "            background:  linear-gradient(90deg, transparent 50.0%, #FFA07A 50.0%, #FFA07A 52.1%, transparent 52.1%);\n",
       "        }    #T_69e8db8c_ba35_11ea_a104_38f9d3537bcbrow2_col0 {\n",
       "            width:  10em;\n",
       "             height:  80%;\n",
       "            background:  linear-gradient(90deg, transparent 50.0%, #FFA07A 50.0%, #FFA07A 51.2%, transparent 51.2%);\n",
       "        }    #T_69e8db8c_ba35_11ea_a104_38f9d3537bcbrow3_col0 {\n",
       "            width:  10em;\n",
       "             height:  80%;\n",
       "            background:  linear-gradient(90deg, transparent 50.0%, #FFA07A 50.0%, #FFA07A 55.1%, transparent 55.1%);\n",
       "        }    #T_69e8db8c_ba35_11ea_a104_38f9d3537bcbrow4_col0 {\n",
       "            width:  10em;\n",
       "             height:  80%;\n",
       "            background:  linear-gradient(90deg, transparent 50.0%, #FFA07A 50.0%, #FFA07A 58.7%, transparent 58.7%);\n",
       "        }    #T_69e8db8c_ba35_11ea_a104_38f9d3537bcbrow5_col0 {\n",
       "            width:  10em;\n",
       "             height:  80%;\n",
       "            background:  linear-gradient(90deg, transparent 50.0%, #FFA07A 50.0%, #FFA07A 51.7%, transparent 51.7%);\n",
       "        }    #T_69e8db8c_ba35_11ea_a104_38f9d3537bcbrow6_col0 {\n",
       "            width:  10em;\n",
       "             height:  80%;\n",
       "            background:  linear-gradient(90deg, transparent 50.0%, #FFA07A 50.0%, #FFA07A 59.4%, transparent 59.4%);\n",
       "        }    #T_69e8db8c_ba35_11ea_a104_38f9d3537bcbrow7_col0 {\n",
       "            width:  10em;\n",
       "             height:  80%;\n",
       "            background:  linear-gradient(90deg, transparent 50.0%, #FFA07A 50.0%, #FFA07A 55.6%, transparent 55.6%);\n",
       "        }    #T_69e8db8c_ba35_11ea_a104_38f9d3537bcbrow8_col0 {\n",
       "            width:  10em;\n",
       "             height:  80%;\n",
       "            background:  linear-gradient(90deg, transparent 50.0%, #FFA07A 50.0%, #FFA07A 54.4%, transparent 54.4%);\n",
       "        }    #T_69e8db8c_ba35_11ea_a104_38f9d3537bcbrow9_col0 {\n",
       "            width:  10em;\n",
       "             height:  80%;\n",
       "            background:  linear-gradient(90deg, transparent 50.0%, #FFA07A 50.0%, #FFA07A 54.3%, transparent 54.3%);\n",
       "        }    #T_69e8db8c_ba35_11ea_a104_38f9d3537bcbrow10_col0 {\n",
       "            width:  10em;\n",
       "             height:  80%;\n",
       "            background:  linear-gradient(90deg, transparent 50.0%, #FFA07A 50.0%, #FFA07A 51.3%, transparent 51.3%);\n",
       "        }    #T_69e8db8c_ba35_11ea_a104_38f9d3537bcbrow11_col0 {\n",
       "            width:  10em;\n",
       "             height:  80%;\n",
       "            background:  linear-gradient(90deg, transparent 50.0%, #FFA07A 50.0%, #FFA07A 100.0%, transparent 100.0%);\n",
       "        }    #T_69e8db8c_ba35_11ea_a104_38f9d3537bcbrow12_col0 {\n",
       "            width:  10em;\n",
       "             height:  80%;\n",
       "            background:  linear-gradient(90deg, transparent 50.0%, #FFA07A 50.0%, #FFA07A 59.2%, transparent 59.2%);\n",
       "        }    #T_69e8db8c_ba35_11ea_a104_38f9d3537bcbrow13_col0 {\n",
       "            width:  10em;\n",
       "             height:  80%;\n",
       "            background:  linear-gradient(90deg, transparent 50.0%, #FFA07A 50.0%, #FFA07A 53.1%, transparent 53.1%);\n",
       "        }    #T_69e8db8c_ba35_11ea_a104_38f9d3537bcbrow14_col0 {\n",
       "            width:  10em;\n",
       "             height:  80%;\n",
       "            background:  linear-gradient(90deg, transparent 50.0%, #FFA07A 50.0%, #FFA07A 81.4%, transparent 81.4%);\n",
       "        }    #T_69e8db8c_ba35_11ea_a104_38f9d3537bcbrow15_col0 {\n",
       "            width:  10em;\n",
       "             height:  80%;\n",
       "            background:  linear-gradient(90deg, transparent 50.0%, #FFA07A 50.0%, #FFA07A 58.5%, transparent 58.5%);\n",
       "        }    #T_69e8db8c_ba35_11ea_a104_38f9d3537bcbrow16_col0 {\n",
       "            width:  10em;\n",
       "             height:  80%;\n",
       "            background:  linear-gradient(90deg, transparent 50.0%, #FFA07A 50.0%, #FFA07A 52.2%, transparent 52.2%);\n",
       "        }    #T_69e8db8c_ba35_11ea_a104_38f9d3537bcbrow17_col0 {\n",
       "            width:  10em;\n",
       "             height:  80%;\n",
       "            background:  linear-gradient(90deg, transparent 50.0%, #FFA07A 50.0%, #FFA07A 51.8%, transparent 51.8%);\n",
       "        }    #T_69e8db8c_ba35_11ea_a104_38f9d3537bcbrow18_col0 {\n",
       "            width:  10em;\n",
       "             height:  80%;\n",
       "            background:  linear-gradient(90deg, transparent 50.0%, #FFA07A 50.0%, #FFA07A 59.0%, transparent 59.0%);\n",
       "        }    #T_69e8db8c_ba35_11ea_a104_38f9d3537bcbrow19_col0 {\n",
       "            width:  10em;\n",
       "             height:  80%;\n",
       "            background:  linear-gradient(90deg, transparent 50.0%, #FFA07A 50.0%, #FFA07A 53.6%, transparent 53.6%);\n",
       "        }    #T_69e8db8c_ba35_11ea_a104_38f9d3537bcbrow20_col0 {\n",
       "            width:  10em;\n",
       "             height:  80%;\n",
       "            background:  linear-gradient(90deg, transparent 50.0%, #FFA07A 50.0%, #FFA07A 60.0%, transparent 60.0%);\n",
       "        }    #T_69e8db8c_ba35_11ea_a104_38f9d3537bcbrow21_col0 {\n",
       "            width:  10em;\n",
       "             height:  80%;\n",
       "            background:  linear-gradient(90deg, transparent 50.0%, #FFA07A 50.0%, #FFA07A 56.7%, transparent 56.7%);\n",
       "        }    #T_69e8db8c_ba35_11ea_a104_38f9d3537bcbrow22_col0 {\n",
       "            width:  10em;\n",
       "             height:  80%;\n",
       "            background:  linear-gradient(90deg, transparent 50.0%, #FFA07A 50.0%, #FFA07A 51.4%, transparent 51.4%);\n",
       "        }    #T_69e8db8c_ba35_11ea_a104_38f9d3537bcbrow23_col0 {\n",
       "            width:  10em;\n",
       "             height:  80%;\n",
       "            background:  linear-gradient(90deg, transparent 50.0%, #FFA07A 50.0%, #FFA07A 58.9%, transparent 58.9%);\n",
       "        }    #T_69e8db8c_ba35_11ea_a104_38f9d3537bcbrow24_col0 {\n",
       "            width:  10em;\n",
       "             height:  80%;\n",
       "            background:  linear-gradient(90deg, transparent 50.0%, #FFA07A 50.0%, #FFA07A 59.1%, transparent 59.1%);\n",
       "        }    #T_69e8db8c_ba35_11ea_a104_38f9d3537bcbrow25_col0 {\n",
       "            width:  10em;\n",
       "             height:  80%;\n",
       "            background:  linear-gradient(90deg, transparent 50.0%, #FFA07A 50.0%, #FFA07A 60.1%, transparent 60.1%);\n",
       "        }    #T_69e8db8c_ba35_11ea_a104_38f9d3537bcbrow26_col0 {\n",
       "            width:  10em;\n",
       "             height:  80%;\n",
       "            background:  linear-gradient(90deg, transparent 50.0%, #FFA07A 50.0%, #FFA07A 56.8%, transparent 56.8%);\n",
       "        }    #T_69e8db8c_ba35_11ea_a104_38f9d3537bcbrow27_col0 {\n",
       "            width:  10em;\n",
       "             height:  80%;\n",
       "            background:  linear-gradient(90deg, transparent 50.0%, #FFA07A 50.0%, #FFA07A 57.4%, transparent 57.4%);\n",
       "        }    #T_69e8db8c_ba35_11ea_a104_38f9d3537bcbrow28_col0 {\n",
       "            width:  10em;\n",
       "             height:  80%;\n",
       "            background:  linear-gradient(90deg, transparent 50.0%, #FFA07A 50.0%, #FFA07A 59.1%, transparent 59.1%);\n",
       "        }    #T_69e8db8c_ba35_11ea_a104_38f9d3537bcbrow29_col0 {\n",
       "            width:  10em;\n",
       "             height:  80%;\n",
       "            background:  linear-gradient(90deg, transparent 50.0%, #FFA07A 50.0%, #FFA07A 71.0%, transparent 71.0%);\n",
       "        }    #T_69e8db8c_ba35_11ea_a104_38f9d3537bcbrow30_col0 {\n",
       "            width:  10em;\n",
       "             height:  80%;\n",
       "            background:  linear-gradient(90deg, transparent 50.0%, #FFA07A 50.0%, #FFA07A 56.5%, transparent 56.5%);\n",
       "        }    #T_69e8db8c_ba35_11ea_a104_38f9d3537bcbrow31_col0 {\n",
       "            width:  10em;\n",
       "             height:  80%;\n",
       "            background:  linear-gradient(90deg, transparent 50.0%, #FFA07A 50.0%, #FFA07A 54.6%, transparent 54.6%);\n",
       "        }    #T_69e8db8c_ba35_11ea_a104_38f9d3537bcbrow32_col0 {\n",
       "            width:  10em;\n",
       "             height:  80%;\n",
       "            background:  linear-gradient(90deg, transparent 50.0%, #FFA07A 50.0%, #FFA07A 52.1%, transparent 52.1%);\n",
       "        }</style><table id=\"T_69e8db8c_ba35_11ea_a104_38f9d3537bcb\" ><thead>    <tr>        <th class=\"blank level0\" ></th>        <th class=\"col_heading level0 col0\" >count</th>        <th class=\"col_heading level0 col1\" >mean</th>        <th class=\"col_heading level0 col2\" >std</th>        <th class=\"col_heading level0 col3\" >min</th>        <th class=\"col_heading level0 col4\" >25%</th>        <th class=\"col_heading level0 col5\" >50%</th>        <th class=\"col_heading level0 col6\" >75%</th>        <th class=\"col_heading level0 col7\" >max</th>    </tr>    <tr>        <th class=\"index_name level0\" >Category</th>        <th class=\"blank\" ></th>        <th class=\"blank\" ></th>        <th class=\"blank\" ></th>        <th class=\"blank\" ></th>        <th class=\"blank\" ></th>        <th class=\"blank\" ></th>        <th class=\"blank\" ></th>        <th class=\"blank\" ></th>    </tr></thead><tbody>\n",
       "                <tr>\n",
       "                        <th id=\"T_69e8db8c_ba35_11ea_a104_38f9d3537bcblevel0_row0\" class=\"row_heading level0 row0\" >ART_AND_DESIGN</th>\n",
       "                        <td id=\"T_69e8db8c_ba35_11ea_a104_38f9d3537bcbrow0_col0\" class=\"data row0 col0\" >61.000000</td>\n",
       "                        <td id=\"T_69e8db8c_ba35_11ea_a104_38f9d3537bcbrow0_col1\" class=\"data row0 col1\" >4.377049</td>\n",
       "                        <td id=\"T_69e8db8c_ba35_11ea_a104_38f9d3537bcbrow0_col2\" class=\"data row0 col2\" >0.328326</td>\n",
       "                        <td id=\"T_69e8db8c_ba35_11ea_a104_38f9d3537bcbrow0_col3\" class=\"data row0 col3\" >3.400000</td>\n",
       "                        <td id=\"T_69e8db8c_ba35_11ea_a104_38f9d3537bcbrow0_col4\" class=\"data row0 col4\" >4.100000</td>\n",
       "                        <td id=\"T_69e8db8c_ba35_11ea_a104_38f9d3537bcbrow0_col5\" class=\"data row0 col5\" >4.400000</td>\n",
       "                        <td id=\"T_69e8db8c_ba35_11ea_a104_38f9d3537bcbrow0_col6\" class=\"data row0 col6\" >4.700000</td>\n",
       "                        <td id=\"T_69e8db8c_ba35_11ea_a104_38f9d3537bcbrow0_col7\" class=\"data row0 col7\" >5.000000</td>\n",
       "            </tr>\n",
       "            <tr>\n",
       "                        <th id=\"T_69e8db8c_ba35_11ea_a104_38f9d3537bcblevel0_row1\" class=\"row_heading level0 row1\" >AUTO_AND_VEHICLES</th>\n",
       "                        <td id=\"T_69e8db8c_ba35_11ea_a104_38f9d3537bcbrow1_col0\" class=\"data row1 col0\" >73.000000</td>\n",
       "                        <td id=\"T_69e8db8c_ba35_11ea_a104_38f9d3537bcbrow1_col1\" class=\"data row1 col1\" >4.190411</td>\n",
       "                        <td id=\"T_69e8db8c_ba35_11ea_a104_38f9d3537bcbrow1_col2\" class=\"data row1 col2\" >0.543692</td>\n",
       "                        <td id=\"T_69e8db8c_ba35_11ea_a104_38f9d3537bcbrow1_col3\" class=\"data row1 col3\" >2.100000</td>\n",
       "                        <td id=\"T_69e8db8c_ba35_11ea_a104_38f9d3537bcbrow1_col4\" class=\"data row1 col4\" >4.000000</td>\n",
       "                        <td id=\"T_69e8db8c_ba35_11ea_a104_38f9d3537bcbrow1_col5\" class=\"data row1 col5\" >4.300000</td>\n",
       "                        <td id=\"T_69e8db8c_ba35_11ea_a104_38f9d3537bcbrow1_col6\" class=\"data row1 col6\" >4.600000</td>\n",
       "                        <td id=\"T_69e8db8c_ba35_11ea_a104_38f9d3537bcbrow1_col7\" class=\"data row1 col7\" >4.900000</td>\n",
       "            </tr>\n",
       "            <tr>\n",
       "                        <th id=\"T_69e8db8c_ba35_11ea_a104_38f9d3537bcblevel0_row2\" class=\"row_heading level0 row2\" >BEAUTY</th>\n",
       "                        <td id=\"T_69e8db8c_ba35_11ea_a104_38f9d3537bcbrow2_col0\" class=\"data row2 col0\" >42.000000</td>\n",
       "                        <td id=\"T_69e8db8c_ba35_11ea_a104_38f9d3537bcbrow2_col1\" class=\"data row2 col1\" >4.278571</td>\n",
       "                        <td id=\"T_69e8db8c_ba35_11ea_a104_38f9d3537bcbrow2_col2\" class=\"data row2 col2\" >0.362603</td>\n",
       "                        <td id=\"T_69e8db8c_ba35_11ea_a104_38f9d3537bcbrow2_col3\" class=\"data row2 col3\" >3.100000</td>\n",
       "                        <td id=\"T_69e8db8c_ba35_11ea_a104_38f9d3537bcbrow2_col4\" class=\"data row2 col4\" >4.000000</td>\n",
       "                        <td id=\"T_69e8db8c_ba35_11ea_a104_38f9d3537bcbrow2_col5\" class=\"data row2 col5\" >4.300000</td>\n",
       "                        <td id=\"T_69e8db8c_ba35_11ea_a104_38f9d3537bcbrow2_col6\" class=\"data row2 col6\" >4.575000</td>\n",
       "                        <td id=\"T_69e8db8c_ba35_11ea_a104_38f9d3537bcbrow2_col7\" class=\"data row2 col7\" >4.900000</td>\n",
       "            </tr>\n",
       "            <tr>\n",
       "                        <th id=\"T_69e8db8c_ba35_11ea_a104_38f9d3537bcblevel0_row3\" class=\"row_heading level0 row3\" >BOOKS_AND_REFERENCE</th>\n",
       "                        <td id=\"T_69e8db8c_ba35_11ea_a104_38f9d3537bcbrow3_col0\" class=\"data row3 col0\" >178.000000</td>\n",
       "                        <td id=\"T_69e8db8c_ba35_11ea_a104_38f9d3537bcbrow3_col1\" class=\"data row3 col1\" >4.346067</td>\n",
       "                        <td id=\"T_69e8db8c_ba35_11ea_a104_38f9d3537bcbrow3_col2\" class=\"data row3 col2\" >0.429046</td>\n",
       "                        <td id=\"T_69e8db8c_ba35_11ea_a104_38f9d3537bcbrow3_col3\" class=\"data row3 col3\" >2.700000</td>\n",
       "                        <td id=\"T_69e8db8c_ba35_11ea_a104_38f9d3537bcbrow3_col4\" class=\"data row3 col4\" >4.100000</td>\n",
       "                        <td id=\"T_69e8db8c_ba35_11ea_a104_38f9d3537bcbrow3_col5\" class=\"data row3 col5\" >4.500000</td>\n",
       "                        <td id=\"T_69e8db8c_ba35_11ea_a104_38f9d3537bcbrow3_col6\" class=\"data row3 col6\" >4.600000</td>\n",
       "                        <td id=\"T_69e8db8c_ba35_11ea_a104_38f9d3537bcbrow3_col7\" class=\"data row3 col7\" >5.000000</td>\n",
       "            </tr>\n",
       "            <tr>\n",
       "                        <th id=\"T_69e8db8c_ba35_11ea_a104_38f9d3537bcblevel0_row4\" class=\"row_heading level0 row4\" >BUSINESS</th>\n",
       "                        <td id=\"T_69e8db8c_ba35_11ea_a104_38f9d3537bcbrow4_col0\" class=\"data row4 col0\" >303.000000</td>\n",
       "                        <td id=\"T_69e8db8c_ba35_11ea_a104_38f9d3537bcbrow4_col1\" class=\"data row4 col1\" >4.121452</td>\n",
       "                        <td id=\"T_69e8db8c_ba35_11ea_a104_38f9d3537bcbrow4_col2\" class=\"data row4 col2\" >0.624422</td>\n",
       "                        <td id=\"T_69e8db8c_ba35_11ea_a104_38f9d3537bcbrow4_col3\" class=\"data row4 col3\" >1.000000</td>\n",
       "                        <td id=\"T_69e8db8c_ba35_11ea_a104_38f9d3537bcbrow4_col4\" class=\"data row4 col4\" >3.900000</td>\n",
       "                        <td id=\"T_69e8db8c_ba35_11ea_a104_38f9d3537bcbrow4_col5\" class=\"data row4 col5\" >4.300000</td>\n",
       "                        <td id=\"T_69e8db8c_ba35_11ea_a104_38f9d3537bcbrow4_col6\" class=\"data row4 col6\" >4.500000</td>\n",
       "                        <td id=\"T_69e8db8c_ba35_11ea_a104_38f9d3537bcbrow4_col7\" class=\"data row4 col7\" >5.000000</td>\n",
       "            </tr>\n",
       "            <tr>\n",
       "                        <th id=\"T_69e8db8c_ba35_11ea_a104_38f9d3537bcblevel0_row5\" class=\"row_heading level0 row5\" >COMICS</th>\n",
       "                        <td id=\"T_69e8db8c_ba35_11ea_a104_38f9d3537bcbrow5_col0\" class=\"data row5 col0\" >58.000000</td>\n",
       "                        <td id=\"T_69e8db8c_ba35_11ea_a104_38f9d3537bcbrow5_col1\" class=\"data row5 col1\" >4.155172</td>\n",
       "                        <td id=\"T_69e8db8c_ba35_11ea_a104_38f9d3537bcbrow5_col2\" class=\"data row5 col2\" >0.537758</td>\n",
       "                        <td id=\"T_69e8db8c_ba35_11ea_a104_38f9d3537bcbrow5_col3\" class=\"data row5 col3\" >2.800000</td>\n",
       "                        <td id=\"T_69e8db8c_ba35_11ea_a104_38f9d3537bcbrow5_col4\" class=\"data row5 col4\" >3.825000</td>\n",
       "                        <td id=\"T_69e8db8c_ba35_11ea_a104_38f9d3537bcbrow5_col5\" class=\"data row5 col5\" >4.400000</td>\n",
       "                        <td id=\"T_69e8db8c_ba35_11ea_a104_38f9d3537bcbrow5_col6\" class=\"data row5 col6\" >4.500000</td>\n",
       "                        <td id=\"T_69e8db8c_ba35_11ea_a104_38f9d3537bcbrow5_col7\" class=\"data row5 col7\" >5.000000</td>\n",
       "            </tr>\n",
       "            <tr>\n",
       "                        <th id=\"T_69e8db8c_ba35_11ea_a104_38f9d3537bcblevel0_row6\" class=\"row_heading level0 row6\" >COMMUNICATION</th>\n",
       "                        <td id=\"T_69e8db8c_ba35_11ea_a104_38f9d3537bcbrow6_col0\" class=\"data row6 col0\" >328.000000</td>\n",
       "                        <td id=\"T_69e8db8c_ba35_11ea_a104_38f9d3537bcbrow6_col1\" class=\"data row6 col1\" >4.158537</td>\n",
       "                        <td id=\"T_69e8db8c_ba35_11ea_a104_38f9d3537bcbrow6_col2\" class=\"data row6 col2\" >0.426192</td>\n",
       "                        <td id=\"T_69e8db8c_ba35_11ea_a104_38f9d3537bcbrow6_col3\" class=\"data row6 col3\" >1.000000</td>\n",
       "                        <td id=\"T_69e8db8c_ba35_11ea_a104_38f9d3537bcbrow6_col4\" class=\"data row6 col4\" >4.000000</td>\n",
       "                        <td id=\"T_69e8db8c_ba35_11ea_a104_38f9d3537bcbrow6_col5\" class=\"data row6 col5\" >4.300000</td>\n",
       "                        <td id=\"T_69e8db8c_ba35_11ea_a104_38f9d3537bcbrow6_col6\" class=\"data row6 col6\" >4.400000</td>\n",
       "                        <td id=\"T_69e8db8c_ba35_11ea_a104_38f9d3537bcbrow6_col7\" class=\"data row6 col7\" >5.000000</td>\n",
       "            </tr>\n",
       "            <tr>\n",
       "                        <th id=\"T_69e8db8c_ba35_11ea_a104_38f9d3537bcblevel0_row7\" class=\"row_heading level0 row7\" >DATING</th>\n",
       "                        <td id=\"T_69e8db8c_ba35_11ea_a104_38f9d3537bcbrow7_col0\" class=\"data row7 col0\" >195.000000</td>\n",
       "                        <td id=\"T_69e8db8c_ba35_11ea_a104_38f9d3537bcbrow7_col1\" class=\"data row7 col1\" >3.970769</td>\n",
       "                        <td id=\"T_69e8db8c_ba35_11ea_a104_38f9d3537bcbrow7_col2\" class=\"data row7 col2\" >0.630510</td>\n",
       "                        <td id=\"T_69e8db8c_ba35_11ea_a104_38f9d3537bcbrow7_col3\" class=\"data row7 col3\" >1.000000</td>\n",
       "                        <td id=\"T_69e8db8c_ba35_11ea_a104_38f9d3537bcbrow7_col4\" class=\"data row7 col4\" >3.700000</td>\n",
       "                        <td id=\"T_69e8db8c_ba35_11ea_a104_38f9d3537bcbrow7_col5\" class=\"data row7 col5\" >4.100000</td>\n",
       "                        <td id=\"T_69e8db8c_ba35_11ea_a104_38f9d3537bcbrow7_col6\" class=\"data row7 col6\" >4.400000</td>\n",
       "                        <td id=\"T_69e8db8c_ba35_11ea_a104_38f9d3537bcbrow7_col7\" class=\"data row7 col7\" >5.000000</td>\n",
       "            </tr>\n",
       "            <tr>\n",
       "                        <th id=\"T_69e8db8c_ba35_11ea_a104_38f9d3537bcblevel0_row8\" class=\"row_heading level0 row8\" >EDUCATION</th>\n",
       "                        <td id=\"T_69e8db8c_ba35_11ea_a104_38f9d3537bcbrow8_col0\" class=\"data row8 col0\" >155.000000</td>\n",
       "                        <td id=\"T_69e8db8c_ba35_11ea_a104_38f9d3537bcbrow8_col1\" class=\"data row8 col1\" >4.389032</td>\n",
       "                        <td id=\"T_69e8db8c_ba35_11ea_a104_38f9d3537bcbrow8_col2\" class=\"data row8 col2\" >0.251894</td>\n",
       "                        <td id=\"T_69e8db8c_ba35_11ea_a104_38f9d3537bcbrow8_col3\" class=\"data row8 col3\" >3.500000</td>\n",
       "                        <td id=\"T_69e8db8c_ba35_11ea_a104_38f9d3537bcbrow8_col4\" class=\"data row8 col4\" >4.200000</td>\n",
       "                        <td id=\"T_69e8db8c_ba35_11ea_a104_38f9d3537bcbrow8_col5\" class=\"data row8 col5\" >4.400000</td>\n",
       "                        <td id=\"T_69e8db8c_ba35_11ea_a104_38f9d3537bcbrow8_col6\" class=\"data row8 col6\" >4.600000</td>\n",
       "                        <td id=\"T_69e8db8c_ba35_11ea_a104_38f9d3537bcbrow8_col7\" class=\"data row8 col7\" >4.900000</td>\n",
       "            </tr>\n",
       "            <tr>\n",
       "                        <th id=\"T_69e8db8c_ba35_11ea_a104_38f9d3537bcblevel0_row9\" class=\"row_heading level0 row9\" >ENTERTAINMENT</th>\n",
       "                        <td id=\"T_69e8db8c_ba35_11ea_a104_38f9d3537bcbrow9_col0\" class=\"data row9 col0\" >149.000000</td>\n",
       "                        <td id=\"T_69e8db8c_ba35_11ea_a104_38f9d3537bcbrow9_col1\" class=\"data row9 col1\" >4.126174</td>\n",
       "                        <td id=\"T_69e8db8c_ba35_11ea_a104_38f9d3537bcbrow9_col2\" class=\"data row9 col2\" >0.302556</td>\n",
       "                        <td id=\"T_69e8db8c_ba35_11ea_a104_38f9d3537bcbrow9_col3\" class=\"data row9 col3\" >3.000000</td>\n",
       "                        <td id=\"T_69e8db8c_ba35_11ea_a104_38f9d3537bcbrow9_col4\" class=\"data row9 col4\" >3.900000</td>\n",
       "                        <td id=\"T_69e8db8c_ba35_11ea_a104_38f9d3537bcbrow9_col5\" class=\"data row9 col5\" >4.200000</td>\n",
       "                        <td id=\"T_69e8db8c_ba35_11ea_a104_38f9d3537bcbrow9_col6\" class=\"data row9 col6\" >4.300000</td>\n",
       "                        <td id=\"T_69e8db8c_ba35_11ea_a104_38f9d3537bcbrow9_col7\" class=\"data row9 col7\" >4.700000</td>\n",
       "            </tr>\n",
       "            <tr>\n",
       "                        <th id=\"T_69e8db8c_ba35_11ea_a104_38f9d3537bcblevel0_row10\" class=\"row_heading level0 row10\" >EVENTS</th>\n",
       "                        <td id=\"T_69e8db8c_ba35_11ea_a104_38f9d3537bcbrow10_col0\" class=\"data row10 col0\" >45.000000</td>\n",
       "                        <td id=\"T_69e8db8c_ba35_11ea_a104_38f9d3537bcbrow10_col1\" class=\"data row10 col1\" >4.435556</td>\n",
       "                        <td id=\"T_69e8db8c_ba35_11ea_a104_38f9d3537bcbrow10_col2\" class=\"data row10 col2\" >0.419499</td>\n",
       "                        <td id=\"T_69e8db8c_ba35_11ea_a104_38f9d3537bcbrow10_col3\" class=\"data row10 col3\" >2.900000</td>\n",
       "                        <td id=\"T_69e8db8c_ba35_11ea_a104_38f9d3537bcbrow10_col4\" class=\"data row10 col4\" >4.200000</td>\n",
       "                        <td id=\"T_69e8db8c_ba35_11ea_a104_38f9d3537bcbrow10_col5\" class=\"data row10 col5\" >4.500000</td>\n",
       "                        <td id=\"T_69e8db8c_ba35_11ea_a104_38f9d3537bcbrow10_col6\" class=\"data row10 col6\" >4.700000</td>\n",
       "                        <td id=\"T_69e8db8c_ba35_11ea_a104_38f9d3537bcbrow10_col7\" class=\"data row10 col7\" >5.000000</td>\n",
       "            </tr>\n",
       "            <tr>\n",
       "                        <th id=\"T_69e8db8c_ba35_11ea_a104_38f9d3537bcblevel0_row11\" class=\"row_heading level0 row11\" >FAMILY</th>\n",
       "                        <td id=\"T_69e8db8c_ba35_11ea_a104_38f9d3537bcbrow11_col0\" class=\"data row11 col0\" >1746.000000</td>\n",
       "                        <td id=\"T_69e8db8c_ba35_11ea_a104_38f9d3537bcbrow11_col1\" class=\"data row11 col1\" >4.192383</td>\n",
       "                        <td id=\"T_69e8db8c_ba35_11ea_a104_38f9d3537bcbrow11_col2\" class=\"data row11 col2\" >0.508151</td>\n",
       "                        <td id=\"T_69e8db8c_ba35_11ea_a104_38f9d3537bcbrow11_col3\" class=\"data row11 col3\" >1.000000</td>\n",
       "                        <td id=\"T_69e8db8c_ba35_11ea_a104_38f9d3537bcbrow11_col4\" class=\"data row11 col4\" >4.000000</td>\n",
       "                        <td id=\"T_69e8db8c_ba35_11ea_a104_38f9d3537bcbrow11_col5\" class=\"data row11 col5\" >4.300000</td>\n",
       "                        <td id=\"T_69e8db8c_ba35_11ea_a104_38f9d3537bcbrow11_col6\" class=\"data row11 col6\" >4.500000</td>\n",
       "                        <td id=\"T_69e8db8c_ba35_11ea_a104_38f9d3537bcbrow11_col7\" class=\"data row11 col7\" >5.000000</td>\n",
       "            </tr>\n",
       "            <tr>\n",
       "                        <th id=\"T_69e8db8c_ba35_11ea_a104_38f9d3537bcblevel0_row12\" class=\"row_heading level0 row12\" >FINANCE</th>\n",
       "                        <td id=\"T_69e8db8c_ba35_11ea_a104_38f9d3537bcbrow12_col0\" class=\"data row12 col0\" >323.000000</td>\n",
       "                        <td id=\"T_69e8db8c_ba35_11ea_a104_38f9d3537bcbrow12_col1\" class=\"data row12 col1\" >4.131889</td>\n",
       "                        <td id=\"T_69e8db8c_ba35_11ea_a104_38f9d3537bcbrow12_col2\" class=\"data row12 col2\" >0.642108</td>\n",
       "                        <td id=\"T_69e8db8c_ba35_11ea_a104_38f9d3537bcbrow12_col3\" class=\"data row12 col3\" >1.000000</td>\n",
       "                        <td id=\"T_69e8db8c_ba35_11ea_a104_38f9d3537bcbrow12_col4\" class=\"data row12 col4\" >4.000000</td>\n",
       "                        <td id=\"T_69e8db8c_ba35_11ea_a104_38f9d3537bcbrow12_col5\" class=\"data row12 col5\" >4.300000</td>\n",
       "                        <td id=\"T_69e8db8c_ba35_11ea_a104_38f9d3537bcbrow12_col6\" class=\"data row12 col6\" >4.500000</td>\n",
       "                        <td id=\"T_69e8db8c_ba35_11ea_a104_38f9d3537bcbrow12_col7\" class=\"data row12 col7\" >5.000000</td>\n",
       "            </tr>\n",
       "            <tr>\n",
       "                        <th id=\"T_69e8db8c_ba35_11ea_a104_38f9d3537bcblevel0_row13\" class=\"row_heading level0 row13\" >FOOD_AND_DRINK</th>\n",
       "                        <td id=\"T_69e8db8c_ba35_11ea_a104_38f9d3537bcbrow13_col0\" class=\"data row13 col0\" >109.000000</td>\n",
       "                        <td id=\"T_69e8db8c_ba35_11ea_a104_38f9d3537bcbrow13_col1\" class=\"data row13 col1\" >4.166972</td>\n",
       "                        <td id=\"T_69e8db8c_ba35_11ea_a104_38f9d3537bcbrow13_col2\" class=\"data row13 col2\" >0.548070</td>\n",
       "                        <td id=\"T_69e8db8c_ba35_11ea_a104_38f9d3537bcbrow13_col3\" class=\"data row13 col3\" >1.700000</td>\n",
       "                        <td id=\"T_69e8db8c_ba35_11ea_a104_38f9d3537bcbrow13_col4\" class=\"data row13 col4\" >4.000000</td>\n",
       "                        <td id=\"T_69e8db8c_ba35_11ea_a104_38f9d3537bcbrow13_col5\" class=\"data row13 col5\" >4.300000</td>\n",
       "                        <td id=\"T_69e8db8c_ba35_11ea_a104_38f9d3537bcbrow13_col6\" class=\"data row13 col6\" >4.500000</td>\n",
       "                        <td id=\"T_69e8db8c_ba35_11ea_a104_38f9d3537bcbrow13_col7\" class=\"data row13 col7\" >5.000000</td>\n",
       "            </tr>\n",
       "            <tr>\n",
       "                        <th id=\"T_69e8db8c_ba35_11ea_a104_38f9d3537bcblevel0_row14\" class=\"row_heading level0 row14\" >GAME</th>\n",
       "                        <td id=\"T_69e8db8c_ba35_11ea_a104_38f9d3537bcbrow14_col0\" class=\"data row14 col0\" >1097.000000</td>\n",
       "                        <td id=\"T_69e8db8c_ba35_11ea_a104_38f9d3537bcbrow14_col1\" class=\"data row14 col1\" >4.286326</td>\n",
       "                        <td id=\"T_69e8db8c_ba35_11ea_a104_38f9d3537bcbrow14_col2\" class=\"data row14 col2\" >0.365375</td>\n",
       "                        <td id=\"T_69e8db8c_ba35_11ea_a104_38f9d3537bcbrow14_col3\" class=\"data row14 col3\" >1.000000</td>\n",
       "                        <td id=\"T_69e8db8c_ba35_11ea_a104_38f9d3537bcbrow14_col4\" class=\"data row14 col4\" >4.100000</td>\n",
       "                        <td id=\"T_69e8db8c_ba35_11ea_a104_38f9d3537bcbrow14_col5\" class=\"data row14 col5\" >4.400000</td>\n",
       "                        <td id=\"T_69e8db8c_ba35_11ea_a104_38f9d3537bcbrow14_col6\" class=\"data row14 col6\" >4.500000</td>\n",
       "                        <td id=\"T_69e8db8c_ba35_11ea_a104_38f9d3537bcbrow14_col7\" class=\"data row14 col7\" >5.000000</td>\n",
       "            </tr>\n",
       "            <tr>\n",
       "                        <th id=\"T_69e8db8c_ba35_11ea_a104_38f9d3537bcblevel0_row15\" class=\"row_heading level0 row15\" >HEALTH_AND_FITNESS</th>\n",
       "                        <td id=\"T_69e8db8c_ba35_11ea_a104_38f9d3537bcbrow15_col0\" class=\"data row15 col0\" >297.000000</td>\n",
       "                        <td id=\"T_69e8db8c_ba35_11ea_a104_38f9d3537bcbrow15_col1\" class=\"data row15 col1\" >4.277104</td>\n",
       "                        <td id=\"T_69e8db8c_ba35_11ea_a104_38f9d3537bcbrow15_col2\" class=\"data row15 col2\" >0.617822</td>\n",
       "                        <td id=\"T_69e8db8c_ba35_11ea_a104_38f9d3537bcbrow15_col3\" class=\"data row15 col3\" >1.400000</td>\n",
       "                        <td id=\"T_69e8db8c_ba35_11ea_a104_38f9d3537bcbrow15_col4\" class=\"data row15 col4\" >4.100000</td>\n",
       "                        <td id=\"T_69e8db8c_ba35_11ea_a104_38f9d3537bcbrow15_col5\" class=\"data row15 col5\" >4.500000</td>\n",
       "                        <td id=\"T_69e8db8c_ba35_11ea_a104_38f9d3537bcbrow15_col6\" class=\"data row15 col6\" >4.600000</td>\n",
       "                        <td id=\"T_69e8db8c_ba35_11ea_a104_38f9d3537bcbrow15_col7\" class=\"data row15 col7\" >5.000000</td>\n",
       "            </tr>\n",
       "            <tr>\n",
       "                        <th id=\"T_69e8db8c_ba35_11ea_a104_38f9d3537bcblevel0_row16\" class=\"row_heading level0 row16\" >HOUSE_AND_HOME</th>\n",
       "                        <td id=\"T_69e8db8c_ba35_11ea_a104_38f9d3537bcbrow16_col0\" class=\"data row16 col0\" >76.000000</td>\n",
       "                        <td id=\"T_69e8db8c_ba35_11ea_a104_38f9d3537bcbrow16_col1\" class=\"data row16 col1\" >4.197368</td>\n",
       "                        <td id=\"T_69e8db8c_ba35_11ea_a104_38f9d3537bcbrow16_col2\" class=\"data row16 col2\" >0.368411</td>\n",
       "                        <td id=\"T_69e8db8c_ba35_11ea_a104_38f9d3537bcbrow16_col3\" class=\"data row16 col3\" >2.800000</td>\n",
       "                        <td id=\"T_69e8db8c_ba35_11ea_a104_38f9d3537bcbrow16_col4\" class=\"data row16 col4\" >4.000000</td>\n",
       "                        <td id=\"T_69e8db8c_ba35_11ea_a104_38f9d3537bcbrow16_col5\" class=\"data row16 col5\" >4.300000</td>\n",
       "                        <td id=\"T_69e8db8c_ba35_11ea_a104_38f9d3537bcbrow16_col6\" class=\"data row16 col6\" >4.500000</td>\n",
       "                        <td id=\"T_69e8db8c_ba35_11ea_a104_38f9d3537bcbrow16_col7\" class=\"data row16 col7\" >4.800000</td>\n",
       "            </tr>\n",
       "            <tr>\n",
       "                        <th id=\"T_69e8db8c_ba35_11ea_a104_38f9d3537bcblevel0_row17\" class=\"row_heading level0 row17\" >LIBRARIES_AND_DEMO</th>\n",
       "                        <td id=\"T_69e8db8c_ba35_11ea_a104_38f9d3537bcbrow17_col0\" class=\"data row17 col0\" >64.000000</td>\n",
       "                        <td id=\"T_69e8db8c_ba35_11ea_a104_38f9d3537bcbrow17_col1\" class=\"data row17 col1\" >4.179688</td>\n",
       "                        <td id=\"T_69e8db8c_ba35_11ea_a104_38f9d3537bcbrow17_col2\" class=\"data row17 col2\" >0.381384</td>\n",
       "                        <td id=\"T_69e8db8c_ba35_11ea_a104_38f9d3537bcbrow17_col3\" class=\"data row17 col3\" >3.100000</td>\n",
       "                        <td id=\"T_69e8db8c_ba35_11ea_a104_38f9d3537bcbrow17_col4\" class=\"data row17 col4\" >3.975000</td>\n",
       "                        <td id=\"T_69e8db8c_ba35_11ea_a104_38f9d3537bcbrow17_col5\" class=\"data row17 col5\" >4.200000</td>\n",
       "                        <td id=\"T_69e8db8c_ba35_11ea_a104_38f9d3537bcbrow17_col6\" class=\"data row17 col6\" >4.400000</td>\n",
       "                        <td id=\"T_69e8db8c_ba35_11ea_a104_38f9d3537bcbrow17_col7\" class=\"data row17 col7\" >5.000000</td>\n",
       "            </tr>\n",
       "            <tr>\n",
       "                        <th id=\"T_69e8db8c_ba35_11ea_a104_38f9d3537bcblevel0_row18\" class=\"row_heading level0 row18\" >LIFESTYLE</th>\n",
       "                        <td id=\"T_69e8db8c_ba35_11ea_a104_38f9d3537bcbrow18_col0\" class=\"data row18 col0\" >314.000000</td>\n",
       "                        <td id=\"T_69e8db8c_ba35_11ea_a104_38f9d3537bcbrow18_col1\" class=\"data row18 col1\" >4.094904</td>\n",
       "                        <td id=\"T_69e8db8c_ba35_11ea_a104_38f9d3537bcbrow18_col2\" class=\"data row18 col2\" >0.693907</td>\n",
       "                        <td id=\"T_69e8db8c_ba35_11ea_a104_38f9d3537bcbrow18_col3\" class=\"data row18 col3\" >1.500000</td>\n",
       "                        <td id=\"T_69e8db8c_ba35_11ea_a104_38f9d3537bcbrow18_col4\" class=\"data row18 col4\" >3.800000</td>\n",
       "                        <td id=\"T_69e8db8c_ba35_11ea_a104_38f9d3537bcbrow18_col5\" class=\"data row18 col5\" >4.200000</td>\n",
       "                        <td id=\"T_69e8db8c_ba35_11ea_a104_38f9d3537bcbrow18_col6\" class=\"data row18 col6\" >4.600000</td>\n",
       "                        <td id=\"T_69e8db8c_ba35_11ea_a104_38f9d3537bcbrow18_col7\" class=\"data row18 col7\" >5.000000</td>\n",
       "            </tr>\n",
       "            <tr>\n",
       "                        <th id=\"T_69e8db8c_ba35_11ea_a104_38f9d3537bcblevel0_row19\" class=\"row_heading level0 row19\" >MAPS_AND_NAVIGATION</th>\n",
       "                        <td id=\"T_69e8db8c_ba35_11ea_a104_38f9d3537bcbrow19_col0\" class=\"data row19 col0\" >124.000000</td>\n",
       "                        <td id=\"T_69e8db8c_ba35_11ea_a104_38f9d3537bcbrow19_col1\" class=\"data row19 col1\" >4.051613</td>\n",
       "                        <td id=\"T_69e8db8c_ba35_11ea_a104_38f9d3537bcbrow19_col2\" class=\"data row19 col2\" >0.519926</td>\n",
       "                        <td id=\"T_69e8db8c_ba35_11ea_a104_38f9d3537bcbrow19_col3\" class=\"data row19 col3\" >1.900000</td>\n",
       "                        <td id=\"T_69e8db8c_ba35_11ea_a104_38f9d3537bcbrow19_col4\" class=\"data row19 col4\" >3.775000</td>\n",
       "                        <td id=\"T_69e8db8c_ba35_11ea_a104_38f9d3537bcbrow19_col5\" class=\"data row19 col5\" >4.200000</td>\n",
       "                        <td id=\"T_69e8db8c_ba35_11ea_a104_38f9d3537bcbrow19_col6\" class=\"data row19 col6\" >4.400000</td>\n",
       "                        <td id=\"T_69e8db8c_ba35_11ea_a104_38f9d3537bcbrow19_col7\" class=\"data row19 col7\" >4.900000</td>\n",
       "            </tr>\n",
       "            <tr>\n",
       "                        <th id=\"T_69e8db8c_ba35_11ea_a104_38f9d3537bcblevel0_row20\" class=\"row_heading level0 row20\" >MEDICAL</th>\n",
       "                        <td id=\"T_69e8db8c_ba35_11ea_a104_38f9d3537bcbrow20_col0\" class=\"data row20 col0\" >350.000000</td>\n",
       "                        <td id=\"T_69e8db8c_ba35_11ea_a104_38f9d3537bcbrow20_col1\" class=\"data row20 col1\" >4.189143</td>\n",
       "                        <td id=\"T_69e8db8c_ba35_11ea_a104_38f9d3537bcbrow20_col2\" class=\"data row20 col2\" >0.663581</td>\n",
       "                        <td id=\"T_69e8db8c_ba35_11ea_a104_38f9d3537bcbrow20_col3\" class=\"data row20 col3\" >1.000000</td>\n",
       "                        <td id=\"T_69e8db8c_ba35_11ea_a104_38f9d3537bcbrow20_col4\" class=\"data row20 col4\" >4.000000</td>\n",
       "                        <td id=\"T_69e8db8c_ba35_11ea_a104_38f9d3537bcbrow20_col5\" class=\"data row20 col5\" >4.300000</td>\n",
       "                        <td id=\"T_69e8db8c_ba35_11ea_a104_38f9d3537bcbrow20_col6\" class=\"data row20 col6\" >4.600000</td>\n",
       "                        <td id=\"T_69e8db8c_ba35_11ea_a104_38f9d3537bcbrow20_col7\" class=\"data row20 col7\" >5.000000</td>\n",
       "            </tr>\n",
       "            <tr>\n",
       "                        <th id=\"T_69e8db8c_ba35_11ea_a104_38f9d3537bcblevel0_row21\" class=\"row_heading level0 row21\" >NEWS_AND_MAGAZINES</th>\n",
       "                        <td id=\"T_69e8db8c_ba35_11ea_a104_38f9d3537bcbrow21_col0\" class=\"data row21 col0\" >233.000000</td>\n",
       "                        <td id=\"T_69e8db8c_ba35_11ea_a104_38f9d3537bcbrow21_col1\" class=\"data row21 col1\" >4.132189</td>\n",
       "                        <td id=\"T_69e8db8c_ba35_11ea_a104_38f9d3537bcbrow21_col2\" class=\"data row21 col2\" >0.536707</td>\n",
       "                        <td id=\"T_69e8db8c_ba35_11ea_a104_38f9d3537bcbrow21_col3\" class=\"data row21 col3\" >1.700000</td>\n",
       "                        <td id=\"T_69e8db8c_ba35_11ea_a104_38f9d3537bcbrow21_col4\" class=\"data row21 col4\" >3.900000</td>\n",
       "                        <td id=\"T_69e8db8c_ba35_11ea_a104_38f9d3537bcbrow21_col5\" class=\"data row21 col5\" >4.200000</td>\n",
       "                        <td id=\"T_69e8db8c_ba35_11ea_a104_38f9d3537bcbrow21_col6\" class=\"data row21 col6\" >4.500000</td>\n",
       "                        <td id=\"T_69e8db8c_ba35_11ea_a104_38f9d3537bcbrow21_col7\" class=\"data row21 col7\" >5.000000</td>\n",
       "            </tr>\n",
       "            <tr>\n",
       "                        <th id=\"T_69e8db8c_ba35_11ea_a104_38f9d3537bcblevel0_row22\" class=\"row_heading level0 row22\" >PARENTING</th>\n",
       "                        <td id=\"T_69e8db8c_ba35_11ea_a104_38f9d3537bcbrow22_col0\" class=\"data row22 col0\" >50.000000</td>\n",
       "                        <td id=\"T_69e8db8c_ba35_11ea_a104_38f9d3537bcbrow22_col1\" class=\"data row22 col1\" >4.300000</td>\n",
       "                        <td id=\"T_69e8db8c_ba35_11ea_a104_38f9d3537bcbrow22_col2\" class=\"data row22 col2\" >0.517845</td>\n",
       "                        <td id=\"T_69e8db8c_ba35_11ea_a104_38f9d3537bcbrow22_col3\" class=\"data row22 col3\" >2.000000</td>\n",
       "                        <td id=\"T_69e8db8c_ba35_11ea_a104_38f9d3537bcbrow22_col4\" class=\"data row22 col4\" >4.100000</td>\n",
       "                        <td id=\"T_69e8db8c_ba35_11ea_a104_38f9d3537bcbrow22_col5\" class=\"data row22 col5\" >4.400000</td>\n",
       "                        <td id=\"T_69e8db8c_ba35_11ea_a104_38f9d3537bcbrow22_col6\" class=\"data row22 col6\" >4.675000</td>\n",
       "                        <td id=\"T_69e8db8c_ba35_11ea_a104_38f9d3537bcbrow22_col7\" class=\"data row22 col7\" >5.000000</td>\n",
       "            </tr>\n",
       "            <tr>\n",
       "                        <th id=\"T_69e8db8c_ba35_11ea_a104_38f9d3537bcblevel0_row23\" class=\"row_heading level0 row23\" >PERSONALIZATION</th>\n",
       "                        <td id=\"T_69e8db8c_ba35_11ea_a104_38f9d3537bcbrow23_col0\" class=\"data row23 col0\" >312.000000</td>\n",
       "                        <td id=\"T_69e8db8c_ba35_11ea_a104_38f9d3537bcbrow23_col1\" class=\"data row23 col1\" >4.335256</td>\n",
       "                        <td id=\"T_69e8db8c_ba35_11ea_a104_38f9d3537bcbrow23_col2\" class=\"data row23 col2\" >0.353722</td>\n",
       "                        <td id=\"T_69e8db8c_ba35_11ea_a104_38f9d3537bcbrow23_col3\" class=\"data row23 col3\" >2.500000</td>\n",
       "                        <td id=\"T_69e8db8c_ba35_11ea_a104_38f9d3537bcbrow23_col4\" class=\"data row23 col4\" >4.200000</td>\n",
       "                        <td id=\"T_69e8db8c_ba35_11ea_a104_38f9d3537bcbrow23_col5\" class=\"data row23 col5\" >4.400000</td>\n",
       "                        <td id=\"T_69e8db8c_ba35_11ea_a104_38f9d3537bcbrow23_col6\" class=\"data row23 col6\" >4.600000</td>\n",
       "                        <td id=\"T_69e8db8c_ba35_11ea_a104_38f9d3537bcbrow23_col7\" class=\"data row23 col7\" >5.000000</td>\n",
       "            </tr>\n",
       "            <tr>\n",
       "                        <th id=\"T_69e8db8c_ba35_11ea_a104_38f9d3537bcblevel0_row24\" class=\"row_heading level0 row24\" >PHOTOGRAPHY</th>\n",
       "                        <td id=\"T_69e8db8c_ba35_11ea_a104_38f9d3537bcbrow24_col0\" class=\"data row24 col0\" >317.000000</td>\n",
       "                        <td id=\"T_69e8db8c_ba35_11ea_a104_38f9d3537bcbrow24_col1\" class=\"data row24 col1\" >4.192114</td>\n",
       "                        <td id=\"T_69e8db8c_ba35_11ea_a104_38f9d3537bcbrow24_col2\" class=\"data row24 col2\" >0.462896</td>\n",
       "                        <td id=\"T_69e8db8c_ba35_11ea_a104_38f9d3537bcbrow24_col3\" class=\"data row24 col3\" >2.000000</td>\n",
       "                        <td id=\"T_69e8db8c_ba35_11ea_a104_38f9d3537bcbrow24_col4\" class=\"data row24 col4\" >4.000000</td>\n",
       "                        <td id=\"T_69e8db8c_ba35_11ea_a104_38f9d3537bcbrow24_col5\" class=\"data row24 col5\" >4.300000</td>\n",
       "                        <td id=\"T_69e8db8c_ba35_11ea_a104_38f9d3537bcbrow24_col6\" class=\"data row24 col6\" >4.500000</td>\n",
       "                        <td id=\"T_69e8db8c_ba35_11ea_a104_38f9d3537bcbrow24_col7\" class=\"data row24 col7\" >5.000000</td>\n",
       "            </tr>\n",
       "            <tr>\n",
       "                        <th id=\"T_69e8db8c_ba35_11ea_a104_38f9d3537bcblevel0_row25\" class=\"row_heading level0 row25\" >PRODUCTIVITY</th>\n",
       "                        <td id=\"T_69e8db8c_ba35_11ea_a104_38f9d3537bcbrow25_col0\" class=\"data row25 col0\" >351.000000</td>\n",
       "                        <td id=\"T_69e8db8c_ba35_11ea_a104_38f9d3537bcbrow25_col1\" class=\"data row25 col1\" >4.211396</td>\n",
       "                        <td id=\"T_69e8db8c_ba35_11ea_a104_38f9d3537bcbrow25_col2\" class=\"data row25 col2\" >0.504931</td>\n",
       "                        <td id=\"T_69e8db8c_ba35_11ea_a104_38f9d3537bcbrow25_col3\" class=\"data row25 col3\" >1.000000</td>\n",
       "                        <td id=\"T_69e8db8c_ba35_11ea_a104_38f9d3537bcbrow25_col4\" class=\"data row25 col4\" >4.100000</td>\n",
       "                        <td id=\"T_69e8db8c_ba35_11ea_a104_38f9d3537bcbrow25_col5\" class=\"data row25 col5\" >4.300000</td>\n",
       "                        <td id=\"T_69e8db8c_ba35_11ea_a104_38f9d3537bcbrow25_col6\" class=\"data row25 col6\" >4.500000</td>\n",
       "                        <td id=\"T_69e8db8c_ba35_11ea_a104_38f9d3537bcbrow25_col7\" class=\"data row25 col7\" >5.000000</td>\n",
       "            </tr>\n",
       "            <tr>\n",
       "                        <th id=\"T_69e8db8c_ba35_11ea_a104_38f9d3537bcblevel0_row26\" class=\"row_heading level0 row26\" >SHOPPING</th>\n",
       "                        <td id=\"T_69e8db8c_ba35_11ea_a104_38f9d3537bcbrow26_col0\" class=\"data row26 col0\" >238.000000</td>\n",
       "                        <td id=\"T_69e8db8c_ba35_11ea_a104_38f9d3537bcbrow26_col1\" class=\"data row26 col1\" >4.259664</td>\n",
       "                        <td id=\"T_69e8db8c_ba35_11ea_a104_38f9d3537bcbrow26_col2\" class=\"data row26 col2\" >0.404577</td>\n",
       "                        <td id=\"T_69e8db8c_ba35_11ea_a104_38f9d3537bcbrow26_col3\" class=\"data row26 col3\" >1.600000</td>\n",
       "                        <td id=\"T_69e8db8c_ba35_11ea_a104_38f9d3537bcbrow26_col4\" class=\"data row26 col4\" >4.100000</td>\n",
       "                        <td id=\"T_69e8db8c_ba35_11ea_a104_38f9d3537bcbrow26_col5\" class=\"data row26 col5\" >4.300000</td>\n",
       "                        <td id=\"T_69e8db8c_ba35_11ea_a104_38f9d3537bcbrow26_col6\" class=\"data row26 col6\" >4.500000</td>\n",
       "                        <td id=\"T_69e8db8c_ba35_11ea_a104_38f9d3537bcbrow26_col7\" class=\"data row26 col7\" >5.000000</td>\n",
       "            </tr>\n",
       "            <tr>\n",
       "                        <th id=\"T_69e8db8c_ba35_11ea_a104_38f9d3537bcblevel0_row27\" class=\"row_heading level0 row27\" >SOCIAL</th>\n",
       "                        <td id=\"T_69e8db8c_ba35_11ea_a104_38f9d3537bcbrow27_col0\" class=\"data row27 col0\" >259.000000</td>\n",
       "                        <td id=\"T_69e8db8c_ba35_11ea_a104_38f9d3537bcbrow27_col1\" class=\"data row27 col1\" >4.255598</td>\n",
       "                        <td id=\"T_69e8db8c_ba35_11ea_a104_38f9d3537bcbrow27_col2\" class=\"data row27 col2\" >0.413809</td>\n",
       "                        <td id=\"T_69e8db8c_ba35_11ea_a104_38f9d3537bcbrow27_col3\" class=\"data row27 col3\" >1.900000</td>\n",
       "                        <td id=\"T_69e8db8c_ba35_11ea_a104_38f9d3537bcbrow27_col4\" class=\"data row27 col4\" >4.100000</td>\n",
       "                        <td id=\"T_69e8db8c_ba35_11ea_a104_38f9d3537bcbrow27_col5\" class=\"data row27 col5\" >4.300000</td>\n",
       "                        <td id=\"T_69e8db8c_ba35_11ea_a104_38f9d3537bcbrow27_col6\" class=\"data row27 col6\" >4.500000</td>\n",
       "                        <td id=\"T_69e8db8c_ba35_11ea_a104_38f9d3537bcbrow27_col7\" class=\"data row27 col7\" >5.000000</td>\n",
       "            </tr>\n",
       "            <tr>\n",
       "                        <th id=\"T_69e8db8c_ba35_11ea_a104_38f9d3537bcblevel0_row28\" class=\"row_heading level0 row28\" >SPORTS</th>\n",
       "                        <td id=\"T_69e8db8c_ba35_11ea_a104_38f9d3537bcbrow28_col0\" class=\"data row28 col0\" >319.000000</td>\n",
       "                        <td id=\"T_69e8db8c_ba35_11ea_a104_38f9d3537bcbrow28_col1\" class=\"data row28 col1\" >4.223511</td>\n",
       "                        <td id=\"T_69e8db8c_ba35_11ea_a104_38f9d3537bcbrow28_col2\" class=\"data row28 col2\" >0.427857</td>\n",
       "                        <td id=\"T_69e8db8c_ba35_11ea_a104_38f9d3537bcbrow28_col3\" class=\"data row28 col3\" >1.500000</td>\n",
       "                        <td id=\"T_69e8db8c_ba35_11ea_a104_38f9d3537bcbrow28_col4\" class=\"data row28 col4\" >4.100000</td>\n",
       "                        <td id=\"T_69e8db8c_ba35_11ea_a104_38f9d3537bcbrow28_col5\" class=\"data row28 col5\" >4.300000</td>\n",
       "                        <td id=\"T_69e8db8c_ba35_11ea_a104_38f9d3537bcbrow28_col6\" class=\"data row28 col6\" >4.500000</td>\n",
       "                        <td id=\"T_69e8db8c_ba35_11ea_a104_38f9d3537bcbrow28_col7\" class=\"data row28 col7\" >5.000000</td>\n",
       "            </tr>\n",
       "            <tr>\n",
       "                        <th id=\"T_69e8db8c_ba35_11ea_a104_38f9d3537bcblevel0_row29\" class=\"row_heading level0 row29\" >TOOLS</th>\n",
       "                        <td id=\"T_69e8db8c_ba35_11ea_a104_38f9d3537bcbrow29_col0\" class=\"data row29 col0\" >733.000000</td>\n",
       "                        <td id=\"T_69e8db8c_ba35_11ea_a104_38f9d3537bcbrow29_col1\" class=\"data row29 col1\" >4.047203</td>\n",
       "                        <td id=\"T_69e8db8c_ba35_11ea_a104_38f9d3537bcbrow29_col2\" class=\"data row29 col2\" >0.616538</td>\n",
       "                        <td id=\"T_69e8db8c_ba35_11ea_a104_38f9d3537bcbrow29_col3\" class=\"data row29 col3\" >1.000000</td>\n",
       "                        <td id=\"T_69e8db8c_ba35_11ea_a104_38f9d3537bcbrow29_col4\" class=\"data row29 col4\" >3.800000</td>\n",
       "                        <td id=\"T_69e8db8c_ba35_11ea_a104_38f9d3537bcbrow29_col5\" class=\"data row29 col5\" >4.200000</td>\n",
       "                        <td id=\"T_69e8db8c_ba35_11ea_a104_38f9d3537bcbrow29_col6\" class=\"data row29 col6\" >4.400000</td>\n",
       "                        <td id=\"T_69e8db8c_ba35_11ea_a104_38f9d3537bcbrow29_col7\" class=\"data row29 col7\" >5.000000</td>\n",
       "            </tr>\n",
       "            <tr>\n",
       "                        <th id=\"T_69e8db8c_ba35_11ea_a104_38f9d3537bcblevel0_row30\" class=\"row_heading level0 row30\" >TRAVEL_AND_LOCAL</th>\n",
       "                        <td id=\"T_69e8db8c_ba35_11ea_a104_38f9d3537bcbrow30_col0\" class=\"data row30 col0\" >226.000000</td>\n",
       "                        <td id=\"T_69e8db8c_ba35_11ea_a104_38f9d3537bcbrow30_col1\" class=\"data row30 col1\" >4.109292</td>\n",
       "                        <td id=\"T_69e8db8c_ba35_11ea_a104_38f9d3537bcbrow30_col2\" class=\"data row30 col2\" >0.504691</td>\n",
       "                        <td id=\"T_69e8db8c_ba35_11ea_a104_38f9d3537bcbrow30_col3\" class=\"data row30 col3\" >2.200000</td>\n",
       "                        <td id=\"T_69e8db8c_ba35_11ea_a104_38f9d3537bcbrow30_col4\" class=\"data row30 col4\" >3.900000</td>\n",
       "                        <td id=\"T_69e8db8c_ba35_11ea_a104_38f9d3537bcbrow30_col5\" class=\"data row30 col5\" >4.300000</td>\n",
       "                        <td id=\"T_69e8db8c_ba35_11ea_a104_38f9d3537bcbrow30_col6\" class=\"data row30 col6\" >4.400000</td>\n",
       "                        <td id=\"T_69e8db8c_ba35_11ea_a104_38f9d3537bcbrow30_col7\" class=\"data row30 col7\" >5.000000</td>\n",
       "            </tr>\n",
       "            <tr>\n",
       "                        <th id=\"T_69e8db8c_ba35_11ea_a104_38f9d3537bcblevel0_row31\" class=\"row_heading level0 row31\" >VIDEO_PLAYERS</th>\n",
       "                        <td id=\"T_69e8db8c_ba35_11ea_a104_38f9d3537bcbrow31_col0\" class=\"data row31 col0\" >160.000000</td>\n",
       "                        <td id=\"T_69e8db8c_ba35_11ea_a104_38f9d3537bcbrow31_col1\" class=\"data row31 col1\" >4.063750</td>\n",
       "                        <td id=\"T_69e8db8c_ba35_11ea_a104_38f9d3537bcbrow31_col2\" class=\"data row31 col2\" >0.551098</td>\n",
       "                        <td id=\"T_69e8db8c_ba35_11ea_a104_38f9d3537bcbrow31_col3\" class=\"data row31 col3\" >1.800000</td>\n",
       "                        <td id=\"T_69e8db8c_ba35_11ea_a104_38f9d3537bcbrow31_col4\" class=\"data row31 col4\" >3.800000</td>\n",
       "                        <td id=\"T_69e8db8c_ba35_11ea_a104_38f9d3537bcbrow31_col5\" class=\"data row31 col5\" >4.200000</td>\n",
       "                        <td id=\"T_69e8db8c_ba35_11ea_a104_38f9d3537bcbrow31_col6\" class=\"data row31 col6\" >4.400000</td>\n",
       "                        <td id=\"T_69e8db8c_ba35_11ea_a104_38f9d3537bcbrow31_col7\" class=\"data row31 col7\" >4.900000</td>\n",
       "            </tr>\n",
       "            <tr>\n",
       "                        <th id=\"T_69e8db8c_ba35_11ea_a104_38f9d3537bcblevel0_row32\" class=\"row_heading level0 row32\" >WEATHER</th>\n",
       "                        <td id=\"T_69e8db8c_ba35_11ea_a104_38f9d3537bcbrow32_col0\" class=\"data row32 col0\" >75.000000</td>\n",
       "                        <td id=\"T_69e8db8c_ba35_11ea_a104_38f9d3537bcbrow32_col1\" class=\"data row32 col1\" >4.244000</td>\n",
       "                        <td id=\"T_69e8db8c_ba35_11ea_a104_38f9d3537bcbrow32_col2\" class=\"data row32 col2\" >0.331353</td>\n",
       "                        <td id=\"T_69e8db8c_ba35_11ea_a104_38f9d3537bcbrow32_col3\" class=\"data row32 col3\" >3.300000</td>\n",
       "                        <td id=\"T_69e8db8c_ba35_11ea_a104_38f9d3537bcbrow32_col4\" class=\"data row32 col4\" >4.050000</td>\n",
       "                        <td id=\"T_69e8db8c_ba35_11ea_a104_38f9d3537bcbrow32_col5\" class=\"data row32 col5\" >4.300000</td>\n",
       "                        <td id=\"T_69e8db8c_ba35_11ea_a104_38f9d3537bcbrow32_col6\" class=\"data row32 col6\" >4.500000</td>\n",
       "                        <td id=\"T_69e8db8c_ba35_11ea_a104_38f9d3537bcbrow32_col7\" class=\"data row32 col7\" >4.800000</td>\n",
       "            </tr>\n",
       "    </tbody></table>"
      ],
      "text/plain": [
       "<pandas.io.formats.style.Styler at 0x7f8d4bbb80d0>"
      ]
     },
     "execution_count": 589,
     "metadata": {},
     "output_type": "execute_result"
    }
   ],
   "source": [
    "df['Rating'].groupby(df['Category']).describe().style\\\n",
    ".bar(color='#FFA07A', subset=['count'], align='zero')\\"
   ]
  },
  {
   "cell_type": "code",
   "execution_count": 715,
   "metadata": {},
   "outputs": [],
   "source": [
    "def get_cat_ratings_chart(column_cat):\n",
    "    \n",
    "    '''\n",
    "    This function provides a stacked percentage bar chart by app ratings given input category\n",
    "    \n",
    "    INPUT: column category of df\n",
    "    OUTPUT: plotly html embedded figure\n",
    "    \n",
    "    '''\n",
    "    \n",
    "    cats = list(df[df['Ratings Rounded'] == 5].groupby(df[column_cat]).count()['App'].reset_index()[column_cat])\n",
    "    \n",
    "    gdf = pd.DataFrame()\n",
    "    \n",
    "    gdf['Ratings Rounded'] = [1.0, 2.0, 3.0, 4.0, 5.0]\n",
    "    \n",
    "    dfs = []\n",
    "\n",
    "    dfs.append(gdf)\n",
    "\n",
    "    for i in cats:\n",
    "\n",
    "        count_df = df[df[column_cat] == i].groupby(df['Ratings Rounded']).count()['App'].reset_index()\n",
    "        count_df.columns = ['Ratings Rounded', 'App Count']\n",
    "\n",
    "        dfs.append(count_df)\n",
    "        \n",
    "    cat_df = functools.reduce(lambda left, right: pd.merge(left, right, on='Ratings Rounded', how='left'), dfs)\n",
    "    cat_df = cat_df.set_index('Ratings Rounded', drop=True)\n",
    "    cat_df.columns = cats\n",
    "    cat_df = cat_df.fillna(0)\n",
    "    \n",
    "    for label in cat_df.columns:\n",
    "        cat_df[label] = round((cat_df[label]/cat_df[label].sum())*100, 2)\n",
    "        \n",
    "    animals=list(cat_df.columns)\n",
    "\n",
    "    data = []\n",
    "\n",
    "    for row in range(0, len(list(cat_df.index))):    \n",
    "        data.append(go.Bar(name=row+1,\n",
    "                           x=animals,\n",
    "                           y=cat_df.iloc[row],\n",
    "                           text=cat_df.iloc[row],\n",
    "                           textposition='auto'))\n",
    "\n",
    "    fig = go.Figure(data=data)\n",
    "\n",
    "    # Change the bar mode\n",
    "    fig.update_layout(barmode='stack', title_text='Rating distribution by %s' % column_cat)\n",
    "    fig.show()"
   ]
  },
  {
   "cell_type": "code",
   "execution_count": 720,
   "metadata": {},
   "outputs": [
    {
     "data": {
      "application/vnd.plotly.v1+json": {
       "config": {
        "plotlyServerURL": "https://plot.ly"
       },
       "data": [
        {
         "name": "1",
         "text": [
          0,
          4.76,
          0,
          0.53,
          0,
          0.61,
          0.33,
          0.14
         ],
         "textposition": "auto",
         "type": "bar",
         "x": [
          2011,
          2012,
          2013,
          2014,
          2015,
          2016,
          2017,
          2018
         ],
         "y": [
          0,
          4.76,
          0,
          0.53,
          0,
          0.61,
          0.33,
          0.14
         ]
        },
        {
         "name": "2",
         "text": [
          0,
          0,
          1.08,
          2.11,
          0.77,
          1.84,
          2.61,
          1.09
         ],
         "textposition": "auto",
         "type": "bar",
         "x": [
          2011,
          2012,
          2013,
          2014,
          2015,
          2016,
          2017,
          2018
         ],
         "y": [
          0,
          0,
          1.08,
          2.11,
          0.77,
          1.84,
          2.61,
          1.09
         ]
        },
        {
         "name": "3",
         "text": [
          13.33,
          19.05,
          9.68,
          10.53,
          9.28,
          11.37,
          9.49,
          4.54
         ],
         "textposition": "auto",
         "type": "bar",
         "x": [
          2011,
          2012,
          2013,
          2014,
          2015,
          2016,
          2017,
          2018
         ],
         "y": [
          13.33,
          19.05,
          9.68,
          10.53,
          9.28,
          11.37,
          9.49,
          4.54
         ]
        },
        {
         "name": "4",
         "text": [
          80,
          71.43,
          80.65,
          73.16,
          77.58,
          72.04,
          68.14,
          71.94
         ],
         "textposition": "auto",
         "type": "bar",
         "x": [
          2011,
          2012,
          2013,
          2014,
          2015,
          2016,
          2017,
          2018
         ],
         "y": [
          80,
          71.43,
          80.65,
          73.16,
          77.58,
          72.04,
          68.14,
          71.94
         ]
        },
        {
         "name": "5",
         "text": [
          6.67,
          4.76,
          8.6,
          13.68,
          12.37,
          14.13,
          19.44,
          22.29
         ],
         "textposition": "auto",
         "type": "bar",
         "x": [
          2011,
          2012,
          2013,
          2014,
          2015,
          2016,
          2017,
          2018
         ],
         "y": [
          6.67,
          4.76,
          8.6,
          13.68,
          12.37,
          14.13,
          19.44,
          22.29
         ]
        }
       ],
       "layout": {
        "barmode": "stack",
        "template": {
         "data": {
          "bar": [
           {
            "error_x": {
             "color": "#2a3f5f"
            },
            "error_y": {
             "color": "#2a3f5f"
            },
            "marker": {
             "line": {
              "color": "#E5ECF6",
              "width": 0.5
             }
            },
            "type": "bar"
           }
          ],
          "barpolar": [
           {
            "marker": {
             "line": {
              "color": "#E5ECF6",
              "width": 0.5
             }
            },
            "type": "barpolar"
           }
          ],
          "carpet": [
           {
            "aaxis": {
             "endlinecolor": "#2a3f5f",
             "gridcolor": "white",
             "linecolor": "white",
             "minorgridcolor": "white",
             "startlinecolor": "#2a3f5f"
            },
            "baxis": {
             "endlinecolor": "#2a3f5f",
             "gridcolor": "white",
             "linecolor": "white",
             "minorgridcolor": "white",
             "startlinecolor": "#2a3f5f"
            },
            "type": "carpet"
           }
          ],
          "choropleth": [
           {
            "colorbar": {
             "outlinewidth": 0,
             "ticks": ""
            },
            "type": "choropleth"
           }
          ],
          "contour": [
           {
            "colorbar": {
             "outlinewidth": 0,
             "ticks": ""
            },
            "colorscale": [
             [
              0,
              "#0d0887"
             ],
             [
              0.1111111111111111,
              "#46039f"
             ],
             [
              0.2222222222222222,
              "#7201a8"
             ],
             [
              0.3333333333333333,
              "#9c179e"
             ],
             [
              0.4444444444444444,
              "#bd3786"
             ],
             [
              0.5555555555555556,
              "#d8576b"
             ],
             [
              0.6666666666666666,
              "#ed7953"
             ],
             [
              0.7777777777777778,
              "#fb9f3a"
             ],
             [
              0.8888888888888888,
              "#fdca26"
             ],
             [
              1,
              "#f0f921"
             ]
            ],
            "type": "contour"
           }
          ],
          "contourcarpet": [
           {
            "colorbar": {
             "outlinewidth": 0,
             "ticks": ""
            },
            "type": "contourcarpet"
           }
          ],
          "heatmap": [
           {
            "colorbar": {
             "outlinewidth": 0,
             "ticks": ""
            },
            "colorscale": [
             [
              0,
              "#0d0887"
             ],
             [
              0.1111111111111111,
              "#46039f"
             ],
             [
              0.2222222222222222,
              "#7201a8"
             ],
             [
              0.3333333333333333,
              "#9c179e"
             ],
             [
              0.4444444444444444,
              "#bd3786"
             ],
             [
              0.5555555555555556,
              "#d8576b"
             ],
             [
              0.6666666666666666,
              "#ed7953"
             ],
             [
              0.7777777777777778,
              "#fb9f3a"
             ],
             [
              0.8888888888888888,
              "#fdca26"
             ],
             [
              1,
              "#f0f921"
             ]
            ],
            "type": "heatmap"
           }
          ],
          "heatmapgl": [
           {
            "colorbar": {
             "outlinewidth": 0,
             "ticks": ""
            },
            "colorscale": [
             [
              0,
              "#0d0887"
             ],
             [
              0.1111111111111111,
              "#46039f"
             ],
             [
              0.2222222222222222,
              "#7201a8"
             ],
             [
              0.3333333333333333,
              "#9c179e"
             ],
             [
              0.4444444444444444,
              "#bd3786"
             ],
             [
              0.5555555555555556,
              "#d8576b"
             ],
             [
              0.6666666666666666,
              "#ed7953"
             ],
             [
              0.7777777777777778,
              "#fb9f3a"
             ],
             [
              0.8888888888888888,
              "#fdca26"
             ],
             [
              1,
              "#f0f921"
             ]
            ],
            "type": "heatmapgl"
           }
          ],
          "histogram": [
           {
            "marker": {
             "colorbar": {
              "outlinewidth": 0,
              "ticks": ""
             }
            },
            "type": "histogram"
           }
          ],
          "histogram2d": [
           {
            "colorbar": {
             "outlinewidth": 0,
             "ticks": ""
            },
            "colorscale": [
             [
              0,
              "#0d0887"
             ],
             [
              0.1111111111111111,
              "#46039f"
             ],
             [
              0.2222222222222222,
              "#7201a8"
             ],
             [
              0.3333333333333333,
              "#9c179e"
             ],
             [
              0.4444444444444444,
              "#bd3786"
             ],
             [
              0.5555555555555556,
              "#d8576b"
             ],
             [
              0.6666666666666666,
              "#ed7953"
             ],
             [
              0.7777777777777778,
              "#fb9f3a"
             ],
             [
              0.8888888888888888,
              "#fdca26"
             ],
             [
              1,
              "#f0f921"
             ]
            ],
            "type": "histogram2d"
           }
          ],
          "histogram2dcontour": [
           {
            "colorbar": {
             "outlinewidth": 0,
             "ticks": ""
            },
            "colorscale": [
             [
              0,
              "#0d0887"
             ],
             [
              0.1111111111111111,
              "#46039f"
             ],
             [
              0.2222222222222222,
              "#7201a8"
             ],
             [
              0.3333333333333333,
              "#9c179e"
             ],
             [
              0.4444444444444444,
              "#bd3786"
             ],
             [
              0.5555555555555556,
              "#d8576b"
             ],
             [
              0.6666666666666666,
              "#ed7953"
             ],
             [
              0.7777777777777778,
              "#fb9f3a"
             ],
             [
              0.8888888888888888,
              "#fdca26"
             ],
             [
              1,
              "#f0f921"
             ]
            ],
            "type": "histogram2dcontour"
           }
          ],
          "mesh3d": [
           {
            "colorbar": {
             "outlinewidth": 0,
             "ticks": ""
            },
            "type": "mesh3d"
           }
          ],
          "parcoords": [
           {
            "line": {
             "colorbar": {
              "outlinewidth": 0,
              "ticks": ""
             }
            },
            "type": "parcoords"
           }
          ],
          "pie": [
           {
            "automargin": true,
            "type": "pie"
           }
          ],
          "scatter": [
           {
            "marker": {
             "colorbar": {
              "outlinewidth": 0,
              "ticks": ""
             }
            },
            "type": "scatter"
           }
          ],
          "scatter3d": [
           {
            "line": {
             "colorbar": {
              "outlinewidth": 0,
              "ticks": ""
             }
            },
            "marker": {
             "colorbar": {
              "outlinewidth": 0,
              "ticks": ""
             }
            },
            "type": "scatter3d"
           }
          ],
          "scattercarpet": [
           {
            "marker": {
             "colorbar": {
              "outlinewidth": 0,
              "ticks": ""
             }
            },
            "type": "scattercarpet"
           }
          ],
          "scattergeo": [
           {
            "marker": {
             "colorbar": {
              "outlinewidth": 0,
              "ticks": ""
             }
            },
            "type": "scattergeo"
           }
          ],
          "scattergl": [
           {
            "marker": {
             "colorbar": {
              "outlinewidth": 0,
              "ticks": ""
             }
            },
            "type": "scattergl"
           }
          ],
          "scattermapbox": [
           {
            "marker": {
             "colorbar": {
              "outlinewidth": 0,
              "ticks": ""
             }
            },
            "type": "scattermapbox"
           }
          ],
          "scatterpolar": [
           {
            "marker": {
             "colorbar": {
              "outlinewidth": 0,
              "ticks": ""
             }
            },
            "type": "scatterpolar"
           }
          ],
          "scatterpolargl": [
           {
            "marker": {
             "colorbar": {
              "outlinewidth": 0,
              "ticks": ""
             }
            },
            "type": "scatterpolargl"
           }
          ],
          "scatterternary": [
           {
            "marker": {
             "colorbar": {
              "outlinewidth": 0,
              "ticks": ""
             }
            },
            "type": "scatterternary"
           }
          ],
          "surface": [
           {
            "colorbar": {
             "outlinewidth": 0,
             "ticks": ""
            },
            "colorscale": [
             [
              0,
              "#0d0887"
             ],
             [
              0.1111111111111111,
              "#46039f"
             ],
             [
              0.2222222222222222,
              "#7201a8"
             ],
             [
              0.3333333333333333,
              "#9c179e"
             ],
             [
              0.4444444444444444,
              "#bd3786"
             ],
             [
              0.5555555555555556,
              "#d8576b"
             ],
             [
              0.6666666666666666,
              "#ed7953"
             ],
             [
              0.7777777777777778,
              "#fb9f3a"
             ],
             [
              0.8888888888888888,
              "#fdca26"
             ],
             [
              1,
              "#f0f921"
             ]
            ],
            "type": "surface"
           }
          ],
          "table": [
           {
            "cells": {
             "fill": {
              "color": "#EBF0F8"
             },
             "line": {
              "color": "white"
             }
            },
            "header": {
             "fill": {
              "color": "#C8D4E3"
             },
             "line": {
              "color": "white"
             }
            },
            "type": "table"
           }
          ]
         },
         "layout": {
          "annotationdefaults": {
           "arrowcolor": "#2a3f5f",
           "arrowhead": 0,
           "arrowwidth": 1
          },
          "coloraxis": {
           "colorbar": {
            "outlinewidth": 0,
            "ticks": ""
           }
          },
          "colorscale": {
           "diverging": [
            [
             0,
             "#8e0152"
            ],
            [
             0.1,
             "#c51b7d"
            ],
            [
             0.2,
             "#de77ae"
            ],
            [
             0.3,
             "#f1b6da"
            ],
            [
             0.4,
             "#fde0ef"
            ],
            [
             0.5,
             "#f7f7f7"
            ],
            [
             0.6,
             "#e6f5d0"
            ],
            [
             0.7,
             "#b8e186"
            ],
            [
             0.8,
             "#7fbc41"
            ],
            [
             0.9,
             "#4d9221"
            ],
            [
             1,
             "#276419"
            ]
           ],
           "sequential": [
            [
             0,
             "#0d0887"
            ],
            [
             0.1111111111111111,
             "#46039f"
            ],
            [
             0.2222222222222222,
             "#7201a8"
            ],
            [
             0.3333333333333333,
             "#9c179e"
            ],
            [
             0.4444444444444444,
             "#bd3786"
            ],
            [
             0.5555555555555556,
             "#d8576b"
            ],
            [
             0.6666666666666666,
             "#ed7953"
            ],
            [
             0.7777777777777778,
             "#fb9f3a"
            ],
            [
             0.8888888888888888,
             "#fdca26"
            ],
            [
             1,
             "#f0f921"
            ]
           ],
           "sequentialminus": [
            [
             0,
             "#0d0887"
            ],
            [
             0.1111111111111111,
             "#46039f"
            ],
            [
             0.2222222222222222,
             "#7201a8"
            ],
            [
             0.3333333333333333,
             "#9c179e"
            ],
            [
             0.4444444444444444,
             "#bd3786"
            ],
            [
             0.5555555555555556,
             "#d8576b"
            ],
            [
             0.6666666666666666,
             "#ed7953"
            ],
            [
             0.7777777777777778,
             "#fb9f3a"
            ],
            [
             0.8888888888888888,
             "#fdca26"
            ],
            [
             1,
             "#f0f921"
            ]
           ]
          },
          "colorway": [
           "#636efa",
           "#EF553B",
           "#00cc96",
           "#ab63fa",
           "#FFA15A",
           "#19d3f3",
           "#FF6692",
           "#B6E880",
           "#FF97FF",
           "#FECB52"
          ],
          "font": {
           "color": "#2a3f5f"
          },
          "geo": {
           "bgcolor": "white",
           "lakecolor": "white",
           "landcolor": "#E5ECF6",
           "showlakes": true,
           "showland": true,
           "subunitcolor": "white"
          },
          "hoverlabel": {
           "align": "left"
          },
          "hovermode": "closest",
          "mapbox": {
           "style": "light"
          },
          "paper_bgcolor": "white",
          "plot_bgcolor": "#E5ECF6",
          "polar": {
           "angularaxis": {
            "gridcolor": "white",
            "linecolor": "white",
            "ticks": ""
           },
           "bgcolor": "#E5ECF6",
           "radialaxis": {
            "gridcolor": "white",
            "linecolor": "white",
            "ticks": ""
           }
          },
          "scene": {
           "xaxis": {
            "backgroundcolor": "#E5ECF6",
            "gridcolor": "white",
            "gridwidth": 2,
            "linecolor": "white",
            "showbackground": true,
            "ticks": "",
            "zerolinecolor": "white"
           },
           "yaxis": {
            "backgroundcolor": "#E5ECF6",
            "gridcolor": "white",
            "gridwidth": 2,
            "linecolor": "white",
            "showbackground": true,
            "ticks": "",
            "zerolinecolor": "white"
           },
           "zaxis": {
            "backgroundcolor": "#E5ECF6",
            "gridcolor": "white",
            "gridwidth": 2,
            "linecolor": "white",
            "showbackground": true,
            "ticks": "",
            "zerolinecolor": "white"
           }
          },
          "shapedefaults": {
           "line": {
            "color": "#2a3f5f"
           }
          },
          "ternary": {
           "aaxis": {
            "gridcolor": "white",
            "linecolor": "white",
            "ticks": ""
           },
           "baxis": {
            "gridcolor": "white",
            "linecolor": "white",
            "ticks": ""
           },
           "bgcolor": "#E5ECF6",
           "caxis": {
            "gridcolor": "white",
            "linecolor": "white",
            "ticks": ""
           }
          },
          "title": {
           "x": 0.05
          },
          "xaxis": {
           "automargin": true,
           "gridcolor": "white",
           "linecolor": "white",
           "ticks": "",
           "title": {
            "standoff": 15
           },
           "zerolinecolor": "white",
           "zerolinewidth": 2
          },
          "yaxis": {
           "automargin": true,
           "gridcolor": "white",
           "linecolor": "white",
           "ticks": "",
           "title": {
            "standoff": 15
           },
           "zerolinecolor": "white",
           "zerolinewidth": 2
          }
         }
        },
        "title": {
         "text": "Rating distribution by Last Updated Year"
        }
       }
      },
      "text/html": [
       "<div>\n",
       "        \n",
       "        \n",
       "            <div id=\"d90dedf0-c887-412b-b466-abc47e0733db\" class=\"plotly-graph-div\" style=\"height:525px; width:100%;\"></div>\n",
       "            <script type=\"text/javascript\">\n",
       "                require([\"plotly\"], function(Plotly) {\n",
       "                    window.PLOTLYENV=window.PLOTLYENV || {};\n",
       "                    \n",
       "                if (document.getElementById(\"d90dedf0-c887-412b-b466-abc47e0733db\")) {\n",
       "                    Plotly.newPlot(\n",
       "                        'd90dedf0-c887-412b-b466-abc47e0733db',\n",
       "                        [{\"name\": \"1\", \"text\": [0.0, 4.76, 0.0, 0.53, 0.0, 0.61, 0.33, 0.14], \"textposition\": \"auto\", \"type\": \"bar\", \"x\": [2011, 2012, 2013, 2014, 2015, 2016, 2017, 2018], \"y\": [0.0, 4.76, 0.0, 0.53, 0.0, 0.61, 0.33, 0.14]}, {\"name\": \"2\", \"text\": [0.0, 0.0, 1.08, 2.11, 0.77, 1.84, 2.61, 1.09], \"textposition\": \"auto\", \"type\": \"bar\", \"x\": [2011, 2012, 2013, 2014, 2015, 2016, 2017, 2018], \"y\": [0.0, 0.0, 1.08, 2.11, 0.77, 1.84, 2.61, 1.09]}, {\"name\": \"3\", \"text\": [13.33, 19.05, 9.68, 10.53, 9.28, 11.37, 9.49, 4.54], \"textposition\": \"auto\", \"type\": \"bar\", \"x\": [2011, 2012, 2013, 2014, 2015, 2016, 2017, 2018], \"y\": [13.33, 19.05, 9.68, 10.53, 9.28, 11.37, 9.49, 4.54]}, {\"name\": \"4\", \"text\": [80.0, 71.43, 80.65, 73.16, 77.58, 72.04, 68.14, 71.94], \"textposition\": \"auto\", \"type\": \"bar\", \"x\": [2011, 2012, 2013, 2014, 2015, 2016, 2017, 2018], \"y\": [80.0, 71.43, 80.65, 73.16, 77.58, 72.04, 68.14, 71.94]}, {\"name\": \"5\", \"text\": [6.67, 4.76, 8.6, 13.68, 12.37, 14.13, 19.44, 22.29], \"textposition\": \"auto\", \"type\": \"bar\", \"x\": [2011, 2012, 2013, 2014, 2015, 2016, 2017, 2018], \"y\": [6.67, 4.76, 8.6, 13.68, 12.37, 14.13, 19.44, 22.29]}],\n",
       "                        {\"barmode\": \"stack\", \"template\": {\"data\": {\"bar\": [{\"error_x\": {\"color\": \"#2a3f5f\"}, \"error_y\": {\"color\": \"#2a3f5f\"}, \"marker\": {\"line\": {\"color\": \"#E5ECF6\", \"width\": 0.5}}, \"type\": \"bar\"}], \"barpolar\": [{\"marker\": {\"line\": {\"color\": \"#E5ECF6\", \"width\": 0.5}}, \"type\": \"barpolar\"}], \"carpet\": [{\"aaxis\": {\"endlinecolor\": \"#2a3f5f\", \"gridcolor\": \"white\", \"linecolor\": \"white\", \"minorgridcolor\": \"white\", \"startlinecolor\": \"#2a3f5f\"}, \"baxis\": {\"endlinecolor\": \"#2a3f5f\", \"gridcolor\": \"white\", \"linecolor\": \"white\", \"minorgridcolor\": \"white\", \"startlinecolor\": \"#2a3f5f\"}, \"type\": \"carpet\"}], \"choropleth\": [{\"colorbar\": {\"outlinewidth\": 0, \"ticks\": \"\"}, \"type\": \"choropleth\"}], \"contour\": [{\"colorbar\": {\"outlinewidth\": 0, \"ticks\": \"\"}, \"colorscale\": [[0.0, \"#0d0887\"], [0.1111111111111111, \"#46039f\"], [0.2222222222222222, \"#7201a8\"], [0.3333333333333333, \"#9c179e\"], [0.4444444444444444, \"#bd3786\"], [0.5555555555555556, \"#d8576b\"], [0.6666666666666666, \"#ed7953\"], [0.7777777777777778, \"#fb9f3a\"], [0.8888888888888888, \"#fdca26\"], [1.0, \"#f0f921\"]], \"type\": \"contour\"}], \"contourcarpet\": [{\"colorbar\": {\"outlinewidth\": 0, \"ticks\": \"\"}, \"type\": \"contourcarpet\"}], \"heatmap\": [{\"colorbar\": {\"outlinewidth\": 0, \"ticks\": \"\"}, \"colorscale\": [[0.0, \"#0d0887\"], [0.1111111111111111, \"#46039f\"], [0.2222222222222222, \"#7201a8\"], [0.3333333333333333, \"#9c179e\"], [0.4444444444444444, \"#bd3786\"], [0.5555555555555556, \"#d8576b\"], [0.6666666666666666, \"#ed7953\"], [0.7777777777777778, \"#fb9f3a\"], [0.8888888888888888, \"#fdca26\"], [1.0, \"#f0f921\"]], \"type\": \"heatmap\"}], \"heatmapgl\": [{\"colorbar\": {\"outlinewidth\": 0, \"ticks\": \"\"}, \"colorscale\": [[0.0, \"#0d0887\"], [0.1111111111111111, \"#46039f\"], [0.2222222222222222, \"#7201a8\"], [0.3333333333333333, \"#9c179e\"], [0.4444444444444444, \"#bd3786\"], [0.5555555555555556, \"#d8576b\"], [0.6666666666666666, \"#ed7953\"], [0.7777777777777778, \"#fb9f3a\"], [0.8888888888888888, \"#fdca26\"], [1.0, \"#f0f921\"]], \"type\": \"heatmapgl\"}], \"histogram\": [{\"marker\": {\"colorbar\": {\"outlinewidth\": 0, \"ticks\": \"\"}}, \"type\": \"histogram\"}], \"histogram2d\": [{\"colorbar\": {\"outlinewidth\": 0, \"ticks\": \"\"}, \"colorscale\": [[0.0, \"#0d0887\"], [0.1111111111111111, \"#46039f\"], [0.2222222222222222, \"#7201a8\"], [0.3333333333333333, \"#9c179e\"], [0.4444444444444444, \"#bd3786\"], [0.5555555555555556, \"#d8576b\"], [0.6666666666666666, \"#ed7953\"], [0.7777777777777778, \"#fb9f3a\"], [0.8888888888888888, \"#fdca26\"], [1.0, \"#f0f921\"]], \"type\": \"histogram2d\"}], \"histogram2dcontour\": [{\"colorbar\": {\"outlinewidth\": 0, \"ticks\": \"\"}, \"colorscale\": [[0.0, \"#0d0887\"], [0.1111111111111111, \"#46039f\"], [0.2222222222222222, \"#7201a8\"], [0.3333333333333333, \"#9c179e\"], [0.4444444444444444, \"#bd3786\"], [0.5555555555555556, \"#d8576b\"], [0.6666666666666666, \"#ed7953\"], [0.7777777777777778, \"#fb9f3a\"], [0.8888888888888888, \"#fdca26\"], [1.0, \"#f0f921\"]], \"type\": \"histogram2dcontour\"}], \"mesh3d\": [{\"colorbar\": {\"outlinewidth\": 0, \"ticks\": \"\"}, \"type\": \"mesh3d\"}], \"parcoords\": [{\"line\": {\"colorbar\": {\"outlinewidth\": 0, \"ticks\": \"\"}}, \"type\": \"parcoords\"}], \"pie\": [{\"automargin\": true, \"type\": \"pie\"}], \"scatter\": [{\"marker\": {\"colorbar\": {\"outlinewidth\": 0, \"ticks\": \"\"}}, \"type\": \"scatter\"}], \"scatter3d\": [{\"line\": {\"colorbar\": {\"outlinewidth\": 0, \"ticks\": \"\"}}, \"marker\": {\"colorbar\": {\"outlinewidth\": 0, \"ticks\": \"\"}}, \"type\": \"scatter3d\"}], \"scattercarpet\": [{\"marker\": {\"colorbar\": {\"outlinewidth\": 0, \"ticks\": \"\"}}, \"type\": \"scattercarpet\"}], \"scattergeo\": [{\"marker\": {\"colorbar\": {\"outlinewidth\": 0, \"ticks\": \"\"}}, \"type\": \"scattergeo\"}], \"scattergl\": [{\"marker\": {\"colorbar\": {\"outlinewidth\": 0, \"ticks\": \"\"}}, \"type\": \"scattergl\"}], \"scattermapbox\": [{\"marker\": {\"colorbar\": {\"outlinewidth\": 0, \"ticks\": \"\"}}, \"type\": \"scattermapbox\"}], \"scatterpolar\": [{\"marker\": {\"colorbar\": {\"outlinewidth\": 0, \"ticks\": \"\"}}, \"type\": \"scatterpolar\"}], \"scatterpolargl\": [{\"marker\": {\"colorbar\": {\"outlinewidth\": 0, \"ticks\": \"\"}}, \"type\": \"scatterpolargl\"}], \"scatterternary\": [{\"marker\": {\"colorbar\": {\"outlinewidth\": 0, \"ticks\": \"\"}}, \"type\": \"scatterternary\"}], \"surface\": [{\"colorbar\": {\"outlinewidth\": 0, \"ticks\": \"\"}, \"colorscale\": [[0.0, \"#0d0887\"], [0.1111111111111111, \"#46039f\"], [0.2222222222222222, \"#7201a8\"], [0.3333333333333333, \"#9c179e\"], [0.4444444444444444, \"#bd3786\"], [0.5555555555555556, \"#d8576b\"], [0.6666666666666666, \"#ed7953\"], [0.7777777777777778, \"#fb9f3a\"], [0.8888888888888888, \"#fdca26\"], [1.0, \"#f0f921\"]], \"type\": \"surface\"}], \"table\": [{\"cells\": {\"fill\": {\"color\": \"#EBF0F8\"}, \"line\": {\"color\": \"white\"}}, \"header\": {\"fill\": {\"color\": \"#C8D4E3\"}, \"line\": {\"color\": \"white\"}}, \"type\": \"table\"}]}, \"layout\": {\"annotationdefaults\": {\"arrowcolor\": \"#2a3f5f\", \"arrowhead\": 0, \"arrowwidth\": 1}, \"coloraxis\": {\"colorbar\": {\"outlinewidth\": 0, \"ticks\": \"\"}}, \"colorscale\": {\"diverging\": [[0, \"#8e0152\"], [0.1, \"#c51b7d\"], [0.2, \"#de77ae\"], [0.3, \"#f1b6da\"], [0.4, \"#fde0ef\"], [0.5, \"#f7f7f7\"], [0.6, \"#e6f5d0\"], [0.7, \"#b8e186\"], [0.8, \"#7fbc41\"], [0.9, \"#4d9221\"], [1, \"#276419\"]], \"sequential\": [[0.0, \"#0d0887\"], [0.1111111111111111, \"#46039f\"], [0.2222222222222222, \"#7201a8\"], [0.3333333333333333, \"#9c179e\"], [0.4444444444444444, \"#bd3786\"], [0.5555555555555556, \"#d8576b\"], [0.6666666666666666, \"#ed7953\"], [0.7777777777777778, \"#fb9f3a\"], [0.8888888888888888, \"#fdca26\"], [1.0, \"#f0f921\"]], \"sequentialminus\": [[0.0, \"#0d0887\"], [0.1111111111111111, \"#46039f\"], [0.2222222222222222, \"#7201a8\"], [0.3333333333333333, \"#9c179e\"], [0.4444444444444444, \"#bd3786\"], [0.5555555555555556, \"#d8576b\"], [0.6666666666666666, \"#ed7953\"], [0.7777777777777778, \"#fb9f3a\"], [0.8888888888888888, \"#fdca26\"], [1.0, \"#f0f921\"]]}, \"colorway\": [\"#636efa\", \"#EF553B\", \"#00cc96\", \"#ab63fa\", \"#FFA15A\", \"#19d3f3\", \"#FF6692\", \"#B6E880\", \"#FF97FF\", \"#FECB52\"], \"font\": {\"color\": \"#2a3f5f\"}, \"geo\": {\"bgcolor\": \"white\", \"lakecolor\": \"white\", \"landcolor\": \"#E5ECF6\", \"showlakes\": true, \"showland\": true, \"subunitcolor\": \"white\"}, \"hoverlabel\": {\"align\": \"left\"}, \"hovermode\": \"closest\", \"mapbox\": {\"style\": \"light\"}, \"paper_bgcolor\": \"white\", \"plot_bgcolor\": \"#E5ECF6\", \"polar\": {\"angularaxis\": {\"gridcolor\": \"white\", \"linecolor\": \"white\", \"ticks\": \"\"}, \"bgcolor\": \"#E5ECF6\", \"radialaxis\": {\"gridcolor\": \"white\", \"linecolor\": \"white\", \"ticks\": \"\"}}, \"scene\": {\"xaxis\": {\"backgroundcolor\": \"#E5ECF6\", \"gridcolor\": \"white\", \"gridwidth\": 2, \"linecolor\": \"white\", \"showbackground\": true, \"ticks\": \"\", \"zerolinecolor\": \"white\"}, \"yaxis\": {\"backgroundcolor\": \"#E5ECF6\", \"gridcolor\": \"white\", \"gridwidth\": 2, \"linecolor\": \"white\", \"showbackground\": true, \"ticks\": \"\", \"zerolinecolor\": \"white\"}, \"zaxis\": {\"backgroundcolor\": \"#E5ECF6\", \"gridcolor\": \"white\", \"gridwidth\": 2, \"linecolor\": \"white\", \"showbackground\": true, \"ticks\": \"\", \"zerolinecolor\": \"white\"}}, \"shapedefaults\": {\"line\": {\"color\": \"#2a3f5f\"}}, \"ternary\": {\"aaxis\": {\"gridcolor\": \"white\", \"linecolor\": \"white\", \"ticks\": \"\"}, \"baxis\": {\"gridcolor\": \"white\", \"linecolor\": \"white\", \"ticks\": \"\"}, \"bgcolor\": \"#E5ECF6\", \"caxis\": {\"gridcolor\": \"white\", \"linecolor\": \"white\", \"ticks\": \"\"}}, \"title\": {\"x\": 0.05}, \"xaxis\": {\"automargin\": true, \"gridcolor\": \"white\", \"linecolor\": \"white\", \"ticks\": \"\", \"title\": {\"standoff\": 15}, \"zerolinecolor\": \"white\", \"zerolinewidth\": 2}, \"yaxis\": {\"automargin\": true, \"gridcolor\": \"white\", \"linecolor\": \"white\", \"ticks\": \"\", \"title\": {\"standoff\": 15}, \"zerolinecolor\": \"white\", \"zerolinewidth\": 2}}}, \"title\": {\"text\": \"Rating distribution by Last Updated Year\"}},\n",
       "                        {\"responsive\": true}\n",
       "                    ).then(function(){\n",
       "                            \n",
       "var gd = document.getElementById('d90dedf0-c887-412b-b466-abc47e0733db');\n",
       "var x = new MutationObserver(function (mutations, observer) {{\n",
       "        var display = window.getComputedStyle(gd).display;\n",
       "        if (!display || display === 'none') {{\n",
       "            console.log([gd, 'removed!']);\n",
       "            Plotly.purge(gd);\n",
       "            observer.disconnect();\n",
       "        }}\n",
       "}});\n",
       "\n",
       "// Listen for the removal of the full notebook cells\n",
       "var notebookContainer = gd.closest('#notebook-container');\n",
       "if (notebookContainer) {{\n",
       "    x.observe(notebookContainer, {childList: true});\n",
       "}}\n",
       "\n",
       "// Listen for the clearing of the current output cell\n",
       "var outputEl = gd.closest('.output');\n",
       "if (outputEl) {{\n",
       "    x.observe(outputEl, {childList: true});\n",
       "}}\n",
       "\n",
       "                        })\n",
       "                };\n",
       "                });\n",
       "            </script>\n",
       "        </div>"
      ]
     },
     "metadata": {},
     "output_type": "display_data"
    }
   ],
   "source": [
    "get_cat_ratings_chart('Last Updated Year')"
   ]
  },
  {
   "cell_type": "code",
   "execution_count": 726,
   "metadata": {},
   "outputs": [
    {
     "data": {
      "application/vnd.plotly.v1+json": {
       "config": {
        "plotlyServerURL": "https://plot.ly"
       },
       "data": [
        {
         "name": "1",
         "text": [
          0,
          0,
          0,
          0,
          0.33,
          0,
          0.3,
          0.51,
          0,
          0,
          0,
          0.17,
          0.93,
          0,
          0.18,
          0.34,
          0,
          0,
          0,
          0,
          0.86,
          0,
          0,
          0,
          0,
          0.28,
          0,
          0,
          0,
          0.55,
          0,
          0,
          0
         ],
         "textposition": "auto",
         "type": "bar",
         "x": [
          "ART_AND_DESIGN",
          "AUTO_AND_VEHICLES",
          "BEAUTY",
          "BOOKS_AND_REFERENCE",
          "BUSINESS",
          "COMICS",
          "COMMUNICATION",
          "DATING",
          "EDUCATION",
          "ENTERTAINMENT",
          "EVENTS",
          "FAMILY",
          "FINANCE",
          "FOOD_AND_DRINK",
          "GAME",
          "HEALTH_AND_FITNESS",
          "HOUSE_AND_HOME",
          "LIBRARIES_AND_DEMO",
          "LIFESTYLE",
          "MAPS_AND_NAVIGATION",
          "MEDICAL",
          "NEWS_AND_MAGAZINES",
          "PARENTING",
          "PERSONALIZATION",
          "PHOTOGRAPHY",
          "PRODUCTIVITY",
          "SHOPPING",
          "SOCIAL",
          "SPORTS",
          "TOOLS",
          "TRAVEL_AND_LOCAL",
          "VIDEO_PLAYERS",
          "WEATHER"
         ],
         "y": [
          0,
          0,
          0,
          0,
          0.33,
          0,
          0.3,
          0.51,
          0,
          0,
          0,
          0.17,
          0.93,
          0,
          0.18,
          0.34,
          0,
          0,
          0,
          0,
          0.86,
          0,
          0,
          0,
          0,
          0.28,
          0,
          0,
          0,
          0.55,
          0,
          0,
          0
         ]
        },
        {
         "name": "2",
         "text": [
          0,
          1.37,
          0,
          0,
          2.31,
          0,
          0.91,
          3.08,
          0,
          0,
          0,
          1.09,
          2.79,
          1.83,
          0.27,
          3.37,
          0,
          0,
          3.5,
          0.81,
          2.29,
          2.15,
          2,
          0.32,
          0.95,
          1.14,
          0.84,
          0.77,
          0.63,
          2.86,
          2.21,
          2.5,
          0
         ],
         "textposition": "auto",
         "type": "bar",
         "x": [
          "ART_AND_DESIGN",
          "AUTO_AND_VEHICLES",
          "BEAUTY",
          "BOOKS_AND_REFERENCE",
          "BUSINESS",
          "COMICS",
          "COMMUNICATION",
          "DATING",
          "EDUCATION",
          "ENTERTAINMENT",
          "EVENTS",
          "FAMILY",
          "FINANCE",
          "FOOD_AND_DRINK",
          "GAME",
          "HEALTH_AND_FITNESS",
          "HOUSE_AND_HOME",
          "LIBRARIES_AND_DEMO",
          "LIFESTYLE",
          "MAPS_AND_NAVIGATION",
          "MEDICAL",
          "NEWS_AND_MAGAZINES",
          "PARENTING",
          "PERSONALIZATION",
          "PHOTOGRAPHY",
          "PRODUCTIVITY",
          "SHOPPING",
          "SOCIAL",
          "SPORTS",
          "TOOLS",
          "TRAVEL_AND_LOCAL",
          "VIDEO_PLAYERS",
          "WEATHER"
         ],
         "y": [
          0,
          1.37,
          0,
          0,
          2.31,
          0,
          0.91,
          3.08,
          0,
          0,
          0,
          1.09,
          2.79,
          1.83,
          0.27,
          3.37,
          0,
          0,
          3.5,
          0.81,
          2.29,
          2.15,
          2,
          0.32,
          0.95,
          1.14,
          0.84,
          0.77,
          0.63,
          2.86,
          2.21,
          2.5,
          0
         ]
        },
        {
         "name": "3",
         "text": [
          1.64,
          6.85,
          2.38,
          6.18,
          11.22,
          15.52,
          4.57,
          11.79,
          0,
          2.68,
          2.22,
          6.13,
          6.5,
          7.34,
          2.46,
          5.72,
          5.26,
          4.69,
          10.51,
          12.9,
          7.71,
          7.3,
          2,
          1.92,
          6.94,
          5.7,
          3.36,
          3.86,
          4.7,
          10.78,
          8.85,
          10,
          1.33
         ],
         "textposition": "auto",
         "type": "bar",
         "x": [
          "ART_AND_DESIGN",
          "AUTO_AND_VEHICLES",
          "BEAUTY",
          "BOOKS_AND_REFERENCE",
          "BUSINESS",
          "COMICS",
          "COMMUNICATION",
          "DATING",
          "EDUCATION",
          "ENTERTAINMENT",
          "EVENTS",
          "FAMILY",
          "FINANCE",
          "FOOD_AND_DRINK",
          "GAME",
          "HEALTH_AND_FITNESS",
          "HOUSE_AND_HOME",
          "LIBRARIES_AND_DEMO",
          "LIFESTYLE",
          "MAPS_AND_NAVIGATION",
          "MEDICAL",
          "NEWS_AND_MAGAZINES",
          "PARENTING",
          "PERSONALIZATION",
          "PHOTOGRAPHY",
          "PRODUCTIVITY",
          "SHOPPING",
          "SOCIAL",
          "SPORTS",
          "TOOLS",
          "TRAVEL_AND_LOCAL",
          "VIDEO_PLAYERS",
          "WEATHER"
         ],
         "y": [
          1.64,
          6.85,
          2.38,
          6.18,
          11.22,
          15.52,
          4.57,
          11.79,
          0,
          2.68,
          2.22,
          6.13,
          6.5,
          7.34,
          2.46,
          5.72,
          5.26,
          4.69,
          10.51,
          12.9,
          7.71,
          7.3,
          2,
          1.92,
          6.94,
          5.7,
          3.36,
          3.86,
          4.7,
          10.78,
          8.85,
          10,
          1.33
         ]
        },
        {
         "name": "4",
         "text": [
          62.3,
          63.01,
          71.43,
          56.74,
          64.36,
          62.07,
          86.28,
          71.79,
          68.39,
          91.28,
          55.56,
          71.76,
          66.87,
          67.89,
          77.48,
          54.88,
          80.26,
          79.69,
          59.24,
          75.81,
          60.29,
          73.39,
          58,
          70.83,
          77.6,
          72.08,
          77.73,
          75.29,
          75.86,
          70.26,
          77.88,
          73.75,
          86.67
         ],
         "textposition": "auto",
         "type": "bar",
         "x": [
          "ART_AND_DESIGN",
          "AUTO_AND_VEHICLES",
          "BEAUTY",
          "BOOKS_AND_REFERENCE",
          "BUSINESS",
          "COMICS",
          "COMMUNICATION",
          "DATING",
          "EDUCATION",
          "ENTERTAINMENT",
          "EVENTS",
          "FAMILY",
          "FINANCE",
          "FOOD_AND_DRINK",
          "GAME",
          "HEALTH_AND_FITNESS",
          "HOUSE_AND_HOME",
          "LIBRARIES_AND_DEMO",
          "LIFESTYLE",
          "MAPS_AND_NAVIGATION",
          "MEDICAL",
          "NEWS_AND_MAGAZINES",
          "PARENTING",
          "PERSONALIZATION",
          "PHOTOGRAPHY",
          "PRODUCTIVITY",
          "SHOPPING",
          "SOCIAL",
          "SPORTS",
          "TOOLS",
          "TRAVEL_AND_LOCAL",
          "VIDEO_PLAYERS",
          "WEATHER"
         ],
         "y": [
          62.3,
          63.01,
          71.43,
          56.74,
          64.36,
          62.07,
          86.28,
          71.79,
          68.39,
          91.28,
          55.56,
          71.76,
          66.87,
          67.89,
          77.48,
          54.88,
          80.26,
          79.69,
          59.24,
          75.81,
          60.29,
          73.39,
          58,
          70.83,
          77.6,
          72.08,
          77.73,
          75.29,
          75.86,
          70.26,
          77.88,
          73.75,
          86.67
         ]
        },
        {
         "name": "5",
         "text": [
          36.07,
          28.77,
          26.19,
          37.08,
          21.78,
          22.41,
          7.93,
          12.82,
          31.61,
          6.04,
          42.22,
          20.85,
          22.91,
          22.94,
          19.6,
          35.69,
          14.47,
          15.62,
          26.75,
          10.48,
          28.86,
          17.17,
          38,
          26.92,
          14.51,
          20.8,
          18.07,
          20.08,
          18.81,
          15.55,
          11.06,
          13.75,
          12
         ],
         "textposition": "auto",
         "type": "bar",
         "x": [
          "ART_AND_DESIGN",
          "AUTO_AND_VEHICLES",
          "BEAUTY",
          "BOOKS_AND_REFERENCE",
          "BUSINESS",
          "COMICS",
          "COMMUNICATION",
          "DATING",
          "EDUCATION",
          "ENTERTAINMENT",
          "EVENTS",
          "FAMILY",
          "FINANCE",
          "FOOD_AND_DRINK",
          "GAME",
          "HEALTH_AND_FITNESS",
          "HOUSE_AND_HOME",
          "LIBRARIES_AND_DEMO",
          "LIFESTYLE",
          "MAPS_AND_NAVIGATION",
          "MEDICAL",
          "NEWS_AND_MAGAZINES",
          "PARENTING",
          "PERSONALIZATION",
          "PHOTOGRAPHY",
          "PRODUCTIVITY",
          "SHOPPING",
          "SOCIAL",
          "SPORTS",
          "TOOLS",
          "TRAVEL_AND_LOCAL",
          "VIDEO_PLAYERS",
          "WEATHER"
         ],
         "y": [
          36.07,
          28.77,
          26.19,
          37.08,
          21.78,
          22.41,
          7.93,
          12.82,
          31.61,
          6.04,
          42.22,
          20.85,
          22.91,
          22.94,
          19.6,
          35.69,
          14.47,
          15.62,
          26.75,
          10.48,
          28.86,
          17.17,
          38,
          26.92,
          14.51,
          20.8,
          18.07,
          20.08,
          18.81,
          15.55,
          11.06,
          13.75,
          12
         ]
        }
       ],
       "layout": {
        "barmode": "stack",
        "template": {
         "data": {
          "bar": [
           {
            "error_x": {
             "color": "#2a3f5f"
            },
            "error_y": {
             "color": "#2a3f5f"
            },
            "marker": {
             "line": {
              "color": "#E5ECF6",
              "width": 0.5
             }
            },
            "type": "bar"
           }
          ],
          "barpolar": [
           {
            "marker": {
             "line": {
              "color": "#E5ECF6",
              "width": 0.5
             }
            },
            "type": "barpolar"
           }
          ],
          "carpet": [
           {
            "aaxis": {
             "endlinecolor": "#2a3f5f",
             "gridcolor": "white",
             "linecolor": "white",
             "minorgridcolor": "white",
             "startlinecolor": "#2a3f5f"
            },
            "baxis": {
             "endlinecolor": "#2a3f5f",
             "gridcolor": "white",
             "linecolor": "white",
             "minorgridcolor": "white",
             "startlinecolor": "#2a3f5f"
            },
            "type": "carpet"
           }
          ],
          "choropleth": [
           {
            "colorbar": {
             "outlinewidth": 0,
             "ticks": ""
            },
            "type": "choropleth"
           }
          ],
          "contour": [
           {
            "colorbar": {
             "outlinewidth": 0,
             "ticks": ""
            },
            "colorscale": [
             [
              0,
              "#0d0887"
             ],
             [
              0.1111111111111111,
              "#46039f"
             ],
             [
              0.2222222222222222,
              "#7201a8"
             ],
             [
              0.3333333333333333,
              "#9c179e"
             ],
             [
              0.4444444444444444,
              "#bd3786"
             ],
             [
              0.5555555555555556,
              "#d8576b"
             ],
             [
              0.6666666666666666,
              "#ed7953"
             ],
             [
              0.7777777777777778,
              "#fb9f3a"
             ],
             [
              0.8888888888888888,
              "#fdca26"
             ],
             [
              1,
              "#f0f921"
             ]
            ],
            "type": "contour"
           }
          ],
          "contourcarpet": [
           {
            "colorbar": {
             "outlinewidth": 0,
             "ticks": ""
            },
            "type": "contourcarpet"
           }
          ],
          "heatmap": [
           {
            "colorbar": {
             "outlinewidth": 0,
             "ticks": ""
            },
            "colorscale": [
             [
              0,
              "#0d0887"
             ],
             [
              0.1111111111111111,
              "#46039f"
             ],
             [
              0.2222222222222222,
              "#7201a8"
             ],
             [
              0.3333333333333333,
              "#9c179e"
             ],
             [
              0.4444444444444444,
              "#bd3786"
             ],
             [
              0.5555555555555556,
              "#d8576b"
             ],
             [
              0.6666666666666666,
              "#ed7953"
             ],
             [
              0.7777777777777778,
              "#fb9f3a"
             ],
             [
              0.8888888888888888,
              "#fdca26"
             ],
             [
              1,
              "#f0f921"
             ]
            ],
            "type": "heatmap"
           }
          ],
          "heatmapgl": [
           {
            "colorbar": {
             "outlinewidth": 0,
             "ticks": ""
            },
            "colorscale": [
             [
              0,
              "#0d0887"
             ],
             [
              0.1111111111111111,
              "#46039f"
             ],
             [
              0.2222222222222222,
              "#7201a8"
             ],
             [
              0.3333333333333333,
              "#9c179e"
             ],
             [
              0.4444444444444444,
              "#bd3786"
             ],
             [
              0.5555555555555556,
              "#d8576b"
             ],
             [
              0.6666666666666666,
              "#ed7953"
             ],
             [
              0.7777777777777778,
              "#fb9f3a"
             ],
             [
              0.8888888888888888,
              "#fdca26"
             ],
             [
              1,
              "#f0f921"
             ]
            ],
            "type": "heatmapgl"
           }
          ],
          "histogram": [
           {
            "marker": {
             "colorbar": {
              "outlinewidth": 0,
              "ticks": ""
             }
            },
            "type": "histogram"
           }
          ],
          "histogram2d": [
           {
            "colorbar": {
             "outlinewidth": 0,
             "ticks": ""
            },
            "colorscale": [
             [
              0,
              "#0d0887"
             ],
             [
              0.1111111111111111,
              "#46039f"
             ],
             [
              0.2222222222222222,
              "#7201a8"
             ],
             [
              0.3333333333333333,
              "#9c179e"
             ],
             [
              0.4444444444444444,
              "#bd3786"
             ],
             [
              0.5555555555555556,
              "#d8576b"
             ],
             [
              0.6666666666666666,
              "#ed7953"
             ],
             [
              0.7777777777777778,
              "#fb9f3a"
             ],
             [
              0.8888888888888888,
              "#fdca26"
             ],
             [
              1,
              "#f0f921"
             ]
            ],
            "type": "histogram2d"
           }
          ],
          "histogram2dcontour": [
           {
            "colorbar": {
             "outlinewidth": 0,
             "ticks": ""
            },
            "colorscale": [
             [
              0,
              "#0d0887"
             ],
             [
              0.1111111111111111,
              "#46039f"
             ],
             [
              0.2222222222222222,
              "#7201a8"
             ],
             [
              0.3333333333333333,
              "#9c179e"
             ],
             [
              0.4444444444444444,
              "#bd3786"
             ],
             [
              0.5555555555555556,
              "#d8576b"
             ],
             [
              0.6666666666666666,
              "#ed7953"
             ],
             [
              0.7777777777777778,
              "#fb9f3a"
             ],
             [
              0.8888888888888888,
              "#fdca26"
             ],
             [
              1,
              "#f0f921"
             ]
            ],
            "type": "histogram2dcontour"
           }
          ],
          "mesh3d": [
           {
            "colorbar": {
             "outlinewidth": 0,
             "ticks": ""
            },
            "type": "mesh3d"
           }
          ],
          "parcoords": [
           {
            "line": {
             "colorbar": {
              "outlinewidth": 0,
              "ticks": ""
             }
            },
            "type": "parcoords"
           }
          ],
          "pie": [
           {
            "automargin": true,
            "type": "pie"
           }
          ],
          "scatter": [
           {
            "marker": {
             "colorbar": {
              "outlinewidth": 0,
              "ticks": ""
             }
            },
            "type": "scatter"
           }
          ],
          "scatter3d": [
           {
            "line": {
             "colorbar": {
              "outlinewidth": 0,
              "ticks": ""
             }
            },
            "marker": {
             "colorbar": {
              "outlinewidth": 0,
              "ticks": ""
             }
            },
            "type": "scatter3d"
           }
          ],
          "scattercarpet": [
           {
            "marker": {
             "colorbar": {
              "outlinewidth": 0,
              "ticks": ""
             }
            },
            "type": "scattercarpet"
           }
          ],
          "scattergeo": [
           {
            "marker": {
             "colorbar": {
              "outlinewidth": 0,
              "ticks": ""
             }
            },
            "type": "scattergeo"
           }
          ],
          "scattergl": [
           {
            "marker": {
             "colorbar": {
              "outlinewidth": 0,
              "ticks": ""
             }
            },
            "type": "scattergl"
           }
          ],
          "scattermapbox": [
           {
            "marker": {
             "colorbar": {
              "outlinewidth": 0,
              "ticks": ""
             }
            },
            "type": "scattermapbox"
           }
          ],
          "scatterpolar": [
           {
            "marker": {
             "colorbar": {
              "outlinewidth": 0,
              "ticks": ""
             }
            },
            "type": "scatterpolar"
           }
          ],
          "scatterpolargl": [
           {
            "marker": {
             "colorbar": {
              "outlinewidth": 0,
              "ticks": ""
             }
            },
            "type": "scatterpolargl"
           }
          ],
          "scatterternary": [
           {
            "marker": {
             "colorbar": {
              "outlinewidth": 0,
              "ticks": ""
             }
            },
            "type": "scatterternary"
           }
          ],
          "surface": [
           {
            "colorbar": {
             "outlinewidth": 0,
             "ticks": ""
            },
            "colorscale": [
             [
              0,
              "#0d0887"
             ],
             [
              0.1111111111111111,
              "#46039f"
             ],
             [
              0.2222222222222222,
              "#7201a8"
             ],
             [
              0.3333333333333333,
              "#9c179e"
             ],
             [
              0.4444444444444444,
              "#bd3786"
             ],
             [
              0.5555555555555556,
              "#d8576b"
             ],
             [
              0.6666666666666666,
              "#ed7953"
             ],
             [
              0.7777777777777778,
              "#fb9f3a"
             ],
             [
              0.8888888888888888,
              "#fdca26"
             ],
             [
              1,
              "#f0f921"
             ]
            ],
            "type": "surface"
           }
          ],
          "table": [
           {
            "cells": {
             "fill": {
              "color": "#EBF0F8"
             },
             "line": {
              "color": "white"
             }
            },
            "header": {
             "fill": {
              "color": "#C8D4E3"
             },
             "line": {
              "color": "white"
             }
            },
            "type": "table"
           }
          ]
         },
         "layout": {
          "annotationdefaults": {
           "arrowcolor": "#2a3f5f",
           "arrowhead": 0,
           "arrowwidth": 1
          },
          "coloraxis": {
           "colorbar": {
            "outlinewidth": 0,
            "ticks": ""
           }
          },
          "colorscale": {
           "diverging": [
            [
             0,
             "#8e0152"
            ],
            [
             0.1,
             "#c51b7d"
            ],
            [
             0.2,
             "#de77ae"
            ],
            [
             0.3,
             "#f1b6da"
            ],
            [
             0.4,
             "#fde0ef"
            ],
            [
             0.5,
             "#f7f7f7"
            ],
            [
             0.6,
             "#e6f5d0"
            ],
            [
             0.7,
             "#b8e186"
            ],
            [
             0.8,
             "#7fbc41"
            ],
            [
             0.9,
             "#4d9221"
            ],
            [
             1,
             "#276419"
            ]
           ],
           "sequential": [
            [
             0,
             "#0d0887"
            ],
            [
             0.1111111111111111,
             "#46039f"
            ],
            [
             0.2222222222222222,
             "#7201a8"
            ],
            [
             0.3333333333333333,
             "#9c179e"
            ],
            [
             0.4444444444444444,
             "#bd3786"
            ],
            [
             0.5555555555555556,
             "#d8576b"
            ],
            [
             0.6666666666666666,
             "#ed7953"
            ],
            [
             0.7777777777777778,
             "#fb9f3a"
            ],
            [
             0.8888888888888888,
             "#fdca26"
            ],
            [
             1,
             "#f0f921"
            ]
           ],
           "sequentialminus": [
            [
             0,
             "#0d0887"
            ],
            [
             0.1111111111111111,
             "#46039f"
            ],
            [
             0.2222222222222222,
             "#7201a8"
            ],
            [
             0.3333333333333333,
             "#9c179e"
            ],
            [
             0.4444444444444444,
             "#bd3786"
            ],
            [
             0.5555555555555556,
             "#d8576b"
            ],
            [
             0.6666666666666666,
             "#ed7953"
            ],
            [
             0.7777777777777778,
             "#fb9f3a"
            ],
            [
             0.8888888888888888,
             "#fdca26"
            ],
            [
             1,
             "#f0f921"
            ]
           ]
          },
          "colorway": [
           "#636efa",
           "#EF553B",
           "#00cc96",
           "#ab63fa",
           "#FFA15A",
           "#19d3f3",
           "#FF6692",
           "#B6E880",
           "#FF97FF",
           "#FECB52"
          ],
          "font": {
           "color": "#2a3f5f"
          },
          "geo": {
           "bgcolor": "white",
           "lakecolor": "white",
           "landcolor": "#E5ECF6",
           "showlakes": true,
           "showland": true,
           "subunitcolor": "white"
          },
          "hoverlabel": {
           "align": "left"
          },
          "hovermode": "closest",
          "mapbox": {
           "style": "light"
          },
          "paper_bgcolor": "white",
          "plot_bgcolor": "#E5ECF6",
          "polar": {
           "angularaxis": {
            "gridcolor": "white",
            "linecolor": "white",
            "ticks": ""
           },
           "bgcolor": "#E5ECF6",
           "radialaxis": {
            "gridcolor": "white",
            "linecolor": "white",
            "ticks": ""
           }
          },
          "scene": {
           "xaxis": {
            "backgroundcolor": "#E5ECF6",
            "gridcolor": "white",
            "gridwidth": 2,
            "linecolor": "white",
            "showbackground": true,
            "ticks": "",
            "zerolinecolor": "white"
           },
           "yaxis": {
            "backgroundcolor": "#E5ECF6",
            "gridcolor": "white",
            "gridwidth": 2,
            "linecolor": "white",
            "showbackground": true,
            "ticks": "",
            "zerolinecolor": "white"
           },
           "zaxis": {
            "backgroundcolor": "#E5ECF6",
            "gridcolor": "white",
            "gridwidth": 2,
            "linecolor": "white",
            "showbackground": true,
            "ticks": "",
            "zerolinecolor": "white"
           }
          },
          "shapedefaults": {
           "line": {
            "color": "#2a3f5f"
           }
          },
          "ternary": {
           "aaxis": {
            "gridcolor": "white",
            "linecolor": "white",
            "ticks": ""
           },
           "baxis": {
            "gridcolor": "white",
            "linecolor": "white",
            "ticks": ""
           },
           "bgcolor": "#E5ECF6",
           "caxis": {
            "gridcolor": "white",
            "linecolor": "white",
            "ticks": ""
           }
          },
          "title": {
           "x": 0.05
          },
          "xaxis": {
           "automargin": true,
           "gridcolor": "white",
           "linecolor": "white",
           "ticks": "",
           "title": {
            "standoff": 15
           },
           "zerolinecolor": "white",
           "zerolinewidth": 2
          },
          "yaxis": {
           "automargin": true,
           "gridcolor": "white",
           "linecolor": "white",
           "ticks": "",
           "title": {
            "standoff": 15
           },
           "zerolinecolor": "white",
           "zerolinewidth": 2
          }
         }
        },
        "title": {
         "text": "Rating distribution by Category"
        }
       }
      },
      "text/html": [
       "<div>\n",
       "        \n",
       "        \n",
       "            <div id=\"6ea3255f-87db-4e1b-b136-5346e69c42f3\" class=\"plotly-graph-div\" style=\"height:525px; width:100%;\"></div>\n",
       "            <script type=\"text/javascript\">\n",
       "                require([\"plotly\"], function(Plotly) {\n",
       "                    window.PLOTLYENV=window.PLOTLYENV || {};\n",
       "                    \n",
       "                if (document.getElementById(\"6ea3255f-87db-4e1b-b136-5346e69c42f3\")) {\n",
       "                    Plotly.newPlot(\n",
       "                        '6ea3255f-87db-4e1b-b136-5346e69c42f3',\n",
       "                        [{\"name\": \"1\", \"text\": [0.0, 0.0, 0.0, 0.0, 0.33, 0.0, 0.3, 0.51, 0.0, 0.0, 0.0, 0.17, 0.93, 0.0, 0.18, 0.34, 0.0, 0.0, 0.0, 0.0, 0.86, 0.0, 0.0, 0.0, 0.0, 0.28, 0.0, 0.0, 0.0, 0.55, 0.0, 0.0, 0.0], \"textposition\": \"auto\", \"type\": \"bar\", \"x\": [\"ART_AND_DESIGN\", \"AUTO_AND_VEHICLES\", \"BEAUTY\", \"BOOKS_AND_REFERENCE\", \"BUSINESS\", \"COMICS\", \"COMMUNICATION\", \"DATING\", \"EDUCATION\", \"ENTERTAINMENT\", \"EVENTS\", \"FAMILY\", \"FINANCE\", \"FOOD_AND_DRINK\", \"GAME\", \"HEALTH_AND_FITNESS\", \"HOUSE_AND_HOME\", \"LIBRARIES_AND_DEMO\", \"LIFESTYLE\", \"MAPS_AND_NAVIGATION\", \"MEDICAL\", \"NEWS_AND_MAGAZINES\", \"PARENTING\", \"PERSONALIZATION\", \"PHOTOGRAPHY\", \"PRODUCTIVITY\", \"SHOPPING\", \"SOCIAL\", \"SPORTS\", \"TOOLS\", \"TRAVEL_AND_LOCAL\", \"VIDEO_PLAYERS\", \"WEATHER\"], \"y\": [0.0, 0.0, 0.0, 0.0, 0.33, 0.0, 0.3, 0.51, 0.0, 0.0, 0.0, 0.17, 0.93, 0.0, 0.18, 0.34, 0.0, 0.0, 0.0, 0.0, 0.86, 0.0, 0.0, 0.0, 0.0, 0.28, 0.0, 0.0, 0.0, 0.55, 0.0, 0.0, 0.0]}, {\"name\": \"2\", \"text\": [0.0, 1.37, 0.0, 0.0, 2.31, 0.0, 0.91, 3.08, 0.0, 0.0, 0.0, 1.09, 2.79, 1.83, 0.27, 3.37, 0.0, 0.0, 3.5, 0.81, 2.29, 2.15, 2.0, 0.32, 0.95, 1.14, 0.84, 0.77, 0.63, 2.86, 2.21, 2.5, 0.0], \"textposition\": \"auto\", \"type\": \"bar\", \"x\": [\"ART_AND_DESIGN\", \"AUTO_AND_VEHICLES\", \"BEAUTY\", \"BOOKS_AND_REFERENCE\", \"BUSINESS\", \"COMICS\", \"COMMUNICATION\", \"DATING\", \"EDUCATION\", \"ENTERTAINMENT\", \"EVENTS\", \"FAMILY\", \"FINANCE\", \"FOOD_AND_DRINK\", \"GAME\", \"HEALTH_AND_FITNESS\", \"HOUSE_AND_HOME\", \"LIBRARIES_AND_DEMO\", \"LIFESTYLE\", \"MAPS_AND_NAVIGATION\", \"MEDICAL\", \"NEWS_AND_MAGAZINES\", \"PARENTING\", \"PERSONALIZATION\", \"PHOTOGRAPHY\", \"PRODUCTIVITY\", \"SHOPPING\", \"SOCIAL\", \"SPORTS\", \"TOOLS\", \"TRAVEL_AND_LOCAL\", \"VIDEO_PLAYERS\", \"WEATHER\"], \"y\": [0.0, 1.37, 0.0, 0.0, 2.31, 0.0, 0.91, 3.08, 0.0, 0.0, 0.0, 1.09, 2.79, 1.83, 0.27, 3.37, 0.0, 0.0, 3.5, 0.81, 2.29, 2.15, 2.0, 0.32, 0.95, 1.14, 0.84, 0.77, 0.63, 2.86, 2.21, 2.5, 0.0]}, {\"name\": \"3\", \"text\": [1.64, 6.85, 2.38, 6.18, 11.22, 15.52, 4.57, 11.79, 0.0, 2.68, 2.22, 6.13, 6.5, 7.34, 2.46, 5.72, 5.26, 4.69, 10.51, 12.9, 7.71, 7.3, 2.0, 1.92, 6.94, 5.7, 3.36, 3.86, 4.7, 10.78, 8.85, 10.0, 1.33], \"textposition\": \"auto\", \"type\": \"bar\", \"x\": [\"ART_AND_DESIGN\", \"AUTO_AND_VEHICLES\", \"BEAUTY\", \"BOOKS_AND_REFERENCE\", \"BUSINESS\", \"COMICS\", \"COMMUNICATION\", \"DATING\", \"EDUCATION\", \"ENTERTAINMENT\", \"EVENTS\", \"FAMILY\", \"FINANCE\", \"FOOD_AND_DRINK\", \"GAME\", \"HEALTH_AND_FITNESS\", \"HOUSE_AND_HOME\", \"LIBRARIES_AND_DEMO\", \"LIFESTYLE\", \"MAPS_AND_NAVIGATION\", \"MEDICAL\", \"NEWS_AND_MAGAZINES\", \"PARENTING\", \"PERSONALIZATION\", \"PHOTOGRAPHY\", \"PRODUCTIVITY\", \"SHOPPING\", \"SOCIAL\", \"SPORTS\", \"TOOLS\", \"TRAVEL_AND_LOCAL\", \"VIDEO_PLAYERS\", \"WEATHER\"], \"y\": [1.64, 6.85, 2.38, 6.18, 11.22, 15.52, 4.57, 11.79, 0.0, 2.68, 2.22, 6.13, 6.5, 7.34, 2.46, 5.72, 5.26, 4.69, 10.51, 12.9, 7.71, 7.3, 2.0, 1.92, 6.94, 5.7, 3.36, 3.86, 4.7, 10.78, 8.85, 10.0, 1.33]}, {\"name\": \"4\", \"text\": [62.3, 63.01, 71.43, 56.74, 64.36, 62.07, 86.28, 71.79, 68.39, 91.28, 55.56, 71.76, 66.87, 67.89, 77.48, 54.88, 80.26, 79.69, 59.24, 75.81, 60.29, 73.39, 58.0, 70.83, 77.6, 72.08, 77.73, 75.29, 75.86, 70.26, 77.88, 73.75, 86.67], \"textposition\": \"auto\", \"type\": \"bar\", \"x\": [\"ART_AND_DESIGN\", \"AUTO_AND_VEHICLES\", \"BEAUTY\", \"BOOKS_AND_REFERENCE\", \"BUSINESS\", \"COMICS\", \"COMMUNICATION\", \"DATING\", \"EDUCATION\", \"ENTERTAINMENT\", \"EVENTS\", \"FAMILY\", \"FINANCE\", \"FOOD_AND_DRINK\", \"GAME\", \"HEALTH_AND_FITNESS\", \"HOUSE_AND_HOME\", \"LIBRARIES_AND_DEMO\", \"LIFESTYLE\", \"MAPS_AND_NAVIGATION\", \"MEDICAL\", \"NEWS_AND_MAGAZINES\", \"PARENTING\", \"PERSONALIZATION\", \"PHOTOGRAPHY\", \"PRODUCTIVITY\", \"SHOPPING\", \"SOCIAL\", \"SPORTS\", \"TOOLS\", \"TRAVEL_AND_LOCAL\", \"VIDEO_PLAYERS\", \"WEATHER\"], \"y\": [62.3, 63.01, 71.43, 56.74, 64.36, 62.07, 86.28, 71.79, 68.39, 91.28, 55.56, 71.76, 66.87, 67.89, 77.48, 54.88, 80.26, 79.69, 59.24, 75.81, 60.29, 73.39, 58.0, 70.83, 77.6, 72.08, 77.73, 75.29, 75.86, 70.26, 77.88, 73.75, 86.67]}, {\"name\": \"5\", \"text\": [36.07, 28.77, 26.19, 37.08, 21.78, 22.41, 7.93, 12.82, 31.61, 6.04, 42.22, 20.85, 22.91, 22.94, 19.6, 35.69, 14.47, 15.62, 26.75, 10.48, 28.86, 17.17, 38.0, 26.92, 14.51, 20.8, 18.07, 20.08, 18.81, 15.55, 11.06, 13.75, 12.0], \"textposition\": \"auto\", \"type\": \"bar\", \"x\": [\"ART_AND_DESIGN\", \"AUTO_AND_VEHICLES\", \"BEAUTY\", \"BOOKS_AND_REFERENCE\", \"BUSINESS\", \"COMICS\", \"COMMUNICATION\", \"DATING\", \"EDUCATION\", \"ENTERTAINMENT\", \"EVENTS\", \"FAMILY\", \"FINANCE\", \"FOOD_AND_DRINK\", \"GAME\", \"HEALTH_AND_FITNESS\", \"HOUSE_AND_HOME\", \"LIBRARIES_AND_DEMO\", \"LIFESTYLE\", \"MAPS_AND_NAVIGATION\", \"MEDICAL\", \"NEWS_AND_MAGAZINES\", \"PARENTING\", \"PERSONALIZATION\", \"PHOTOGRAPHY\", \"PRODUCTIVITY\", \"SHOPPING\", \"SOCIAL\", \"SPORTS\", \"TOOLS\", \"TRAVEL_AND_LOCAL\", \"VIDEO_PLAYERS\", \"WEATHER\"], \"y\": [36.07, 28.77, 26.19, 37.08, 21.78, 22.41, 7.93, 12.82, 31.61, 6.04, 42.22, 20.85, 22.91, 22.94, 19.6, 35.69, 14.47, 15.62, 26.75, 10.48, 28.86, 17.17, 38.0, 26.92, 14.51, 20.8, 18.07, 20.08, 18.81, 15.55, 11.06, 13.75, 12.0]}],\n",
       "                        {\"barmode\": \"stack\", \"template\": {\"data\": {\"bar\": [{\"error_x\": {\"color\": \"#2a3f5f\"}, \"error_y\": {\"color\": \"#2a3f5f\"}, \"marker\": {\"line\": {\"color\": \"#E5ECF6\", \"width\": 0.5}}, \"type\": \"bar\"}], \"barpolar\": [{\"marker\": {\"line\": {\"color\": \"#E5ECF6\", \"width\": 0.5}}, \"type\": \"barpolar\"}], \"carpet\": [{\"aaxis\": {\"endlinecolor\": \"#2a3f5f\", \"gridcolor\": \"white\", \"linecolor\": \"white\", \"minorgridcolor\": \"white\", \"startlinecolor\": \"#2a3f5f\"}, \"baxis\": {\"endlinecolor\": \"#2a3f5f\", \"gridcolor\": \"white\", \"linecolor\": \"white\", \"minorgridcolor\": \"white\", \"startlinecolor\": \"#2a3f5f\"}, \"type\": \"carpet\"}], \"choropleth\": [{\"colorbar\": {\"outlinewidth\": 0, \"ticks\": \"\"}, \"type\": \"choropleth\"}], \"contour\": [{\"colorbar\": {\"outlinewidth\": 0, \"ticks\": \"\"}, \"colorscale\": [[0.0, \"#0d0887\"], [0.1111111111111111, \"#46039f\"], [0.2222222222222222, \"#7201a8\"], [0.3333333333333333, \"#9c179e\"], [0.4444444444444444, \"#bd3786\"], [0.5555555555555556, \"#d8576b\"], [0.6666666666666666, \"#ed7953\"], [0.7777777777777778, \"#fb9f3a\"], [0.8888888888888888, \"#fdca26\"], [1.0, \"#f0f921\"]], \"type\": \"contour\"}], \"contourcarpet\": [{\"colorbar\": {\"outlinewidth\": 0, \"ticks\": \"\"}, \"type\": \"contourcarpet\"}], \"heatmap\": [{\"colorbar\": {\"outlinewidth\": 0, \"ticks\": \"\"}, \"colorscale\": [[0.0, \"#0d0887\"], [0.1111111111111111, \"#46039f\"], [0.2222222222222222, \"#7201a8\"], [0.3333333333333333, \"#9c179e\"], [0.4444444444444444, \"#bd3786\"], [0.5555555555555556, \"#d8576b\"], [0.6666666666666666, \"#ed7953\"], [0.7777777777777778, \"#fb9f3a\"], [0.8888888888888888, \"#fdca26\"], [1.0, \"#f0f921\"]], \"type\": \"heatmap\"}], \"heatmapgl\": [{\"colorbar\": {\"outlinewidth\": 0, \"ticks\": \"\"}, \"colorscale\": [[0.0, \"#0d0887\"], [0.1111111111111111, \"#46039f\"], [0.2222222222222222, \"#7201a8\"], [0.3333333333333333, \"#9c179e\"], [0.4444444444444444, \"#bd3786\"], [0.5555555555555556, \"#d8576b\"], [0.6666666666666666, \"#ed7953\"], [0.7777777777777778, \"#fb9f3a\"], [0.8888888888888888, \"#fdca26\"], [1.0, \"#f0f921\"]], \"type\": \"heatmapgl\"}], \"histogram\": [{\"marker\": {\"colorbar\": {\"outlinewidth\": 0, \"ticks\": \"\"}}, \"type\": \"histogram\"}], \"histogram2d\": [{\"colorbar\": {\"outlinewidth\": 0, \"ticks\": \"\"}, \"colorscale\": [[0.0, \"#0d0887\"], [0.1111111111111111, \"#46039f\"], [0.2222222222222222, \"#7201a8\"], [0.3333333333333333, \"#9c179e\"], [0.4444444444444444, \"#bd3786\"], [0.5555555555555556, \"#d8576b\"], [0.6666666666666666, \"#ed7953\"], [0.7777777777777778, \"#fb9f3a\"], [0.8888888888888888, \"#fdca26\"], [1.0, \"#f0f921\"]], \"type\": \"histogram2d\"}], \"histogram2dcontour\": [{\"colorbar\": {\"outlinewidth\": 0, \"ticks\": \"\"}, \"colorscale\": [[0.0, \"#0d0887\"], [0.1111111111111111, \"#46039f\"], [0.2222222222222222, \"#7201a8\"], [0.3333333333333333, \"#9c179e\"], [0.4444444444444444, \"#bd3786\"], [0.5555555555555556, \"#d8576b\"], [0.6666666666666666, \"#ed7953\"], [0.7777777777777778, \"#fb9f3a\"], [0.8888888888888888, \"#fdca26\"], [1.0, \"#f0f921\"]], \"type\": \"histogram2dcontour\"}], \"mesh3d\": [{\"colorbar\": {\"outlinewidth\": 0, \"ticks\": \"\"}, \"type\": \"mesh3d\"}], \"parcoords\": [{\"line\": {\"colorbar\": {\"outlinewidth\": 0, \"ticks\": \"\"}}, \"type\": \"parcoords\"}], \"pie\": [{\"automargin\": true, \"type\": \"pie\"}], \"scatter\": [{\"marker\": {\"colorbar\": {\"outlinewidth\": 0, \"ticks\": \"\"}}, \"type\": \"scatter\"}], \"scatter3d\": [{\"line\": {\"colorbar\": {\"outlinewidth\": 0, \"ticks\": \"\"}}, \"marker\": {\"colorbar\": {\"outlinewidth\": 0, \"ticks\": \"\"}}, \"type\": \"scatter3d\"}], \"scattercarpet\": [{\"marker\": {\"colorbar\": {\"outlinewidth\": 0, \"ticks\": \"\"}}, \"type\": \"scattercarpet\"}], \"scattergeo\": [{\"marker\": {\"colorbar\": {\"outlinewidth\": 0, \"ticks\": \"\"}}, \"type\": \"scattergeo\"}], \"scattergl\": [{\"marker\": {\"colorbar\": {\"outlinewidth\": 0, \"ticks\": \"\"}}, \"type\": \"scattergl\"}], \"scattermapbox\": [{\"marker\": {\"colorbar\": {\"outlinewidth\": 0, \"ticks\": \"\"}}, \"type\": \"scattermapbox\"}], \"scatterpolar\": [{\"marker\": {\"colorbar\": {\"outlinewidth\": 0, \"ticks\": \"\"}}, \"type\": \"scatterpolar\"}], \"scatterpolargl\": [{\"marker\": {\"colorbar\": {\"outlinewidth\": 0, \"ticks\": \"\"}}, \"type\": \"scatterpolargl\"}], \"scatterternary\": [{\"marker\": {\"colorbar\": {\"outlinewidth\": 0, \"ticks\": \"\"}}, \"type\": \"scatterternary\"}], \"surface\": [{\"colorbar\": {\"outlinewidth\": 0, \"ticks\": \"\"}, \"colorscale\": [[0.0, \"#0d0887\"], [0.1111111111111111, \"#46039f\"], [0.2222222222222222, \"#7201a8\"], [0.3333333333333333, \"#9c179e\"], [0.4444444444444444, \"#bd3786\"], [0.5555555555555556, \"#d8576b\"], [0.6666666666666666, \"#ed7953\"], [0.7777777777777778, \"#fb9f3a\"], [0.8888888888888888, \"#fdca26\"], [1.0, \"#f0f921\"]], \"type\": \"surface\"}], \"table\": [{\"cells\": {\"fill\": {\"color\": \"#EBF0F8\"}, \"line\": {\"color\": \"white\"}}, \"header\": {\"fill\": {\"color\": \"#C8D4E3\"}, \"line\": {\"color\": \"white\"}}, \"type\": \"table\"}]}, \"layout\": {\"annotationdefaults\": {\"arrowcolor\": \"#2a3f5f\", \"arrowhead\": 0, \"arrowwidth\": 1}, \"coloraxis\": {\"colorbar\": {\"outlinewidth\": 0, \"ticks\": \"\"}}, \"colorscale\": {\"diverging\": [[0, \"#8e0152\"], [0.1, \"#c51b7d\"], [0.2, \"#de77ae\"], [0.3, \"#f1b6da\"], [0.4, \"#fde0ef\"], [0.5, \"#f7f7f7\"], [0.6, \"#e6f5d0\"], [0.7, \"#b8e186\"], [0.8, \"#7fbc41\"], [0.9, \"#4d9221\"], [1, \"#276419\"]], \"sequential\": [[0.0, \"#0d0887\"], [0.1111111111111111, \"#46039f\"], [0.2222222222222222, \"#7201a8\"], [0.3333333333333333, \"#9c179e\"], [0.4444444444444444, \"#bd3786\"], [0.5555555555555556, \"#d8576b\"], [0.6666666666666666, \"#ed7953\"], [0.7777777777777778, \"#fb9f3a\"], [0.8888888888888888, \"#fdca26\"], [1.0, \"#f0f921\"]], \"sequentialminus\": [[0.0, \"#0d0887\"], [0.1111111111111111, \"#46039f\"], [0.2222222222222222, \"#7201a8\"], [0.3333333333333333, \"#9c179e\"], [0.4444444444444444, \"#bd3786\"], [0.5555555555555556, \"#d8576b\"], [0.6666666666666666, \"#ed7953\"], [0.7777777777777778, \"#fb9f3a\"], [0.8888888888888888, \"#fdca26\"], [1.0, \"#f0f921\"]]}, \"colorway\": [\"#636efa\", \"#EF553B\", \"#00cc96\", \"#ab63fa\", \"#FFA15A\", \"#19d3f3\", \"#FF6692\", \"#B6E880\", \"#FF97FF\", \"#FECB52\"], \"font\": {\"color\": \"#2a3f5f\"}, \"geo\": {\"bgcolor\": \"white\", \"lakecolor\": \"white\", \"landcolor\": \"#E5ECF6\", \"showlakes\": true, \"showland\": true, \"subunitcolor\": \"white\"}, \"hoverlabel\": {\"align\": \"left\"}, \"hovermode\": \"closest\", \"mapbox\": {\"style\": \"light\"}, \"paper_bgcolor\": \"white\", \"plot_bgcolor\": \"#E5ECF6\", \"polar\": {\"angularaxis\": {\"gridcolor\": \"white\", \"linecolor\": \"white\", \"ticks\": \"\"}, \"bgcolor\": \"#E5ECF6\", \"radialaxis\": {\"gridcolor\": \"white\", \"linecolor\": \"white\", \"ticks\": \"\"}}, \"scene\": {\"xaxis\": {\"backgroundcolor\": \"#E5ECF6\", \"gridcolor\": \"white\", \"gridwidth\": 2, \"linecolor\": \"white\", \"showbackground\": true, \"ticks\": \"\", \"zerolinecolor\": \"white\"}, \"yaxis\": {\"backgroundcolor\": \"#E5ECF6\", \"gridcolor\": \"white\", \"gridwidth\": 2, \"linecolor\": \"white\", \"showbackground\": true, \"ticks\": \"\", \"zerolinecolor\": \"white\"}, \"zaxis\": {\"backgroundcolor\": \"#E5ECF6\", \"gridcolor\": \"white\", \"gridwidth\": 2, \"linecolor\": \"white\", \"showbackground\": true, \"ticks\": \"\", \"zerolinecolor\": \"white\"}}, \"shapedefaults\": {\"line\": {\"color\": \"#2a3f5f\"}}, \"ternary\": {\"aaxis\": {\"gridcolor\": \"white\", \"linecolor\": \"white\", \"ticks\": \"\"}, \"baxis\": {\"gridcolor\": \"white\", \"linecolor\": \"white\", \"ticks\": \"\"}, \"bgcolor\": \"#E5ECF6\", \"caxis\": {\"gridcolor\": \"white\", \"linecolor\": \"white\", \"ticks\": \"\"}}, \"title\": {\"x\": 0.05}, \"xaxis\": {\"automargin\": true, \"gridcolor\": \"white\", \"linecolor\": \"white\", \"ticks\": \"\", \"title\": {\"standoff\": 15}, \"zerolinecolor\": \"white\", \"zerolinewidth\": 2}, \"yaxis\": {\"automargin\": true, \"gridcolor\": \"white\", \"linecolor\": \"white\", \"ticks\": \"\", \"title\": {\"standoff\": 15}, \"zerolinecolor\": \"white\", \"zerolinewidth\": 2}}}, \"title\": {\"text\": \"Rating distribution by Category\"}},\n",
       "                        {\"responsive\": true}\n",
       "                    ).then(function(){\n",
       "                            \n",
       "var gd = document.getElementById('6ea3255f-87db-4e1b-b136-5346e69c42f3');\n",
       "var x = new MutationObserver(function (mutations, observer) {{\n",
       "        var display = window.getComputedStyle(gd).display;\n",
       "        if (!display || display === 'none') {{\n",
       "            console.log([gd, 'removed!']);\n",
       "            Plotly.purge(gd);\n",
       "            observer.disconnect();\n",
       "        }}\n",
       "}});\n",
       "\n",
       "// Listen for the removal of the full notebook cells\n",
       "var notebookContainer = gd.closest('#notebook-container');\n",
       "if (notebookContainer) {{\n",
       "    x.observe(notebookContainer, {childList: true});\n",
       "}}\n",
       "\n",
       "// Listen for the clearing of the current output cell\n",
       "var outputEl = gd.closest('.output');\n",
       "if (outputEl) {{\n",
       "    x.observe(outputEl, {childList: true});\n",
       "}}\n",
       "\n",
       "                        })\n",
       "                };\n",
       "                });\n",
       "            </script>\n",
       "        </div>"
      ]
     },
     "metadata": {},
     "output_type": "display_data"
    }
   ],
   "source": [
    "get_cat_ratings_chart('Category')"
   ]
  },
  {
   "cell_type": "code",
   "execution_count": 727,
   "metadata": {},
   "outputs": [
    {
     "data": {
      "application/vnd.plotly.v1+json": {
       "config": {
        "plotlyServerURL": "https://plot.ly"
       },
       "data": [
        {
         "name": "1",
         "text": [
          0.21,
          0.31
         ],
         "textposition": "auto",
         "type": "bar",
         "x": [
          "Free",
          "Paid"
         ],
         "y": [
          0.21,
          0.31
         ]
        },
        {
         "name": "2",
         "text": [
          1.4,
          1.24
         ],
         "textposition": "auto",
         "type": "bar",
         "x": [
          "Free",
          "Paid"
         ],
         "y": [
          1.4,
          1.24
         ]
        },
        {
         "name": "3",
         "text": [
          6.2,
          6.51
         ],
         "textposition": "auto",
         "type": "bar",
         "x": [
          "Free",
          "Paid"
         ],
         "y": [
          6.2,
          6.51
         ]
        },
        {
         "name": "4",
         "text": [
          72.59,
          59.69
         ],
         "textposition": "auto",
         "type": "bar",
         "x": [
          "Free",
          "Paid"
         ],
         "y": [
          72.59,
          59.69
         ]
        },
        {
         "name": "5",
         "text": [
          19.61,
          32.25
         ],
         "textposition": "auto",
         "type": "bar",
         "x": [
          "Free",
          "Paid"
         ],
         "y": [
          19.61,
          32.25
         ]
        }
       ],
       "layout": {
        "barmode": "stack",
        "template": {
         "data": {
          "bar": [
           {
            "error_x": {
             "color": "#2a3f5f"
            },
            "error_y": {
             "color": "#2a3f5f"
            },
            "marker": {
             "line": {
              "color": "#E5ECF6",
              "width": 0.5
             }
            },
            "type": "bar"
           }
          ],
          "barpolar": [
           {
            "marker": {
             "line": {
              "color": "#E5ECF6",
              "width": 0.5
             }
            },
            "type": "barpolar"
           }
          ],
          "carpet": [
           {
            "aaxis": {
             "endlinecolor": "#2a3f5f",
             "gridcolor": "white",
             "linecolor": "white",
             "minorgridcolor": "white",
             "startlinecolor": "#2a3f5f"
            },
            "baxis": {
             "endlinecolor": "#2a3f5f",
             "gridcolor": "white",
             "linecolor": "white",
             "minorgridcolor": "white",
             "startlinecolor": "#2a3f5f"
            },
            "type": "carpet"
           }
          ],
          "choropleth": [
           {
            "colorbar": {
             "outlinewidth": 0,
             "ticks": ""
            },
            "type": "choropleth"
           }
          ],
          "contour": [
           {
            "colorbar": {
             "outlinewidth": 0,
             "ticks": ""
            },
            "colorscale": [
             [
              0,
              "#0d0887"
             ],
             [
              0.1111111111111111,
              "#46039f"
             ],
             [
              0.2222222222222222,
              "#7201a8"
             ],
             [
              0.3333333333333333,
              "#9c179e"
             ],
             [
              0.4444444444444444,
              "#bd3786"
             ],
             [
              0.5555555555555556,
              "#d8576b"
             ],
             [
              0.6666666666666666,
              "#ed7953"
             ],
             [
              0.7777777777777778,
              "#fb9f3a"
             ],
             [
              0.8888888888888888,
              "#fdca26"
             ],
             [
              1,
              "#f0f921"
             ]
            ],
            "type": "contour"
           }
          ],
          "contourcarpet": [
           {
            "colorbar": {
             "outlinewidth": 0,
             "ticks": ""
            },
            "type": "contourcarpet"
           }
          ],
          "heatmap": [
           {
            "colorbar": {
             "outlinewidth": 0,
             "ticks": ""
            },
            "colorscale": [
             [
              0,
              "#0d0887"
             ],
             [
              0.1111111111111111,
              "#46039f"
             ],
             [
              0.2222222222222222,
              "#7201a8"
             ],
             [
              0.3333333333333333,
              "#9c179e"
             ],
             [
              0.4444444444444444,
              "#bd3786"
             ],
             [
              0.5555555555555556,
              "#d8576b"
             ],
             [
              0.6666666666666666,
              "#ed7953"
             ],
             [
              0.7777777777777778,
              "#fb9f3a"
             ],
             [
              0.8888888888888888,
              "#fdca26"
             ],
             [
              1,
              "#f0f921"
             ]
            ],
            "type": "heatmap"
           }
          ],
          "heatmapgl": [
           {
            "colorbar": {
             "outlinewidth": 0,
             "ticks": ""
            },
            "colorscale": [
             [
              0,
              "#0d0887"
             ],
             [
              0.1111111111111111,
              "#46039f"
             ],
             [
              0.2222222222222222,
              "#7201a8"
             ],
             [
              0.3333333333333333,
              "#9c179e"
             ],
             [
              0.4444444444444444,
              "#bd3786"
             ],
             [
              0.5555555555555556,
              "#d8576b"
             ],
             [
              0.6666666666666666,
              "#ed7953"
             ],
             [
              0.7777777777777778,
              "#fb9f3a"
             ],
             [
              0.8888888888888888,
              "#fdca26"
             ],
             [
              1,
              "#f0f921"
             ]
            ],
            "type": "heatmapgl"
           }
          ],
          "histogram": [
           {
            "marker": {
             "colorbar": {
              "outlinewidth": 0,
              "ticks": ""
             }
            },
            "type": "histogram"
           }
          ],
          "histogram2d": [
           {
            "colorbar": {
             "outlinewidth": 0,
             "ticks": ""
            },
            "colorscale": [
             [
              0,
              "#0d0887"
             ],
             [
              0.1111111111111111,
              "#46039f"
             ],
             [
              0.2222222222222222,
              "#7201a8"
             ],
             [
              0.3333333333333333,
              "#9c179e"
             ],
             [
              0.4444444444444444,
              "#bd3786"
             ],
             [
              0.5555555555555556,
              "#d8576b"
             ],
             [
              0.6666666666666666,
              "#ed7953"
             ],
             [
              0.7777777777777778,
              "#fb9f3a"
             ],
             [
              0.8888888888888888,
              "#fdca26"
             ],
             [
              1,
              "#f0f921"
             ]
            ],
            "type": "histogram2d"
           }
          ],
          "histogram2dcontour": [
           {
            "colorbar": {
             "outlinewidth": 0,
             "ticks": ""
            },
            "colorscale": [
             [
              0,
              "#0d0887"
             ],
             [
              0.1111111111111111,
              "#46039f"
             ],
             [
              0.2222222222222222,
              "#7201a8"
             ],
             [
              0.3333333333333333,
              "#9c179e"
             ],
             [
              0.4444444444444444,
              "#bd3786"
             ],
             [
              0.5555555555555556,
              "#d8576b"
             ],
             [
              0.6666666666666666,
              "#ed7953"
             ],
             [
              0.7777777777777778,
              "#fb9f3a"
             ],
             [
              0.8888888888888888,
              "#fdca26"
             ],
             [
              1,
              "#f0f921"
             ]
            ],
            "type": "histogram2dcontour"
           }
          ],
          "mesh3d": [
           {
            "colorbar": {
             "outlinewidth": 0,
             "ticks": ""
            },
            "type": "mesh3d"
           }
          ],
          "parcoords": [
           {
            "line": {
             "colorbar": {
              "outlinewidth": 0,
              "ticks": ""
             }
            },
            "type": "parcoords"
           }
          ],
          "pie": [
           {
            "automargin": true,
            "type": "pie"
           }
          ],
          "scatter": [
           {
            "marker": {
             "colorbar": {
              "outlinewidth": 0,
              "ticks": ""
             }
            },
            "type": "scatter"
           }
          ],
          "scatter3d": [
           {
            "line": {
             "colorbar": {
              "outlinewidth": 0,
              "ticks": ""
             }
            },
            "marker": {
             "colorbar": {
              "outlinewidth": 0,
              "ticks": ""
             }
            },
            "type": "scatter3d"
           }
          ],
          "scattercarpet": [
           {
            "marker": {
             "colorbar": {
              "outlinewidth": 0,
              "ticks": ""
             }
            },
            "type": "scattercarpet"
           }
          ],
          "scattergeo": [
           {
            "marker": {
             "colorbar": {
              "outlinewidth": 0,
              "ticks": ""
             }
            },
            "type": "scattergeo"
           }
          ],
          "scattergl": [
           {
            "marker": {
             "colorbar": {
              "outlinewidth": 0,
              "ticks": ""
             }
            },
            "type": "scattergl"
           }
          ],
          "scattermapbox": [
           {
            "marker": {
             "colorbar": {
              "outlinewidth": 0,
              "ticks": ""
             }
            },
            "type": "scattermapbox"
           }
          ],
          "scatterpolar": [
           {
            "marker": {
             "colorbar": {
              "outlinewidth": 0,
              "ticks": ""
             }
            },
            "type": "scatterpolar"
           }
          ],
          "scatterpolargl": [
           {
            "marker": {
             "colorbar": {
              "outlinewidth": 0,
              "ticks": ""
             }
            },
            "type": "scatterpolargl"
           }
          ],
          "scatterternary": [
           {
            "marker": {
             "colorbar": {
              "outlinewidth": 0,
              "ticks": ""
             }
            },
            "type": "scatterternary"
           }
          ],
          "surface": [
           {
            "colorbar": {
             "outlinewidth": 0,
             "ticks": ""
            },
            "colorscale": [
             [
              0,
              "#0d0887"
             ],
             [
              0.1111111111111111,
              "#46039f"
             ],
             [
              0.2222222222222222,
              "#7201a8"
             ],
             [
              0.3333333333333333,
              "#9c179e"
             ],
             [
              0.4444444444444444,
              "#bd3786"
             ],
             [
              0.5555555555555556,
              "#d8576b"
             ],
             [
              0.6666666666666666,
              "#ed7953"
             ],
             [
              0.7777777777777778,
              "#fb9f3a"
             ],
             [
              0.8888888888888888,
              "#fdca26"
             ],
             [
              1,
              "#f0f921"
             ]
            ],
            "type": "surface"
           }
          ],
          "table": [
           {
            "cells": {
             "fill": {
              "color": "#EBF0F8"
             },
             "line": {
              "color": "white"
             }
            },
            "header": {
             "fill": {
              "color": "#C8D4E3"
             },
             "line": {
              "color": "white"
             }
            },
            "type": "table"
           }
          ]
         },
         "layout": {
          "annotationdefaults": {
           "arrowcolor": "#2a3f5f",
           "arrowhead": 0,
           "arrowwidth": 1
          },
          "coloraxis": {
           "colorbar": {
            "outlinewidth": 0,
            "ticks": ""
           }
          },
          "colorscale": {
           "diverging": [
            [
             0,
             "#8e0152"
            ],
            [
             0.1,
             "#c51b7d"
            ],
            [
             0.2,
             "#de77ae"
            ],
            [
             0.3,
             "#f1b6da"
            ],
            [
             0.4,
             "#fde0ef"
            ],
            [
             0.5,
             "#f7f7f7"
            ],
            [
             0.6,
             "#e6f5d0"
            ],
            [
             0.7,
             "#b8e186"
            ],
            [
             0.8,
             "#7fbc41"
            ],
            [
             0.9,
             "#4d9221"
            ],
            [
             1,
             "#276419"
            ]
           ],
           "sequential": [
            [
             0,
             "#0d0887"
            ],
            [
             0.1111111111111111,
             "#46039f"
            ],
            [
             0.2222222222222222,
             "#7201a8"
            ],
            [
             0.3333333333333333,
             "#9c179e"
            ],
            [
             0.4444444444444444,
             "#bd3786"
            ],
            [
             0.5555555555555556,
             "#d8576b"
            ],
            [
             0.6666666666666666,
             "#ed7953"
            ],
            [
             0.7777777777777778,
             "#fb9f3a"
            ],
            [
             0.8888888888888888,
             "#fdca26"
            ],
            [
             1,
             "#f0f921"
            ]
           ],
           "sequentialminus": [
            [
             0,
             "#0d0887"
            ],
            [
             0.1111111111111111,
             "#46039f"
            ],
            [
             0.2222222222222222,
             "#7201a8"
            ],
            [
             0.3333333333333333,
             "#9c179e"
            ],
            [
             0.4444444444444444,
             "#bd3786"
            ],
            [
             0.5555555555555556,
             "#d8576b"
            ],
            [
             0.6666666666666666,
             "#ed7953"
            ],
            [
             0.7777777777777778,
             "#fb9f3a"
            ],
            [
             0.8888888888888888,
             "#fdca26"
            ],
            [
             1,
             "#f0f921"
            ]
           ]
          },
          "colorway": [
           "#636efa",
           "#EF553B",
           "#00cc96",
           "#ab63fa",
           "#FFA15A",
           "#19d3f3",
           "#FF6692",
           "#B6E880",
           "#FF97FF",
           "#FECB52"
          ],
          "font": {
           "color": "#2a3f5f"
          },
          "geo": {
           "bgcolor": "white",
           "lakecolor": "white",
           "landcolor": "#E5ECF6",
           "showlakes": true,
           "showland": true,
           "subunitcolor": "white"
          },
          "hoverlabel": {
           "align": "left"
          },
          "hovermode": "closest",
          "mapbox": {
           "style": "light"
          },
          "paper_bgcolor": "white",
          "plot_bgcolor": "#E5ECF6",
          "polar": {
           "angularaxis": {
            "gridcolor": "white",
            "linecolor": "white",
            "ticks": ""
           },
           "bgcolor": "#E5ECF6",
           "radialaxis": {
            "gridcolor": "white",
            "linecolor": "white",
            "ticks": ""
           }
          },
          "scene": {
           "xaxis": {
            "backgroundcolor": "#E5ECF6",
            "gridcolor": "white",
            "gridwidth": 2,
            "linecolor": "white",
            "showbackground": true,
            "ticks": "",
            "zerolinecolor": "white"
           },
           "yaxis": {
            "backgroundcolor": "#E5ECF6",
            "gridcolor": "white",
            "gridwidth": 2,
            "linecolor": "white",
            "showbackground": true,
            "ticks": "",
            "zerolinecolor": "white"
           },
           "zaxis": {
            "backgroundcolor": "#E5ECF6",
            "gridcolor": "white",
            "gridwidth": 2,
            "linecolor": "white",
            "showbackground": true,
            "ticks": "",
            "zerolinecolor": "white"
           }
          },
          "shapedefaults": {
           "line": {
            "color": "#2a3f5f"
           }
          },
          "ternary": {
           "aaxis": {
            "gridcolor": "white",
            "linecolor": "white",
            "ticks": ""
           },
           "baxis": {
            "gridcolor": "white",
            "linecolor": "white",
            "ticks": ""
           },
           "bgcolor": "#E5ECF6",
           "caxis": {
            "gridcolor": "white",
            "linecolor": "white",
            "ticks": ""
           }
          },
          "title": {
           "x": 0.05
          },
          "xaxis": {
           "automargin": true,
           "gridcolor": "white",
           "linecolor": "white",
           "ticks": "",
           "title": {
            "standoff": 15
           },
           "zerolinecolor": "white",
           "zerolinewidth": 2
          },
          "yaxis": {
           "automargin": true,
           "gridcolor": "white",
           "linecolor": "white",
           "ticks": "",
           "title": {
            "standoff": 15
           },
           "zerolinecolor": "white",
           "zerolinewidth": 2
          }
         }
        },
        "title": {
         "text": "Rating distribution by Type"
        }
       }
      },
      "text/html": [
       "<div>\n",
       "        \n",
       "        \n",
       "            <div id=\"5a64845c-d5df-4af3-a0db-8874dc93dfb9\" class=\"plotly-graph-div\" style=\"height:525px; width:100%;\"></div>\n",
       "            <script type=\"text/javascript\">\n",
       "                require([\"plotly\"], function(Plotly) {\n",
       "                    window.PLOTLYENV=window.PLOTLYENV || {};\n",
       "                    \n",
       "                if (document.getElementById(\"5a64845c-d5df-4af3-a0db-8874dc93dfb9\")) {\n",
       "                    Plotly.newPlot(\n",
       "                        '5a64845c-d5df-4af3-a0db-8874dc93dfb9',\n",
       "                        [{\"name\": \"1\", \"text\": [0.21, 0.31], \"textposition\": \"auto\", \"type\": \"bar\", \"x\": [\"Free\", \"Paid\"], \"y\": [0.21, 0.31]}, {\"name\": \"2\", \"text\": [1.4, 1.24], \"textposition\": \"auto\", \"type\": \"bar\", \"x\": [\"Free\", \"Paid\"], \"y\": [1.4, 1.24]}, {\"name\": \"3\", \"text\": [6.2, 6.51], \"textposition\": \"auto\", \"type\": \"bar\", \"x\": [\"Free\", \"Paid\"], \"y\": [6.2, 6.51]}, {\"name\": \"4\", \"text\": [72.59, 59.69], \"textposition\": \"auto\", \"type\": \"bar\", \"x\": [\"Free\", \"Paid\"], \"y\": [72.59, 59.69]}, {\"name\": \"5\", \"text\": [19.61, 32.25], \"textposition\": \"auto\", \"type\": \"bar\", \"x\": [\"Free\", \"Paid\"], \"y\": [19.61, 32.25]}],\n",
       "                        {\"barmode\": \"stack\", \"template\": {\"data\": {\"bar\": [{\"error_x\": {\"color\": \"#2a3f5f\"}, \"error_y\": {\"color\": \"#2a3f5f\"}, \"marker\": {\"line\": {\"color\": \"#E5ECF6\", \"width\": 0.5}}, \"type\": \"bar\"}], \"barpolar\": [{\"marker\": {\"line\": {\"color\": \"#E5ECF6\", \"width\": 0.5}}, \"type\": \"barpolar\"}], \"carpet\": [{\"aaxis\": {\"endlinecolor\": \"#2a3f5f\", \"gridcolor\": \"white\", \"linecolor\": \"white\", \"minorgridcolor\": \"white\", \"startlinecolor\": \"#2a3f5f\"}, \"baxis\": {\"endlinecolor\": \"#2a3f5f\", \"gridcolor\": \"white\", \"linecolor\": \"white\", \"minorgridcolor\": \"white\", \"startlinecolor\": \"#2a3f5f\"}, \"type\": \"carpet\"}], \"choropleth\": [{\"colorbar\": {\"outlinewidth\": 0, \"ticks\": \"\"}, \"type\": \"choropleth\"}], \"contour\": [{\"colorbar\": {\"outlinewidth\": 0, \"ticks\": \"\"}, \"colorscale\": [[0.0, \"#0d0887\"], [0.1111111111111111, \"#46039f\"], [0.2222222222222222, \"#7201a8\"], [0.3333333333333333, \"#9c179e\"], [0.4444444444444444, \"#bd3786\"], [0.5555555555555556, \"#d8576b\"], [0.6666666666666666, \"#ed7953\"], [0.7777777777777778, \"#fb9f3a\"], [0.8888888888888888, \"#fdca26\"], [1.0, \"#f0f921\"]], \"type\": \"contour\"}], \"contourcarpet\": [{\"colorbar\": {\"outlinewidth\": 0, \"ticks\": \"\"}, \"type\": \"contourcarpet\"}], \"heatmap\": [{\"colorbar\": {\"outlinewidth\": 0, \"ticks\": \"\"}, \"colorscale\": [[0.0, \"#0d0887\"], [0.1111111111111111, \"#46039f\"], [0.2222222222222222, \"#7201a8\"], [0.3333333333333333, \"#9c179e\"], [0.4444444444444444, \"#bd3786\"], [0.5555555555555556, \"#d8576b\"], [0.6666666666666666, \"#ed7953\"], [0.7777777777777778, \"#fb9f3a\"], [0.8888888888888888, \"#fdca26\"], [1.0, \"#f0f921\"]], \"type\": \"heatmap\"}], \"heatmapgl\": [{\"colorbar\": {\"outlinewidth\": 0, \"ticks\": \"\"}, \"colorscale\": [[0.0, \"#0d0887\"], [0.1111111111111111, \"#46039f\"], [0.2222222222222222, \"#7201a8\"], [0.3333333333333333, \"#9c179e\"], [0.4444444444444444, \"#bd3786\"], [0.5555555555555556, \"#d8576b\"], [0.6666666666666666, \"#ed7953\"], [0.7777777777777778, \"#fb9f3a\"], [0.8888888888888888, \"#fdca26\"], [1.0, \"#f0f921\"]], \"type\": \"heatmapgl\"}], \"histogram\": [{\"marker\": {\"colorbar\": {\"outlinewidth\": 0, \"ticks\": \"\"}}, \"type\": \"histogram\"}], \"histogram2d\": [{\"colorbar\": {\"outlinewidth\": 0, \"ticks\": \"\"}, \"colorscale\": [[0.0, \"#0d0887\"], [0.1111111111111111, \"#46039f\"], [0.2222222222222222, \"#7201a8\"], [0.3333333333333333, \"#9c179e\"], [0.4444444444444444, \"#bd3786\"], [0.5555555555555556, \"#d8576b\"], [0.6666666666666666, \"#ed7953\"], [0.7777777777777778, \"#fb9f3a\"], [0.8888888888888888, \"#fdca26\"], [1.0, \"#f0f921\"]], \"type\": \"histogram2d\"}], \"histogram2dcontour\": [{\"colorbar\": {\"outlinewidth\": 0, \"ticks\": \"\"}, \"colorscale\": [[0.0, \"#0d0887\"], [0.1111111111111111, \"#46039f\"], [0.2222222222222222, \"#7201a8\"], [0.3333333333333333, \"#9c179e\"], [0.4444444444444444, \"#bd3786\"], [0.5555555555555556, \"#d8576b\"], [0.6666666666666666, \"#ed7953\"], [0.7777777777777778, \"#fb9f3a\"], [0.8888888888888888, \"#fdca26\"], [1.0, \"#f0f921\"]], \"type\": \"histogram2dcontour\"}], \"mesh3d\": [{\"colorbar\": {\"outlinewidth\": 0, \"ticks\": \"\"}, \"type\": \"mesh3d\"}], \"parcoords\": [{\"line\": {\"colorbar\": {\"outlinewidth\": 0, \"ticks\": \"\"}}, \"type\": \"parcoords\"}], \"pie\": [{\"automargin\": true, \"type\": \"pie\"}], \"scatter\": [{\"marker\": {\"colorbar\": {\"outlinewidth\": 0, \"ticks\": \"\"}}, \"type\": \"scatter\"}], \"scatter3d\": [{\"line\": {\"colorbar\": {\"outlinewidth\": 0, \"ticks\": \"\"}}, \"marker\": {\"colorbar\": {\"outlinewidth\": 0, \"ticks\": \"\"}}, \"type\": \"scatter3d\"}], \"scattercarpet\": [{\"marker\": {\"colorbar\": {\"outlinewidth\": 0, \"ticks\": \"\"}}, \"type\": \"scattercarpet\"}], \"scattergeo\": [{\"marker\": {\"colorbar\": {\"outlinewidth\": 0, \"ticks\": \"\"}}, \"type\": \"scattergeo\"}], \"scattergl\": [{\"marker\": {\"colorbar\": {\"outlinewidth\": 0, \"ticks\": \"\"}}, \"type\": \"scattergl\"}], \"scattermapbox\": [{\"marker\": {\"colorbar\": {\"outlinewidth\": 0, \"ticks\": \"\"}}, \"type\": \"scattermapbox\"}], \"scatterpolar\": [{\"marker\": {\"colorbar\": {\"outlinewidth\": 0, \"ticks\": \"\"}}, \"type\": \"scatterpolar\"}], \"scatterpolargl\": [{\"marker\": {\"colorbar\": {\"outlinewidth\": 0, \"ticks\": \"\"}}, \"type\": \"scatterpolargl\"}], \"scatterternary\": [{\"marker\": {\"colorbar\": {\"outlinewidth\": 0, \"ticks\": \"\"}}, \"type\": \"scatterternary\"}], \"surface\": [{\"colorbar\": {\"outlinewidth\": 0, \"ticks\": \"\"}, \"colorscale\": [[0.0, \"#0d0887\"], [0.1111111111111111, \"#46039f\"], [0.2222222222222222, \"#7201a8\"], [0.3333333333333333, \"#9c179e\"], [0.4444444444444444, \"#bd3786\"], [0.5555555555555556, \"#d8576b\"], [0.6666666666666666, \"#ed7953\"], [0.7777777777777778, \"#fb9f3a\"], [0.8888888888888888, \"#fdca26\"], [1.0, \"#f0f921\"]], \"type\": \"surface\"}], \"table\": [{\"cells\": {\"fill\": {\"color\": \"#EBF0F8\"}, \"line\": {\"color\": \"white\"}}, \"header\": {\"fill\": {\"color\": \"#C8D4E3\"}, \"line\": {\"color\": \"white\"}}, \"type\": \"table\"}]}, \"layout\": {\"annotationdefaults\": {\"arrowcolor\": \"#2a3f5f\", \"arrowhead\": 0, \"arrowwidth\": 1}, \"coloraxis\": {\"colorbar\": {\"outlinewidth\": 0, \"ticks\": \"\"}}, \"colorscale\": {\"diverging\": [[0, \"#8e0152\"], [0.1, \"#c51b7d\"], [0.2, \"#de77ae\"], [0.3, \"#f1b6da\"], [0.4, \"#fde0ef\"], [0.5, \"#f7f7f7\"], [0.6, \"#e6f5d0\"], [0.7, \"#b8e186\"], [0.8, \"#7fbc41\"], [0.9, \"#4d9221\"], [1, \"#276419\"]], \"sequential\": [[0.0, \"#0d0887\"], [0.1111111111111111, \"#46039f\"], [0.2222222222222222, \"#7201a8\"], [0.3333333333333333, \"#9c179e\"], [0.4444444444444444, \"#bd3786\"], [0.5555555555555556, \"#d8576b\"], [0.6666666666666666, \"#ed7953\"], [0.7777777777777778, \"#fb9f3a\"], [0.8888888888888888, \"#fdca26\"], [1.0, \"#f0f921\"]], \"sequentialminus\": [[0.0, \"#0d0887\"], [0.1111111111111111, \"#46039f\"], [0.2222222222222222, \"#7201a8\"], [0.3333333333333333, \"#9c179e\"], [0.4444444444444444, \"#bd3786\"], [0.5555555555555556, \"#d8576b\"], [0.6666666666666666, \"#ed7953\"], [0.7777777777777778, \"#fb9f3a\"], [0.8888888888888888, \"#fdca26\"], [1.0, \"#f0f921\"]]}, \"colorway\": [\"#636efa\", \"#EF553B\", \"#00cc96\", \"#ab63fa\", \"#FFA15A\", \"#19d3f3\", \"#FF6692\", \"#B6E880\", \"#FF97FF\", \"#FECB52\"], \"font\": {\"color\": \"#2a3f5f\"}, \"geo\": {\"bgcolor\": \"white\", \"lakecolor\": \"white\", \"landcolor\": \"#E5ECF6\", \"showlakes\": true, \"showland\": true, \"subunitcolor\": \"white\"}, \"hoverlabel\": {\"align\": \"left\"}, \"hovermode\": \"closest\", \"mapbox\": {\"style\": \"light\"}, \"paper_bgcolor\": \"white\", \"plot_bgcolor\": \"#E5ECF6\", \"polar\": {\"angularaxis\": {\"gridcolor\": \"white\", \"linecolor\": \"white\", \"ticks\": \"\"}, \"bgcolor\": \"#E5ECF6\", \"radialaxis\": {\"gridcolor\": \"white\", \"linecolor\": \"white\", \"ticks\": \"\"}}, \"scene\": {\"xaxis\": {\"backgroundcolor\": \"#E5ECF6\", \"gridcolor\": \"white\", \"gridwidth\": 2, \"linecolor\": \"white\", \"showbackground\": true, \"ticks\": \"\", \"zerolinecolor\": \"white\"}, \"yaxis\": {\"backgroundcolor\": \"#E5ECF6\", \"gridcolor\": \"white\", \"gridwidth\": 2, \"linecolor\": \"white\", \"showbackground\": true, \"ticks\": \"\", \"zerolinecolor\": \"white\"}, \"zaxis\": {\"backgroundcolor\": \"#E5ECF6\", \"gridcolor\": \"white\", \"gridwidth\": 2, \"linecolor\": \"white\", \"showbackground\": true, \"ticks\": \"\", \"zerolinecolor\": \"white\"}}, \"shapedefaults\": {\"line\": {\"color\": \"#2a3f5f\"}}, \"ternary\": {\"aaxis\": {\"gridcolor\": \"white\", \"linecolor\": \"white\", \"ticks\": \"\"}, \"baxis\": {\"gridcolor\": \"white\", \"linecolor\": \"white\", \"ticks\": \"\"}, \"bgcolor\": \"#E5ECF6\", \"caxis\": {\"gridcolor\": \"white\", \"linecolor\": \"white\", \"ticks\": \"\"}}, \"title\": {\"x\": 0.05}, \"xaxis\": {\"automargin\": true, \"gridcolor\": \"white\", \"linecolor\": \"white\", \"ticks\": \"\", \"title\": {\"standoff\": 15}, \"zerolinecolor\": \"white\", \"zerolinewidth\": 2}, \"yaxis\": {\"automargin\": true, \"gridcolor\": \"white\", \"linecolor\": \"white\", \"ticks\": \"\", \"title\": {\"standoff\": 15}, \"zerolinecolor\": \"white\", \"zerolinewidth\": 2}}}, \"title\": {\"text\": \"Rating distribution by Type\"}},\n",
       "                        {\"responsive\": true}\n",
       "                    ).then(function(){\n",
       "                            \n",
       "var gd = document.getElementById('5a64845c-d5df-4af3-a0db-8874dc93dfb9');\n",
       "var x = new MutationObserver(function (mutations, observer) {{\n",
       "        var display = window.getComputedStyle(gd).display;\n",
       "        if (!display || display === 'none') {{\n",
       "            console.log([gd, 'removed!']);\n",
       "            Plotly.purge(gd);\n",
       "            observer.disconnect();\n",
       "        }}\n",
       "}});\n",
       "\n",
       "// Listen for the removal of the full notebook cells\n",
       "var notebookContainer = gd.closest('#notebook-container');\n",
       "if (notebookContainer) {{\n",
       "    x.observe(notebookContainer, {childList: true});\n",
       "}}\n",
       "\n",
       "// Listen for the clearing of the current output cell\n",
       "var outputEl = gd.closest('.output');\n",
       "if (outputEl) {{\n",
       "    x.observe(outputEl, {childList: true});\n",
       "}}\n",
       "\n",
       "                        })\n",
       "                };\n",
       "                });\n",
       "            </script>\n",
       "        </div>"
      ]
     },
     "metadata": {},
     "output_type": "display_data"
    }
   ],
   "source": [
    "get_cat_ratings_chart('Type')"
   ]
  },
  {
   "cell_type": "code",
   "execution_count": null,
   "metadata": {},
   "outputs": [],
   "source": []
  },
  {
   "cell_type": "code",
   "execution_count": null,
   "metadata": {},
   "outputs": [],
   "source": []
  },
  {
   "cell_type": "code",
   "execution_count": null,
   "metadata": {},
   "outputs": [],
   "source": []
  },
  {
   "cell_type": "code",
   "execution_count": 53,
   "metadata": {},
   "outputs": [],
   "source": [
    "from sklearn.model_selection import train_test_split\n",
    "\n",
    "def split_clean_data(df, y_col, drop_cols = None):\n",
    "    \n",
    "    '''\n",
    "    INPUT\n",
    "    df - pandas dataframe\n",
    "    y_col - pandas series name (string) to predict\n",
    "    drop_cols - list of pandas series names (strings) to drop and exclude (optional)\n",
    "    \n",
    "    OUTPUT\n",
    "    X - A matrix holding all of the variables you want to consider when predicting the response\n",
    "    y - the corresponding response vector\n",
    "    \n",
    "    Perform to obtain the correct X and y objects\n",
    "    This function cleans df using the following steps to produce X and y:\n",
    "    '''\n",
    "    \n",
    "    # Drop rows with missing salary values\n",
    "    df = df.dropna(subset=[y_col], axis=0)\n",
    "    y = df[y_col]\n",
    "    \n",
    "    #Drop respondent and expected salary columns\n",
    "    if drop_cols is not None:\n",
    "        df.drop(drop_cols, axis=1, inplace=True)\n",
    "    else:\n",
    "        pass\n",
    "    \n",
    "    df.drop(y_col, axis=1, inplace=True)\n",
    "    \n",
    "    # Fill numeric columns with the mean\n",
    "    num_vars = df.select_dtypes(include=['float', 'int']).columns\n",
    "    for col in num_vars:\n",
    "        df[col].fillna((df[col].mean()), inplace=True)\n",
    "        \n",
    "    # Dummy the categorical variables\n",
    "    cat_vars = df.select_dtypes(include=['object']).copy().columns\n",
    "    for var in  cat_vars:\n",
    "        # for each cat add dummy var, drop original column\n",
    "        df = pd.concat([df.drop(var, axis=1), pd.get_dummies(df[var], prefix=var, prefix_sep='_', drop_first=True)], axis=1)\n",
    "    \n",
    "    X = df\n",
    "    \n",
    "    return X, y\n",
    "\n",
    "#Use the function to create X and y\n",
    "X, y = split_clean_data(df, y_col='Rating')\n",
    "\n",
    "# use case example - create train_test_split\n",
    "X_train, X_test, y_train, y_test = train_test_split(X, y, test_size=0.33, random_state=42)"
   ]
  },
  {
   "cell_type": "code",
   "execution_count": 54,
   "metadata": {},
   "outputs": [],
   "source": [
    "# Size has the biggest correlation with our Rating column\n",
    "# We can see the correlation in our data distribution as well\n",
    "# with both columns sharing similar distribution shapes"
   ]
  },
  {
   "cell_type": "code",
   "execution_count": 57,
   "metadata": {},
   "outputs": [],
   "source": [
    "# Looking at our correlation table, the "
   ]
  },
  {
   "cell_type": "code",
   "execution_count": null,
   "metadata": {},
   "outputs": [],
   "source": []
  }
 ],
 "metadata": {
  "kernelspec": {
   "display_name": "Python 3",
   "language": "python",
   "name": "python3"
  },
  "language_info": {
   "codemirror_mode": {
    "name": "ipython",
    "version": 3
   },
   "file_extension": ".py",
   "mimetype": "text/x-python",
   "name": "python",
   "nbconvert_exporter": "python",
   "pygments_lexer": "ipython3",
   "version": "3.7.7"
  }
 },
 "nbformat": 4,
 "nbformat_minor": 4
}
